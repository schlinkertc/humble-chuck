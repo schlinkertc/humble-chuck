{
 "cells": [
  {
   "cell_type": "code",
   "execution_count": 1,
   "id": "c885926b-dcbf-4695-b0f4-2b06f1b98a3b",
   "metadata": {},
   "outputs": [],
   "source": [
    "#| default_exp config"
   ]
  },
  {
   "cell_type": "markdown",
   "id": "49fa5ed0-9832-4d17-bdbe-8dc91fc2ee66",
   "metadata": {},
   "source": [
    "# config"
   ]
  },
  {
   "cell_type": "markdown",
   "id": "9719cdb7-14b8-4185-b384-a652b12282d7",
   "metadata": {},
   "source": [
    "**The Setup**\n",
    "\n",
    "Managing configuration in Python projects can often become disorganized, with scattered environment variables and configuration files leading to hard-to-trace bugs and security risks. My projects become scattered with redundant .env files that all need to be updated when a password changes. Copying and pasting something like an API key into an EXPORT command in a terminal feels clunky. Importing `os` and setting sensitive environment variables via `os.environ` in your source code defeats their very purpose! \n",
    "\n",
    "I want to be able to store my sensitive variables in a central location to be used in multiple projects with different sections for project-specific values. I want to optionally override these options if needed, set defaults, and apply validation and throw sensible errors for missing or mal-formed values. \n",
    "\n",
    "**The Goal**  \n",
    "A centralized configuration management system for Python applications, leveraging Pydantic’s powerful Settings Management features. A module that allows you to easily manage and validate environment variables, API keys, database credentials, and other sensitive or configurable settings in a consistent and structured manner.\n",
    "\n",
    "We'll use a central .cfg file to store sensitve info in sections. Default file location will be in the home directory, but it can be optionally overridden. We'll have a parent object that will be instantiated with the file location that will pro\n",
    "\n",
    "**The Result**  \n",
    "to be filled in with specifics when we have the idea fully fleshed out. "
   ]
  }
 ],
 "metadata": {
  "kernelspec": {
   "display_name": "Python 3 (ipykernel)",
   "language": "python",
   "name": "python3"
  },
  "language_info": {
   "codemirror_mode": {
    "name": "ipython",
    "version": 3
   },
   "file_extension": ".py",
   "mimetype": "text/x-python",
   "name": "python",
   "nbconvert_exporter": "python",
   "pygments_lexer": "ipython3",
   "version": "3.11.9"
  }
 },
 "nbformat": 4,
 "nbformat_minor": 5
}
