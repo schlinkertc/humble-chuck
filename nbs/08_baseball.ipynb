{
 "cells": [
  {
   "cell_type": "code",
   "execution_count": 3,
   "id": "d586b0bd-6fa3-4936-b696-91a3644e522e",
   "metadata": {},
   "outputs": [],
   "source": [
    "#| default_exp baseball"
   ]
  },
  {
   "cell_type": "markdown",
   "id": "98dd9837-8e8e-477a-ac93-99b426ab83a9",
   "metadata": {},
   "source": [
    "# Baseball\n",
    "> Modeling the MLB Stats API"
   ]
  },
  {
   "cell_type": "code",
   "execution_count": 90,
   "id": "8f3cb4f7-ff60-46a7-afca-9bd71f17f3be",
   "metadata": {},
   "outputs": [],
   "source": [
    "from humble_chuck.models import BaseModel\n",
    "from pydantic import ConfigDict\n",
    "from enum import Enum\n",
    "import statsapi as mlb\n",
    "import datetime as dt\n",
    "from typing import *"
   ]
  },
  {
   "cell_type": "code",
   "execution_count": 5,
   "id": "cbea65a1-394a-441e-b1d9-64fb1445db21",
   "metadata": {},
   "outputs": [],
   "source": [
    "def get_season_games(season: int) -> List[dict]:\n",
    "    \"\"\"get mlb games for a given season\"\"\"\n",
    "    season = mlb.get('season',{'sportId':1,'seasonId':season})['seasons'][0]\n",
    "    start = season['seasonStartDate']\n",
    "    end = season['seasonEndDate']\n",
    "    schedule = mlb.get(\n",
    "        endpoint='schedule',\n",
    "        params={'startDate':start,'endDate':end,'sportId':1}\n",
    "    )\n",
    "\n",
    "    pks = [\n",
    "        game for dates in schedule['dates'] for game in dates['games'] \n",
    "    ]\n",
    "    \n",
    "    \n",
    "    return pks"
   ]
  },
  {
   "cell_type": "code",
   "execution_count": 6,
   "id": "0ced38c8-699f-4e5d-a1db-1704fcac7c5e",
   "metadata": {},
   "outputs": [
    {
     "data": {
      "text/plain": [
       "{'gamePk': 775296,\n",
       " 'gameGuid': '920f8c2c-a626-4716-9ffb-89b3059e2dfe',\n",
       " 'link': '/api/v1.1/game/775296/feed/live',\n",
       " 'gameType': 'W',\n",
       " 'season': '2024',\n",
       " 'gameDate': '2024-10-31T00:08:00Z',\n",
       " 'officialDate': '2024-10-30',\n",
       " 'status': {'abstractGameState': 'Final',\n",
       "  'codedGameState': 'F',\n",
       "  'detailedState': 'Final',\n",
       "  'statusCode': 'F',\n",
       "  'startTimeTBD': False,\n",
       "  'abstractGameCode': 'F'},\n",
       " 'teams': {'away': {'leagueRecord': {'wins': 4, 'losses': 1, 'pct': '.800'},\n",
       "   'score': 7,\n",
       "   'team': {'id': 119,\n",
       "    'name': 'Los Angeles Dodgers',\n",
       "    'link': '/api/v1/teams/119'},\n",
       "   'isWinner': True,\n",
       "   'splitSquad': False,\n",
       "   'seriesNumber': 1},\n",
       "  'home': {'leagueRecord': {'wins': 1, 'losses': 4, 'pct': '.200'},\n",
       "   'score': 6,\n",
       "   'team': {'id': 147,\n",
       "    'name': 'New York Yankees',\n",
       "    'link': '/api/v1/teams/147'},\n",
       "   'isWinner': False,\n",
       "   'splitSquad': False,\n",
       "   'seriesNumber': 1}},\n",
       " 'venue': {'id': 3313,\n",
       "  'name': 'Yankee Stadium',\n",
       "  'link': '/api/v1/venues/3313'},\n",
       " 'content': {'link': '/api/v1/game/775296/content'},\n",
       " 'isTie': False,\n",
       " 'gameNumber': 1,\n",
       " 'publicFacing': True,\n",
       " 'doubleHeader': 'N',\n",
       " 'gamedayType': 'P',\n",
       " 'tiebreaker': 'N',\n",
       " 'calendarEventID': '14-775296-2024-10-30',\n",
       " 'seasonDisplay': '2024',\n",
       " 'dayNight': 'night',\n",
       " 'description': 'World Series Game 5',\n",
       " 'scheduledInnings': 9,\n",
       " 'reverseHomeAwayStatus': False,\n",
       " 'inningBreakLength': 120,\n",
       " 'gamesInSeries': 7,\n",
       " 'seriesGameNumber': 5,\n",
       " 'seriesDescription': 'World Series',\n",
       " 'recordSource': 'S',\n",
       " 'ifNecessary': 'N',\n",
       " 'ifNecessaryDescription': 'Normal Game'}"
      ]
     },
     "execution_count": 6,
     "metadata": {},
     "output_type": "execute_result"
    }
   ],
   "source": [
    "games_2024 = get_season_games(2024)\n",
    "games_2024[-1]"
   ]
  },
  {
   "cell_type": "markdown",
   "id": "df675055-5fb4-46c1-b69f-a4758f09ce73",
   "metadata": {},
   "source": [
    "Quick check to see how we can filter for finished games"
   ]
  },
  {
   "cell_type": "code",
   "execution_count": 7,
   "id": "8938b4b2-34bf-4a99-8d3a-418bd719120f",
   "metadata": {},
   "outputs": [
    {
     "data": {
      "text/plain": [
       "{'Cancelled', 'Completed Early', 'Final', 'Postponed'}"
      ]
     },
     "execution_count": 7,
     "metadata": {},
     "output_type": "execute_result"
    }
   ],
   "source": [
    "{g['status']['detailedState'] for g in games_2024}"
   ]
  },
  {
   "cell_type": "code",
   "execution_count": 8,
   "id": "242353c8-3c76-46db-8b10-d4f67ea1fbb8",
   "metadata": {},
   "outputs": [
    {
     "data": {
      "text/plain": [
       "2935"
      ]
     },
     "execution_count": 8,
     "metadata": {},
     "output_type": "execute_result"
    }
   ],
   "source": [
    "completed_games = [g for g in games_2024 if g['status']['detailedState']=='Final']\n",
    "len(completed_games)"
   ]
  },
  {
   "cell_type": "markdown",
   "id": "5841d764-57dc-4284-ba8e-200ac6636c6d",
   "metadata": {},
   "source": [
    "## Game Response"
   ]
  },
  {
   "cell_type": "code",
   "execution_count": 11,
   "id": "b3a2e7dd-ff51-4171-8d80-c19a3e47aaf2",
   "metadata": {},
   "outputs": [
    {
     "data": {
      "text/plain": [
       "dict_keys(['copyright', 'gamePk', 'link', 'metaData', 'gameData', 'liveData'])"
      ]
     },
     "execution_count": 11,
     "metadata": {},
     "output_type": "execute_result"
    }
   ],
   "source": [
    "game = mlb.get('game',{'gamePk':'748266'})\n",
    "game.keys()"
   ]
  },
  {
   "cell_type": "code",
   "execution_count": 27,
   "id": "5d435427-8ad5-4aff-b484-b6edbd764648",
   "metadata": {},
   "outputs": [
    {
     "data": {
      "text/plain": [
       "{'wait': 10,\n",
       " 'timeStamp': '20240222_231445',\n",
       " 'gameEvents': ['strikeout', 'game_finished'],\n",
       " 'logicalEvents': ['midInning',\n",
       "  'countChange',\n",
       "  'count03',\n",
       "  'gameStateChangeToGameOver']}"
      ]
     },
     "execution_count": 27,
     "metadata": {},
     "output_type": "execute_result"
    }
   ],
   "source": [
    "game['metaData']"
   ]
  },
  {
   "cell_type": "code",
   "execution_count": 30,
   "id": "64c6e18d-da09-4280-8949-8c41d5451623",
   "metadata": {},
   "outputs": [],
   "source": [
    "class GameResponseBase(BaseModel):\n",
    "    \n",
    "    copyright: str\n",
    "    gamePk: int\n",
    "    link: str\n",
    "    "
   ]
  },
  {
   "cell_type": "code",
   "execution_count": 31,
   "id": "b2265875-a663-4b89-9a6a-1b12d73a8210",
   "metadata": {},
   "outputs": [
    {
     "data": {
      "application/json": {
       "copyright": "Copyright 2025 MLB Advanced Media, L.P.  Use of any content on this page acknowledges agreement to the terms posted here http://gdx.mlb.com/components/copyright.txt",
       "gamePk": 748266,
       "link": "/api/v1.1/game/748266/feed/live"
      },
      "text/html": [
       "<table border=\"1\"><tr><th>copyright</th><td>Copyright 2025 MLB Advanced Media, L.P.  Use of any content on this page acknowledges agreement to the terms posted here http://gdx.mlb.com/components/copyright.txt</td></tr><tr><th>gamePk</th><td>748266</td></tr><tr><th>link</th><td>/api/v1.1/game/748266/feed/live</td></tr></table>"
      ],
      "text/plain": [
       "GameResponseBase(copyright='Copyright 2025 MLB Advanced Media, L.P.  Use of any content on this page acknowledges agreement to the terms posted here http://gdx.mlb.com/components/copyright.txt', gamePk=748266, link='/api/v1.1/game/748266/feed/live')"
      ]
     },
     "execution_count": 31,
     "metadata": {},
     "output_type": "execute_result"
    }
   ],
   "source": [
    "GameResponseBase.model_validate(game)"
   ]
  },
  {
   "cell_type": "code",
   "execution_count": 32,
   "id": "78f5e493-cabe-435c-b64e-e2fd93a53646",
   "metadata": {},
   "outputs": [
    {
     "data": {
      "text/plain": [
       "dict_keys(['plays', 'linescore', 'boxscore', 'decisions', 'leaders'])"
      ]
     },
     "execution_count": 32,
     "metadata": {},
     "output_type": "execute_result"
    }
   ],
   "source": [
    "game['liveData'].keys()"
   ]
  },
  {
   "cell_type": "markdown",
   "id": "d18fe94b-2b0e-44c0-ae01-6abbe9ae80ad",
   "metadata": {},
   "source": [
    "## Game Data"
   ]
  },
  {
   "cell_type": "code",
   "execution_count": 88,
   "id": "2f9fc81e-ab02-4a05-9fbe-f32bd5d10586",
   "metadata": {},
   "outputs": [
    {
     "name": "stdout",
     "output_type": "stream",
     "text": [
      "dict_keys(['game', 'datetime', 'status', 'teams', 'players', 'venue', 'officialVenue', 'weather', 'gameInfo', 'review', 'flags', 'alerts', 'probablePitchers', 'officialScorer', 'primaryDatacaster', 'moundVisits'])\n"
     ]
    }
   ],
   "source": [
    "gameData = game['gameData']\n",
    "print(gameData.keys())\n"
   ]
  },
  {
   "cell_type": "code",
   "execution_count": 89,
   "id": "664e7182-f2f6-483f-aa81-e9b3f6c5df2d",
   "metadata": {},
   "outputs": [],
   "source": [
    "\n"
   ]
  },
  {
   "cell_type": "code",
   "execution_count": 45,
   "id": "3b875d72-0816-4dc5-8c20-961b4e122ea1",
   "metadata": {},
   "outputs": [
    {
     "data": {
      "text/plain": [
       "[{'id': 'S', 'description': 'Spring Training'},\n",
       " {'id': 'R', 'description': 'Regular Season'},\n",
       " {'id': 'F', 'description': 'Wild Card'},\n",
       " {'id': 'D', 'description': 'Division Series'},\n",
       " {'id': 'L', 'description': 'League Championship Series'},\n",
       " {'id': 'W', 'description': 'World Series'},\n",
       " {'id': 'C', 'description': 'Championship'},\n",
       " {'id': 'N', 'description': 'Nineteenth Century Series'},\n",
       " {'id': 'P', 'description': 'Playoffs'},\n",
       " {'id': 'A', 'description': 'All-Star Game'},\n",
       " {'id': 'I', 'description': 'Intrasquad'},\n",
       " {'id': 'E', 'description': 'Exhibition'}]"
      ]
     },
     "execution_count": 45,
     "metadata": {},
     "output_type": "execute_result"
    }
   ],
   "source": [
    "mlb.get(\n",
    "    'meta',\n",
    "    params={\n",
    "        'type':'gameTypes'\n",
    "    }\n",
    ")"
   ]
  },
  {
   "cell_type": "code",
   "execution_count": 70,
   "id": "c50f4296-aff1-4500-9661-a114e4bbcbac",
   "metadata": {},
   "outputs": [
    {
     "data": {
      "text/plain": [
       "{'P': 'Premium Gameday - 3D Pitch tracking and Premium product experience',\n",
       " 'E': 'Enhanced Gameday - 3D Pitch tracking',\n",
       " 'Y': 'Regular Gameday - Pitch by Pitch',\n",
       " 'D': 'No Gameday - Pitch by Pitch',\n",
       " 'N': 'No Gameday - Play by Play level data only',\n",
       " 'L': 'No Gameday - Linescore level data',\n",
       " 'B': 'No Gameday - PG / Box Score level data only',\n",
       " 'S': 'No Gameday - Score / Game Result level data only'}"
      ]
     },
     "execution_count": 70,
     "metadata": {},
     "output_type": "execute_result"
    }
   ],
   "source": [
    "gameday_types = mlb.get(\n",
    "    'meta',\n",
    "    params={\n",
    "        'type':'gamedayTypes'\n",
    "    }\n",
    ")\n",
    "gameday_types\n",
    "{x['code']: x['description'] for x in gameday_types}"
   ]
  },
  {
   "cell_type": "code",
   "execution_count": 71,
   "id": "fead9e93-e95d-4387-8d3a-027e8b808170",
   "metadata": {},
   "outputs": [],
   "source": [
    "#|exporti \n",
    "\n",
    "def create_enum_with_descriptions(name: str, id_to_description: dict[str, str]) -> Type[Enum]:\n",
    "    \"\"\"Dynamically create a str Enum with attached description attribute for each value.\"\"\"\n",
    "    def __new__(cls, value):\n",
    "        obj = str.__new__(cls, value)\n",
    "        obj._value_ = value\n",
    "        obj.description = id_to_description[value]\n",
    "        return obj\n",
    "\n",
    "    namespace = {\"__new__\": __new__}\n",
    "\n",
    "    # Add enum members from dict keys\n",
    "    for key, desc in id_to_description.items():\n",
    "        member_name = desc.upper().replace(\" \", \"_\").replace(\"-\", \"_\")\n",
    "        namespace[member_name] = key\n",
    "\n",
    "    return Enum(name, namespace, type=str)"
   ]
  },
  {
   "cell_type": "code",
   "execution_count": 75,
   "id": "fe5a5b4a-448d-49cc-8552-839e3ebc452e",
   "metadata": {},
   "outputs": [],
   "source": [
    "#|exporti \n",
    "\n",
    "game_type_map = {\n",
    "    'S': 'Spring Training',\n",
    "    'R': 'Regular Season',\n",
    "    'F': 'Wild Card',\n",
    "    'D': 'Division Series',\n",
    "    'L': 'League Championship Series',\n",
    "    'W': 'World Series',\n",
    "    'C': 'Championship',\n",
    "    'N': 'Nineteenth Century Series',\n",
    "    'P': 'Playoffs',\n",
    "    'A': 'All-Star Game',\n",
    "    'I': 'Intrasquad',\n",
    "    'E': 'Exhibition',\n",
    "}\n",
    "\n",
    "gameday_type_map = {'P': 'Premium Gameday - 3D Pitch tracking and Premium product experience',\n",
    " 'E': 'Enhanced Gameday - 3D Pitch tracking',\n",
    " 'Y': 'Regular Gameday - Pitch by Pitch',\n",
    " 'D': 'No Gameday - Pitch by Pitch',\n",
    " 'N': 'No Gameday - Play by Play level data only',\n",
    " 'L': 'No Gameday - Linescore level data',\n",
    " 'B': 'No Gameday - PG / Box Score level data only',\n",
    " 'S': 'No Gameday - Score / Game Result level data only'}"
   ]
  },
  {
   "cell_type": "code",
   "execution_count": 76,
   "id": "ee6ee56e-a5d1-41c7-9412-93d7e9326554",
   "metadata": {},
   "outputs": [],
   "source": [
    "#| exporti \n",
    "\n",
    "GameType = create_enum_with_descriptions(\"GameType\", game_type_map)\n",
    "GameDayType = create_enum_with_descriptions(\"GameDayType\",gameday_type_map)"
   ]
  },
  {
   "cell_type": "code",
   "execution_count": 91,
   "id": "30efd2be-357a-41cd-8ee5-d829c06799df",
   "metadata": {},
   "outputs": [],
   "source": [
    "#| export \n",
    "\n",
    "class Game(BaseModel):\n",
    "    \"\"\" Model for GameData -> Game Response\"\"\"\n",
    "    pk: int\n",
    "    type: GameType\n",
    "    doubleHeader: bool\n",
    "    id: str\n",
    "    gamedayType: GameDayType\n",
    "    tiebreaker: bool\n",
    "    gameNumber: int\n",
    "    calendarEventID: str\n",
    "    season: str\n",
    "    seasonDisplay: str\n",
    "\n",
    "    "
   ]
  },
  {
   "cell_type": "code",
   "execution_count": 92,
   "id": "2b38f8f5-ced9-471b-a9ae-18811afca043",
   "metadata": {},
   "outputs": [
    {
     "data": {
      "text/plain": [
       "{'pk': 748266,\n",
       " 'type': 'S',\n",
       " 'doubleHeader': 'N',\n",
       " 'id': '2024/02/22/lanmlb-sdnmlb-1',\n",
       " 'gamedayType': 'N',\n",
       " 'tiebreaker': 'N',\n",
       " 'gameNumber': 1,\n",
       " 'calendarEventID': '14-748266-2024-02-22',\n",
       " 'season': '2024',\n",
       " 'seasonDisplay': '2024'}"
      ]
     },
     "execution_count": 92,
     "metadata": {},
     "output_type": "execute_result"
    }
   ],
   "source": [
    "game_eg = gameData['game']\n",
    "game_eg"
   ]
  },
  {
   "cell_type": "code",
   "execution_count": 93,
   "id": "56a552b9-e956-4be8-ab1a-7ff15059d37a",
   "metadata": {},
   "outputs": [
    {
     "data": {
      "application/json": {
       "calendarEventID": "14-748266-2024-02-22",
       "doubleHeader": false,
       "gameNumber": 1,
       "gamedayType": "N",
       "id": "2024/02/22/lanmlb-sdnmlb-1",
       "pk": 748266,
       "season": "2024",
       "seasonDisplay": "2024",
       "tiebreaker": false,
       "type": "S"
      },
      "text/html": [
       "<table border=\"1\"><tr><th>pk</th><td>748266</td></tr><tr><th>type</th><td>S</td></tr><tr><th>doubleHeader</th><td>False</td></tr><tr><th>id</th><td>2024/02/22/lanmlb-sdnmlb-1</td></tr><tr><th>gamedayType</th><td>N</td></tr><tr><th>tiebreaker</th><td>False</td></tr><tr><th>gameNumber</th><td>1</td></tr><tr><th>calendarEventID</th><td>14-748266-2024-02-22</td></tr><tr><th>season</th><td>2024</td></tr><tr><th>seasonDisplay</th><td>2024</td></tr></table>"
      ],
      "text/plain": [
       "Game(pk=748266, type=<GameType.SPRING_TRAINING: 'S'>, doubleHeader=False, id='2024/02/22/lanmlb-sdnmlb-1', gamedayType=<GameDayType.NO_GAMEDAY___PLAY_BY_PLAY_LEVEL_DATA_ONLY: 'N'>, tiebreaker=False, gameNumber=1, calendarEventID='14-748266-2024-02-22', season='2024', seasonDisplay='2024')"
      ]
     },
     "execution_count": 93,
     "metadata": {},
     "output_type": "execute_result"
    }
   ],
   "source": [
    "game_validated = Game.model_validate(game_eg)\n",
    "game_validated"
   ]
  },
  {
   "cell_type": "code",
   "execution_count": 94,
   "id": "ea032568-0613-4a8f-bfaf-8a619e2cff09",
   "metadata": {},
   "outputs": [
    {
     "data": {
      "text/plain": [
       "'Spring Training'"
      ]
     },
     "execution_count": 94,
     "metadata": {},
     "output_type": "execute_result"
    }
   ],
   "source": [
    "game_validated.type.description"
   ]
  },
  {
   "cell_type": "code",
   "execution_count": 87,
   "id": "a409b7e2-834a-4e2f-aa8c-278ba0f97e00",
   "metadata": {},
   "outputs": [
    {
     "data": {
      "text/plain": [
       "'No Gameday - Play by Play level data only'"
      ]
     },
     "execution_count": 87,
     "metadata": {},
     "output_type": "execute_result"
    }
   ],
   "source": [
    "game_validated.gamedayType.description"
   ]
  },
  {
   "cell_type": "code",
   "execution_count": null,
   "id": "dba5b532-c419-4ba8-bbc4-2724965af39a",
   "metadata": {},
   "outputs": [],
   "source": [
    "game"
   ]
  }
 ],
 "metadata": {
  "kernelspec": {
   "display_name": "Python 3 (ipykernel)",
   "language": "python",
   "name": "python3"
  },
  "language_info": {
   "codemirror_mode": {
    "name": "ipython",
    "version": 3
   },
   "file_extension": ".py",
   "mimetype": "text/x-python",
   "name": "python",
   "nbconvert_exporter": "python",
   "pygments_lexer": "ipython3",
   "version": "3.11.9"
  }
 },
 "nbformat": 4,
 "nbformat_minor": 5
}
