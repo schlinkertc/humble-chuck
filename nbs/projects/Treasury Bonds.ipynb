{
 "cells": [
  {
   "cell_type": "code",
   "execution_count": null,
   "id": "b51c8c42-5492-4046-a8e0-b40cdf1fbc0c",
   "metadata": {},
   "outputs": [],
   "source": [
    "import requests\n",
    "import pandas as pd\n",
    "\n",
    "def securities_search_byType(security_type):\n",
    "    url = 'http://www.treasurydirect.gov/TA_WS/securities/search'\n",
    "    params = {'type':'{}'.format(security_type)}\n",
    "    \n",
    "    r = requests.get(url,params)\n",
    "    return pd.DataFrame(r.json())\n",
    "    "
   ]
  },
  {
   "cell_type": "code",
   "execution_count": null,
   "id": "9efade9b-b709-4dcb-8c34-0b6d299bcf27",
   "metadata": {},
   "outputs": [],
   "source": [
    "bonds = securities_search_byType('Bond')\n",
    "tips = securities_search_byType('TIPS')\n",
    "frn = securities_search_byType('FRN') # floating rate notes\n",
    "bills = securities_search_byType('Bill')"
   ]
  },
  {
   "cell_type": "code",
   "execution_count": null,
   "id": "089a637f-35d7-4d4d-b02a-5dd8f5e7a884",
   "metadata": {},
   "outputs": [],
   "source": [
    "#list(bonds.columns)"
   ]
  },
  {
   "cell_type": "code",
   "execution_count": null,
   "id": "3d28ba9f-4c00-48b8-8b9b-443566574d96",
   "metadata": {},
   "outputs": [
    {
     "data": {
      "text/html": [
       "<div>\n",
       "<style scoped>\n",
       "    .dataframe tbody tr th:only-of-type {\n",
       "        vertical-align: middle;\n",
       "    }\n",
       "\n",
       "    .dataframe tbody tr th {\n",
       "        vertical-align: top;\n",
       "    }\n",
       "\n",
       "    .dataframe thead th {\n",
       "        text-align: right;\n",
       "    }\n",
       "</style>\n",
       "<table border=\"1\" class=\"dataframe\">\n",
       "  <thead>\n",
       "    <tr style=\"text-align: right;\">\n",
       "      <th></th>\n",
       "      <th>cusip</th>\n",
       "      <th>issueDate</th>\n",
       "      <th>securityType</th>\n",
       "      <th>securityTerm</th>\n",
       "      <th>maturityDate</th>\n",
       "      <th>interestRate</th>\n",
       "      <th>refCpiOnIssueDate</th>\n",
       "      <th>refCpiOnDatedDate</th>\n",
       "      <th>announcementDate</th>\n",
       "      <th>auctionDate</th>\n",
       "      <th>...</th>\n",
       "      <th>treasuryRetailTendersAccepted</th>\n",
       "      <th>type</th>\n",
       "      <th>unadjustedAccruedInterestPer1000</th>\n",
       "      <th>unadjustedPrice</th>\n",
       "      <th>updatedTimestamp</th>\n",
       "      <th>xmlFilenameAnnouncement</th>\n",
       "      <th>xmlFilenameCompetitiveResults</th>\n",
       "      <th>xmlFilenameSpecialAnnouncement</th>\n",
       "      <th>tintCusip1</th>\n",
       "      <th>tintCusip2</th>\n",
       "    </tr>\n",
       "  </thead>\n",
       "  <tbody>\n",
       "    <tr>\n",
       "      <th>0</th>\n",
       "      <td>912810UC0</td>\n",
       "      <td>2024-09-16T00:00:00</td>\n",
       "      <td>Bond</td>\n",
       "      <td>29-Year 11-Month</td>\n",
       "      <td>2054-08-15T00:00:00</td>\n",
       "      <td>4.250000</td>\n",
       "      <td></td>\n",
       "      <td></td>\n",
       "      <td>2024-09-05T00:00:00</td>\n",
       "      <td>2024-09-12T00:00:00</td>\n",
       "      <td>...</td>\n",
       "      <td>Yes</td>\n",
       "      <td>Bond</td>\n",
       "      <td></td>\n",
       "      <td></td>\n",
       "      <td>2024-09-05T11:02:24</td>\n",
       "      <td>A_20240905_4.xml</td>\n",
       "      <td></td>\n",
       "      <td></td>\n",
       "      <td></td>\n",
       "      <td></td>\n",
       "    </tr>\n",
       "    <tr>\n",
       "      <th>2</th>\n",
       "      <td>912810UC0</td>\n",
       "      <td>2024-08-15T00:00:00</td>\n",
       "      <td>Bond</td>\n",
       "      <td>30-Year</td>\n",
       "      <td>2054-08-15T00:00:00</td>\n",
       "      <td>4.250000</td>\n",
       "      <td></td>\n",
       "      <td></td>\n",
       "      <td>2024-07-31T00:00:00</td>\n",
       "      <td>2024-08-08T00:00:00</td>\n",
       "      <td>...</td>\n",
       "      <td>Yes</td>\n",
       "      <td>Bond</td>\n",
       "      <td></td>\n",
       "      <td></td>\n",
       "      <td>2024-08-08T13:04:56</td>\n",
       "      <td>A_20240731_3.xml</td>\n",
       "      <td>R_20240808_3.xml</td>\n",
       "      <td></td>\n",
       "      <td>912834XW3</td>\n",
       "      <td></td>\n",
       "    </tr>\n",
       "    <tr>\n",
       "      <th>3</th>\n",
       "      <td>912810UB2</td>\n",
       "      <td>2024-07-31T00:00:00</td>\n",
       "      <td>Bond</td>\n",
       "      <td>19-Year 10-Month</td>\n",
       "      <td>2044-05-15T00:00:00</td>\n",
       "      <td>4.625000</td>\n",
       "      <td></td>\n",
       "      <td></td>\n",
       "      <td>2024-07-11T00:00:00</td>\n",
       "      <td>2024-07-17T00:00:00</td>\n",
       "      <td>...</td>\n",
       "      <td>Yes</td>\n",
       "      <td>Bond</td>\n",
       "      <td></td>\n",
       "      <td></td>\n",
       "      <td>2024-07-17T13:03:29</td>\n",
       "      <td>A_20240711_2.xml</td>\n",
       "      <td>R_20240717_2.xml</td>\n",
       "      <td></td>\n",
       "      <td></td>\n",
       "      <td></td>\n",
       "    </tr>\n",
       "    <tr>\n",
       "      <th>4</th>\n",
       "      <td>912810UA4</td>\n",
       "      <td>2024-07-15T00:00:00</td>\n",
       "      <td>Bond</td>\n",
       "      <td>29-Year 10-Month</td>\n",
       "      <td>2054-05-15T00:00:00</td>\n",
       "      <td>4.625000</td>\n",
       "      <td></td>\n",
       "      <td></td>\n",
       "      <td>2024-07-03T00:00:00</td>\n",
       "      <td>2024-07-11T00:00:00</td>\n",
       "      <td>...</td>\n",
       "      <td>Yes</td>\n",
       "      <td>Bond</td>\n",
       "      <td></td>\n",
       "      <td></td>\n",
       "      <td>2024-07-11T13:04:14</td>\n",
       "      <td>A_20240703_7.xml</td>\n",
       "      <td>R_20240711_3.xml</td>\n",
       "      <td></td>\n",
       "      <td></td>\n",
       "      <td></td>\n",
       "    </tr>\n",
       "    <tr>\n",
       "      <th>5</th>\n",
       "      <td>912810UB2</td>\n",
       "      <td>2024-07-01T00:00:00</td>\n",
       "      <td>Bond</td>\n",
       "      <td>19-Year 11-Month</td>\n",
       "      <td>2044-05-15T00:00:00</td>\n",
       "      <td>4.625000</td>\n",
       "      <td></td>\n",
       "      <td></td>\n",
       "      <td>2024-06-13T00:00:00</td>\n",
       "      <td>2024-06-18T00:00:00</td>\n",
       "      <td>...</td>\n",
       "      <td>Yes</td>\n",
       "      <td>Bond</td>\n",
       "      <td></td>\n",
       "      <td></td>\n",
       "      <td>2024-06-18T13:04:22</td>\n",
       "      <td>A_20240613_5.xml</td>\n",
       "      <td>R_20240618_1.xml</td>\n",
       "      <td></td>\n",
       "      <td></td>\n",
       "      <td></td>\n",
       "    </tr>\n",
       "    <tr>\n",
       "      <th>...</th>\n",
       "      <td>...</td>\n",
       "      <td>...</td>\n",
       "      <td>...</td>\n",
       "      <td>...</td>\n",
       "      <td>...</td>\n",
       "      <td>...</td>\n",
       "      <td>...</td>\n",
       "      <td>...</td>\n",
       "      <td>...</td>\n",
       "      <td>...</td>\n",
       "      <td>...</td>\n",
       "      <td>...</td>\n",
       "      <td>...</td>\n",
       "      <td>...</td>\n",
       "      <td>...</td>\n",
       "      <td>...</td>\n",
       "      <td>...</td>\n",
       "      <td>...</td>\n",
       "      <td>...</td>\n",
       "      <td>...</td>\n",
       "      <td>...</td>\n",
       "    </tr>\n",
       "    <tr>\n",
       "      <th>332</th>\n",
       "      <td>912810CV8</td>\n",
       "      <td>1981-05-15T00:00:00</td>\n",
       "      <td>Bond</td>\n",
       "      <td>30-Year</td>\n",
       "      <td>2011-05-15T00:00:00</td>\n",
       "      <td>13.875000</td>\n",
       "      <td></td>\n",
       "      <td></td>\n",
       "      <td>1981-04-29T00:00:00</td>\n",
       "      <td>1981-05-07T00:00:00</td>\n",
       "      <td>...</td>\n",
       "      <td></td>\n",
       "      <td>Bond</td>\n",
       "      <td></td>\n",
       "      <td></td>\n",
       "      <td>2024-01-09T10:27:11</td>\n",
       "      <td></td>\n",
       "      <td></td>\n",
       "      <td></td>\n",
       "      <td></td>\n",
       "      <td></td>\n",
       "    </tr>\n",
       "    <tr>\n",
       "      <th>334</th>\n",
       "      <td>912810CS5</td>\n",
       "      <td>1981-02-17T00:00:00</td>\n",
       "      <td>Bond</td>\n",
       "      <td>29-Year 9-Month</td>\n",
       "      <td>2010-11-15T00:00:00</td>\n",
       "      <td>12.750000</td>\n",
       "      <td></td>\n",
       "      <td></td>\n",
       "      <td>1981-01-28T00:00:00</td>\n",
       "      <td>1981-02-05T00:00:00</td>\n",
       "      <td>...</td>\n",
       "      <td></td>\n",
       "      <td>Bond</td>\n",
       "      <td></td>\n",
       "      <td></td>\n",
       "      <td>2007-07-18T00:00:00</td>\n",
       "      <td></td>\n",
       "      <td></td>\n",
       "      <td></td>\n",
       "      <td></td>\n",
       "      <td></td>\n",
       "    </tr>\n",
       "    <tr>\n",
       "      <th>336</th>\n",
       "      <td>912810CS5</td>\n",
       "      <td>1980-11-17T00:00:00</td>\n",
       "      <td>Bond</td>\n",
       "      <td>30-Year</td>\n",
       "      <td>2010-11-15T00:00:00</td>\n",
       "      <td>12.750000</td>\n",
       "      <td></td>\n",
       "      <td></td>\n",
       "      <td>1980-10-29T00:00:00</td>\n",
       "      <td>1980-11-07T00:00:00</td>\n",
       "      <td>...</td>\n",
       "      <td></td>\n",
       "      <td>Bond</td>\n",
       "      <td></td>\n",
       "      <td></td>\n",
       "      <td>2024-01-09T10:27:11</td>\n",
       "      <td></td>\n",
       "      <td></td>\n",
       "      <td></td>\n",
       "      <td></td>\n",
       "      <td></td>\n",
       "    </tr>\n",
       "    <tr>\n",
       "      <th>338</th>\n",
       "      <td>912810CK2</td>\n",
       "      <td>1980-08-15T00:00:00</td>\n",
       "      <td>Bond</td>\n",
       "      <td>29-Year 3-Month</td>\n",
       "      <td>2009-11-15T00:00:00</td>\n",
       "      <td>10.375000</td>\n",
       "      <td></td>\n",
       "      <td></td>\n",
       "      <td>1980-07-30T00:00:00</td>\n",
       "      <td>1980-08-07T00:00:00</td>\n",
       "      <td>...</td>\n",
       "      <td></td>\n",
       "      <td>Bond</td>\n",
       "      <td></td>\n",
       "      <td></td>\n",
       "      <td>2005-06-30T00:00:00</td>\n",
       "      <td></td>\n",
       "      <td></td>\n",
       "      <td></td>\n",
       "      <td></td>\n",
       "      <td></td>\n",
       "    </tr>\n",
       "    <tr>\n",
       "      <th>344</th>\n",
       "      <td>912810CK2</td>\n",
       "      <td>1979-11-15T00:00:00</td>\n",
       "      <td>Bond</td>\n",
       "      <td>30-Year</td>\n",
       "      <td>2009-11-15T00:00:00</td>\n",
       "      <td>10.375000</td>\n",
       "      <td></td>\n",
       "      <td></td>\n",
       "      <td>1979-10-24T00:00:00</td>\n",
       "      <td>1979-11-01T00:00:00</td>\n",
       "      <td>...</td>\n",
       "      <td></td>\n",
       "      <td>Bond</td>\n",
       "      <td></td>\n",
       "      <td></td>\n",
       "      <td>2024-01-09T10:27:11</td>\n",
       "      <td></td>\n",
       "      <td></td>\n",
       "      <td></td>\n",
       "      <td></td>\n",
       "      <td></td>\n",
       "    </tr>\n",
       "  </tbody>\n",
       "</table>\n",
       "<p>298 rows × 118 columns</p>\n",
       "</div>"
      ],
      "text/plain": [
       "         cusip            issueDate securityType      securityTerm  \\\n",
       "0    912810UC0  2024-09-16T00:00:00         Bond  29-Year 11-Month   \n",
       "2    912810UC0  2024-08-15T00:00:00         Bond           30-Year   \n",
       "3    912810UB2  2024-07-31T00:00:00         Bond  19-Year 10-Month   \n",
       "4    912810UA4  2024-07-15T00:00:00         Bond  29-Year 10-Month   \n",
       "5    912810UB2  2024-07-01T00:00:00         Bond  19-Year 11-Month   \n",
       "..         ...                  ...          ...               ...   \n",
       "332  912810CV8  1981-05-15T00:00:00         Bond           30-Year   \n",
       "334  912810CS5  1981-02-17T00:00:00         Bond   29-Year 9-Month   \n",
       "336  912810CS5  1980-11-17T00:00:00         Bond           30-Year   \n",
       "338  912810CK2  1980-08-15T00:00:00         Bond   29-Year 3-Month   \n",
       "344  912810CK2  1979-11-15T00:00:00         Bond           30-Year   \n",
       "\n",
       "            maturityDate interestRate refCpiOnIssueDate refCpiOnDatedDate  \\\n",
       "0    2054-08-15T00:00:00     4.250000                                       \n",
       "2    2054-08-15T00:00:00     4.250000                                       \n",
       "3    2044-05-15T00:00:00     4.625000                                       \n",
       "4    2054-05-15T00:00:00     4.625000                                       \n",
       "5    2044-05-15T00:00:00     4.625000                                       \n",
       "..                   ...          ...               ...               ...   \n",
       "332  2011-05-15T00:00:00    13.875000                                       \n",
       "334  2010-11-15T00:00:00    12.750000                                       \n",
       "336  2010-11-15T00:00:00    12.750000                                       \n",
       "338  2009-11-15T00:00:00    10.375000                                       \n",
       "344  2009-11-15T00:00:00    10.375000                                       \n",
       "\n",
       "        announcementDate          auctionDate  ...  \\\n",
       "0    2024-09-05T00:00:00  2024-09-12T00:00:00  ...   \n",
       "2    2024-07-31T00:00:00  2024-08-08T00:00:00  ...   \n",
       "3    2024-07-11T00:00:00  2024-07-17T00:00:00  ...   \n",
       "4    2024-07-03T00:00:00  2024-07-11T00:00:00  ...   \n",
       "5    2024-06-13T00:00:00  2024-06-18T00:00:00  ...   \n",
       "..                   ...                  ...  ...   \n",
       "332  1981-04-29T00:00:00  1981-05-07T00:00:00  ...   \n",
       "334  1981-01-28T00:00:00  1981-02-05T00:00:00  ...   \n",
       "336  1980-10-29T00:00:00  1980-11-07T00:00:00  ...   \n",
       "338  1980-07-30T00:00:00  1980-08-07T00:00:00  ...   \n",
       "344  1979-10-24T00:00:00  1979-11-01T00:00:00  ...   \n",
       "\n",
       "    treasuryRetailTendersAccepted  type unadjustedAccruedInterestPer1000  \\\n",
       "0                             Yes  Bond                                    \n",
       "2                             Yes  Bond                                    \n",
       "3                             Yes  Bond                                    \n",
       "4                             Yes  Bond                                    \n",
       "5                             Yes  Bond                                    \n",
       "..                            ...   ...                              ...   \n",
       "332                                Bond                                    \n",
       "334                                Bond                                    \n",
       "336                                Bond                                    \n",
       "338                                Bond                                    \n",
       "344                                Bond                                    \n",
       "\n",
       "    unadjustedPrice     updatedTimestamp xmlFilenameAnnouncement  \\\n",
       "0                    2024-09-05T11:02:24        A_20240905_4.xml   \n",
       "2                    2024-08-08T13:04:56        A_20240731_3.xml   \n",
       "3                    2024-07-17T13:03:29        A_20240711_2.xml   \n",
       "4                    2024-07-11T13:04:14        A_20240703_7.xml   \n",
       "5                    2024-06-18T13:04:22        A_20240613_5.xml   \n",
       "..              ...                  ...                     ...   \n",
       "332                  2024-01-09T10:27:11                           \n",
       "334                  2007-07-18T00:00:00                           \n",
       "336                  2024-01-09T10:27:11                           \n",
       "338                  2005-06-30T00:00:00                           \n",
       "344                  2024-01-09T10:27:11                           \n",
       "\n",
       "    xmlFilenameCompetitiveResults xmlFilenameSpecialAnnouncement tintCusip1  \\\n",
       "0                                                                             \n",
       "2                R_20240808_3.xml                                 912834XW3   \n",
       "3                R_20240717_2.xml                                             \n",
       "4                R_20240711_3.xml                                             \n",
       "5                R_20240618_1.xml                                             \n",
       "..                            ...                            ...        ...   \n",
       "332                                                                           \n",
       "334                                                                           \n",
       "336                                                                           \n",
       "338                                                                           \n",
       "344                                                                           \n",
       "\n",
       "    tintCusip2  \n",
       "0               \n",
       "2               \n",
       "3               \n",
       "4               \n",
       "5               \n",
       "..         ...  \n",
       "332             \n",
       "334             \n",
       "336             \n",
       "338             \n",
       "344             \n",
       "\n",
       "[298 rows x 118 columns]"
      ]
     },
     "execution_count": null,
     "metadata": {},
     "output_type": "execute_result"
    }
   ],
   "source": [
    "bonds[bonds['cusip'].duplicated(keep=False)]"
   ]
  },
  {
   "cell_type": "code",
   "execution_count": null,
   "id": "f0eb51cc-1409-487c-9c99-6804a8ae1bc2",
   "metadata": {},
   "outputs": [],
   "source": [
    "df = bonds.copy()"
   ]
  },
  {
   "cell_type": "code",
   "execution_count": null,
   "id": "15a8204f-13fa-4183-8559-64dcd2c11948",
   "metadata": {},
   "outputs": [
    {
     "data": {
      "text/html": [
       "<div>\n",
       "<style scoped>\n",
       "    .dataframe tbody tr th:only-of-type {\n",
       "        vertical-align: middle;\n",
       "    }\n",
       "\n",
       "    .dataframe tbody tr th {\n",
       "        vertical-align: top;\n",
       "    }\n",
       "\n",
       "    .dataframe thead th {\n",
       "        text-align: right;\n",
       "    }\n",
       "</style>\n",
       "<table border=\"1\" class=\"dataframe\">\n",
       "  <thead>\n",
       "    <tr style=\"text-align: right;\">\n",
       "      <th></th>\n",
       "      <th>cusip</th>\n",
       "      <th>issueDate</th>\n",
       "      <th>maturityDate</th>\n",
       "      <th>interestRate</th>\n",
       "      <th>adjustedPrice</th>\n",
       "      <th>pricePer100</th>\n",
       "      <th>couponPayment</th>\n",
       "      <th>yearsToMaturity</th>\n",
       "      <th>YTM</th>\n",
       "    </tr>\n",
       "  </thead>\n",
       "  <tbody>\n",
       "    <tr>\n",
       "      <th>0</th>\n",
       "      <td>912810UC0</td>\n",
       "      <td>2024-09-16</td>\n",
       "      <td>2054-08-15</td>\n",
       "      <td>4.250</td>\n",
       "      <td>NaN</td>\n",
       "      <td>NaN</td>\n",
       "      <td>4.250</td>\n",
       "      <td>29.931507</td>\n",
       "      <td>NaN</td>\n",
       "    </tr>\n",
       "    <tr>\n",
       "      <th>1</th>\n",
       "      <td>912810UD8</td>\n",
       "      <td>2024-09-03</td>\n",
       "      <td>2044-08-15</td>\n",
       "      <td>4.125</td>\n",
       "      <td>NaN</td>\n",
       "      <td>99.524806</td>\n",
       "      <td>4.125</td>\n",
       "      <td>19.961644</td>\n",
       "      <td>0.041587</td>\n",
       "    </tr>\n",
       "    <tr>\n",
       "      <th>2</th>\n",
       "      <td>912810UC0</td>\n",
       "      <td>2024-08-15</td>\n",
       "      <td>2054-08-15</td>\n",
       "      <td>4.250</td>\n",
       "      <td>NaN</td>\n",
       "      <td>98.928757</td>\n",
       "      <td>4.250</td>\n",
       "      <td>30.019178</td>\n",
       "      <td>0.043088</td>\n",
       "    </tr>\n",
       "    <tr>\n",
       "      <th>3</th>\n",
       "      <td>912810UB2</td>\n",
       "      <td>2024-07-31</td>\n",
       "      <td>2044-05-15</td>\n",
       "      <td>4.625</td>\n",
       "      <td>NaN</td>\n",
       "      <td>102.062500</td>\n",
       "      <td>4.625</td>\n",
       "      <td>19.802740</td>\n",
       "      <td>0.044747</td>\n",
       "    </tr>\n",
       "    <tr>\n",
       "      <th>4</th>\n",
       "      <td>912810UA4</td>\n",
       "      <td>2024-07-15</td>\n",
       "      <td>2054-05-15</td>\n",
       "      <td>4.625</td>\n",
       "      <td>NaN</td>\n",
       "      <td>103.622071</td>\n",
       "      <td>4.625</td>\n",
       "      <td>29.852055</td>\n",
       "      <td>0.044236</td>\n",
       "    </tr>\n",
       "  </tbody>\n",
       "</table>\n",
       "</div>"
      ],
      "text/plain": [
       "       cusip  issueDate maturityDate  interestRate  adjustedPrice  \\\n",
       "0  912810UC0 2024-09-16   2054-08-15         4.250            NaN   \n",
       "1  912810UD8 2024-09-03   2044-08-15         4.125            NaN   \n",
       "2  912810UC0 2024-08-15   2054-08-15         4.250            NaN   \n",
       "3  912810UB2 2024-07-31   2044-05-15         4.625            NaN   \n",
       "4  912810UA4 2024-07-15   2054-05-15         4.625            NaN   \n",
       "\n",
       "   pricePer100  couponPayment  yearsToMaturity       YTM  \n",
       "0          NaN          4.250        29.931507       NaN  \n",
       "1    99.524806          4.125        19.961644  0.041587  \n",
       "2    98.928757          4.250        30.019178  0.043088  \n",
       "3   102.062500          4.625        19.802740  0.044747  \n",
       "4   103.622071          4.625        29.852055  0.044236  "
      ]
     },
     "execution_count": null,
     "metadata": {},
     "output_type": "execute_result"
    }
   ],
   "source": [
    "import pandas as pd\n",
    "from datetime import datetime\n",
    "\n",
    "# Assuming df is your DataFrame and 'adjustedPrice' is used for current price\n",
    "df['maturityDate'] = pd.to_datetime(df['maturityDate'])\n",
    "df['issueDate'] = pd.to_datetime(df['issueDate'])\n",
    "for c in ['interestRate','adjustedPrice','pricePer100','lowPrice','lowYield','highPrice','highYield']:\n",
    "    df[c]=pd.to_numeric(df[c])\n",
    "\n",
    "# Define face value (typically 100 for bonds)\n",
    "face_value = 100\n",
    "\n",
    "# Coupon Payment calculation\n",
    "df['couponPayment'] = (df['interestRate'] / 100) * face_value\n",
    "\n",
    "# Years to maturity calculation\n",
    "df['yearsToMaturity'] = (df['maturityDate'] - df['issueDate']).dt.days / 365\n",
    "\n",
    "# Calculate Gross Yield (YTM) approximation\n",
    "df['YTM'] = (df['couponPayment'] + (face_value - df['pricePer100']) / df['yearsToMaturity']) / ((face_value + df['pricePer100']) / 2)\n",
    "\n",
    "# View the result\n",
    "df[['cusip', 'issueDate', 'maturityDate', 'interestRate', 'adjustedPrice','pricePer100', 'couponPayment', 'yearsToMaturity', 'YTM']].head()"
   ]
  },
  {
   "cell_type": "code",
   "execution_count": null,
   "id": "100bf645-5d48-4ccb-a462-5f67990a393e",
   "metadata": {},
   "outputs": [
    {
     "data": {
      "text/plain": [
       "-0.05435400243288568"
      ]
     },
     "execution_count": null,
     "metadata": {},
     "output_type": "execute_result"
    }
   ],
   "source": [
    "df['pricePer100'].corr(df['YTM'])"
   ]
  },
  {
   "cell_type": "code",
   "execution_count": null,
   "id": "222ac3b2-3a1a-47e6-a152-582290eed479",
   "metadata": {},
   "outputs": [],
   "source": [
    "import plotly.express as px"
   ]
  },
  {
   "cell_type": "code",
   "execution_count": null,
   "id": "3bc9a051-9963-49ec-8b39-75c22f77290e",
   "metadata": {},
   "outputs": [],
   "source": [
    "df['year']=df['issueDate'].dt.year.astype(str)"
   ]
  },
  {
   "cell_type": "code",
   "execution_count": null,
   "id": "d08eb76b-3641-4528-9f2a-7c885351b71d",
   "metadata": {},
   "outputs": [
    {
     "data": {
      "application/vnd.plotly.v1+json": {
       "config": {
        "plotlyServerURL": "https://plot.ly"
       },
       "data": [
        {
         "hovertemplate": "securityTerm=30-Year<br>highPrice=%{x}<br>highYield=%{y}<extra></extra>",
         "legendgroup": "30-Year",
         "marker": {
          "color": "#636efa",
          "symbol": "circle"
         },
         "mode": "markers",
         "name": "30-Year",
         "orientation": "v",
         "showlegend": true,
         "type": "scatter",
         "x": [
          98.583,
          98.889,
          98.984,
          99.546,
          98.38,
          99.643,
          98.226,
          99.572,
          99.591,
          98.666,
          98.84,
          99.59,
          99.514,
          99.887,
          99.278,
          98.728,
          98.81,
          98.644,
          98.954,
          99.677,
          99.721,
          99.223,
          98.869,
          99.44,
          99.842,
          99.789,
          99.291,
          98.202,
          99.594,
          99.271,
          99.508,
          99.489,
          99.021,
          99.844,
          99.339,
          99.198,
          99.045,
          98.342,
          99.053,
          99.09,
          98.322,
          99.021,
          99.045
         ],
         "xaxis": "x",
         "y": [
          5.598,
          6.207,
          6.452,
          6.66,
          6.625,
          6.778,
          6.13,
          6.909,
          7.66,
          6.35,
          7.22,
          7.66,
          7.29,
          8.01,
          8.19,
          8.24,
          7.98,
          8.88,
          8.85,
          8.53,
          8.15,
          8.95,
          9.11,
          9.18,
          8.89,
          8.77,
          7.56,
          7.4,
          9.29,
          9.95,
          10.68,
          11.31,
          11.87,
          12.52,
          13.34,
          12.1,
          10.48,
          14.24,
          14.01,
          12.87,
          10.18,
          11.87,
          10.48
         ],
         "yaxis": "y"
        },
        {
         "hovertemplate": "securityTerm=29-Year 9-Month<br>highPrice=%{x}<br>highYield=%{y}<extra></extra>",
         "legendgroup": "29-Year 9-Month",
         "marker": {
          "color": "#EF553B",
          "symbol": "circle"
         },
         "mode": "markers",
         "name": "29-Year 9-Month",
         "orientation": "v",
         "showlegend": true,
         "type": "scatter",
         "x": [
          104.122,
          101.777,
          100.757,
          100.27,
          102.875,
          97.453,
          100.844,
          99.966,
          95.297,
          98.739,
          101.387,
          94.071,
          96.68,
          98.99,
          100.81
         ],
         "xaxis": "x",
         "y": [
          5.83,
          6.98,
          7.93,
          8.72,
          7.87,
          9.12,
          8.79,
          7.5,
          7.65,
          11.39,
          11.82,
          11.05,
          14.47,
          14,
          12.63
         ],
         "yaxis": "y"
        },
        {
         "hovertemplate": "securityTerm=30-Year 3-Month<br>highPrice=%{x}<br>highYield=%{y}<extra></extra>",
         "legendgroup": "30-Year 3-Month",
         "marker": {
          "color": "#00cc96",
          "symbol": "circle"
         },
         "mode": "markers",
         "name": "30-Year 3-Month",
         "orientation": "v",
         "showlegend": true,
         "type": "scatter",
         "x": [
          98.904
         ],
         "xaxis": "x",
         "y": [
          7.59
         ],
         "yaxis": "y"
        },
        {
         "hovertemplate": "securityTerm=29-Year 6-Month<br>highPrice=%{x}<br>highYield=%{y}<extra></extra>",
         "legendgroup": "29-Year 6-Month",
         "marker": {
          "color": "#ab63fa",
          "symbol": "circle"
         },
         "mode": "markers",
         "name": "29-Year 6-Month",
         "orientation": "v",
         "showlegend": true,
         "type": "scatter",
         "x": [
          97.633,
          100,
          100.977,
          100.504
         ],
         "xaxis": "x",
         "y": [
          6.43,
          8,
          11.88,
          10.32
         ],
         "yaxis": "y"
        },
        {
         "hovertemplate": "securityTerm=29-Year 3-Month<br>highPrice=%{x}<br>highYield=%{y}<extra></extra>",
         "legendgroup": "29-Year 3-Month",
         "marker": {
          "color": "#FFA15A",
          "symbol": "circle"
         },
         "mode": "markers",
         "name": "29-Year 3-Month",
         "orientation": "v",
         "showlegend": true,
         "type": "scatter",
         "x": [
          102.309,
          97.4
         ],
         "xaxis": "x",
         "y": [
          8.53,
          10.66
         ],
         "yaxis": "y"
        },
        {
         "hovertemplate": "securityTerm=20-Year 1-Month<br>highPrice=%{x}<br>highYield=%{y}<extra></extra>",
         "legendgroup": "20-Year 1-Month",
         "marker": {
          "color": "#19d3f3",
          "symbol": "circle"
         },
         "mode": "markers",
         "name": "20-Year 1-Month",
         "orientation": "v",
         "showlegend": true,
         "type": "scatter",
         "x": [
          99.295,
          99.852,
          99.545,
          99.016,
          99.441,
          99.008,
          99.737,
          99.024,
          99.207,
          99.775,
          98.659,
          99.767,
          99.458,
          99.108,
          98.963,
          99.255
         ],
         "xaxis": "x",
         "y": [
          9.45,
          10.76,
          12.05,
          11.75,
          13.82,
          12.5,
          11.9,
          11.24,
          10.84,
          10.77,
          11.79,
          14.27,
          15.82,
          13.49,
          13.26,
          11.84
         ],
         "yaxis": "y"
        },
        {
         "hovertemplate": "securityTerm=19-Year 9-Month<br>highPrice=%{x}<br>highYield=%{y}<extra></extra>",
         "legendgroup": "19-Year 9-Month",
         "marker": {
          "color": "#FF6692",
          "symbol": "circle"
         },
         "mode": "markers",
         "name": "19-Year 9-Month",
         "orientation": "v",
         "showlegend": true,
         "type": "scatter",
         "x": [
          102.046
         ],
         "xaxis": "x",
         "y": [
          10.49
         ],
         "yaxis": "y"
        },
        {
         "hovertemplate": "securityTerm=19-Year 10-Month<br>highPrice=%{x}<br>highYield=%{y}<extra></extra>",
         "legendgroup": "19-Year 10-Month",
         "marker": {
          "color": "#B6E880",
          "symbol": "circle"
         },
         "mode": "markers",
         "name": "19-Year 10-Month",
         "orientation": "v",
         "showlegend": true,
         "type": "scatter",
         "x": [
          98.13,
          99.237
         ],
         "xaxis": "x",
         "y": [
          11.86,
          11.96
         ],
         "yaxis": "y"
        },
        {
         "hovertemplate": "securityTerm=15-Year 1-Month<br>highPrice=%{x}<br>highYield=%{y}<extra></extra>",
         "legendgroup": "15-Year 1-Month",
         "marker": {
          "color": "#FF97FF",
          "symbol": "circle"
         },
         "mode": "markers",
         "name": "15-Year 1-Month",
         "orientation": "v",
         "showlegend": true,
         "type": "scatter",
         "x": [
          98.197,
          99.293,
          99.13
         ],
         "xaxis": "x",
         "y": [
          11.75,
          12.72,
          10.61
         ],
         "yaxis": "y"
        },
        {
         "hovertemplate": "securityTerm=14-Year 10-Month<br>highPrice=%{x}<br>highYield=%{y}<extra></extra>",
         "legendgroup": "14-Year 10-Month",
         "marker": {
          "color": "#FECB52",
          "symbol": "circle"
         },
         "mode": "markers",
         "name": "14-Year 10-Month",
         "orientation": "v",
         "showlegend": true,
         "type": "scatter",
         "x": [
          99.515
         ],
         "xaxis": "x",
         "y": [
          10.44
         ],
         "yaxis": "y"
        }
       ],
       "layout": {
        "autosize": true,
        "legend": {
         "title": {
          "text": "securityTerm"
         },
         "tracegroupgap": 0
        },
        "margin": {
         "t": 60
        },
        "template": {
         "data": {
          "bar": [
           {
            "error_x": {
             "color": "#2a3f5f"
            },
            "error_y": {
             "color": "#2a3f5f"
            },
            "marker": {
             "line": {
              "color": "#E5ECF6",
              "width": 0.5
             },
             "pattern": {
              "fillmode": "overlay",
              "size": 10,
              "solidity": 0.2
             }
            },
            "type": "bar"
           }
          ],
          "barpolar": [
           {
            "marker": {
             "line": {
              "color": "#E5ECF6",
              "width": 0.5
             },
             "pattern": {
              "fillmode": "overlay",
              "size": 10,
              "solidity": 0.2
             }
            },
            "type": "barpolar"
           }
          ],
          "carpet": [
           {
            "aaxis": {
             "endlinecolor": "#2a3f5f",
             "gridcolor": "white",
             "linecolor": "white",
             "minorgridcolor": "white",
             "startlinecolor": "#2a3f5f"
            },
            "baxis": {
             "endlinecolor": "#2a3f5f",
             "gridcolor": "white",
             "linecolor": "white",
             "minorgridcolor": "white",
             "startlinecolor": "#2a3f5f"
            },
            "type": "carpet"
           }
          ],
          "choropleth": [
           {
            "colorbar": {
             "outlinewidth": 0,
             "ticks": ""
            },
            "type": "choropleth"
           }
          ],
          "contour": [
           {
            "colorbar": {
             "outlinewidth": 0,
             "ticks": ""
            },
            "colorscale": [
             [
              0,
              "#0d0887"
             ],
             [
              0.1111111111111111,
              "#46039f"
             ],
             [
              0.2222222222222222,
              "#7201a8"
             ],
             [
              0.3333333333333333,
              "#9c179e"
             ],
             [
              0.4444444444444444,
              "#bd3786"
             ],
             [
              0.5555555555555556,
              "#d8576b"
             ],
             [
              0.6666666666666666,
              "#ed7953"
             ],
             [
              0.7777777777777778,
              "#fb9f3a"
             ],
             [
              0.8888888888888888,
              "#fdca26"
             ],
             [
              1,
              "#f0f921"
             ]
            ],
            "type": "contour"
           }
          ],
          "contourcarpet": [
           {
            "colorbar": {
             "outlinewidth": 0,
             "ticks": ""
            },
            "type": "contourcarpet"
           }
          ],
          "heatmap": [
           {
            "colorbar": {
             "outlinewidth": 0,
             "ticks": ""
            },
            "colorscale": [
             [
              0,
              "#0d0887"
             ],
             [
              0.1111111111111111,
              "#46039f"
             ],
             [
              0.2222222222222222,
              "#7201a8"
             ],
             [
              0.3333333333333333,
              "#9c179e"
             ],
             [
              0.4444444444444444,
              "#bd3786"
             ],
             [
              0.5555555555555556,
              "#d8576b"
             ],
             [
              0.6666666666666666,
              "#ed7953"
             ],
             [
              0.7777777777777778,
              "#fb9f3a"
             ],
             [
              0.8888888888888888,
              "#fdca26"
             ],
             [
              1,
              "#f0f921"
             ]
            ],
            "type": "heatmap"
           }
          ],
          "heatmapgl": [
           {
            "colorbar": {
             "outlinewidth": 0,
             "ticks": ""
            },
            "colorscale": [
             [
              0,
              "#0d0887"
             ],
             [
              0.1111111111111111,
              "#46039f"
             ],
             [
              0.2222222222222222,
              "#7201a8"
             ],
             [
              0.3333333333333333,
              "#9c179e"
             ],
             [
              0.4444444444444444,
              "#bd3786"
             ],
             [
              0.5555555555555556,
              "#d8576b"
             ],
             [
              0.6666666666666666,
              "#ed7953"
             ],
             [
              0.7777777777777778,
              "#fb9f3a"
             ],
             [
              0.8888888888888888,
              "#fdca26"
             ],
             [
              1,
              "#f0f921"
             ]
            ],
            "type": "heatmapgl"
           }
          ],
          "histogram": [
           {
            "marker": {
             "pattern": {
              "fillmode": "overlay",
              "size": 10,
              "solidity": 0.2
             }
            },
            "type": "histogram"
           }
          ],
          "histogram2d": [
           {
            "colorbar": {
             "outlinewidth": 0,
             "ticks": ""
            },
            "colorscale": [
             [
              0,
              "#0d0887"
             ],
             [
              0.1111111111111111,
              "#46039f"
             ],
             [
              0.2222222222222222,
              "#7201a8"
             ],
             [
              0.3333333333333333,
              "#9c179e"
             ],
             [
              0.4444444444444444,
              "#bd3786"
             ],
             [
              0.5555555555555556,
              "#d8576b"
             ],
             [
              0.6666666666666666,
              "#ed7953"
             ],
             [
              0.7777777777777778,
              "#fb9f3a"
             ],
             [
              0.8888888888888888,
              "#fdca26"
             ],
             [
              1,
              "#f0f921"
             ]
            ],
            "type": "histogram2d"
           }
          ],
          "histogram2dcontour": [
           {
            "colorbar": {
             "outlinewidth": 0,
             "ticks": ""
            },
            "colorscale": [
             [
              0,
              "#0d0887"
             ],
             [
              0.1111111111111111,
              "#46039f"
             ],
             [
              0.2222222222222222,
              "#7201a8"
             ],
             [
              0.3333333333333333,
              "#9c179e"
             ],
             [
              0.4444444444444444,
              "#bd3786"
             ],
             [
              0.5555555555555556,
              "#d8576b"
             ],
             [
              0.6666666666666666,
              "#ed7953"
             ],
             [
              0.7777777777777778,
              "#fb9f3a"
             ],
             [
              0.8888888888888888,
              "#fdca26"
             ],
             [
              1,
              "#f0f921"
             ]
            ],
            "type": "histogram2dcontour"
           }
          ],
          "mesh3d": [
           {
            "colorbar": {
             "outlinewidth": 0,
             "ticks": ""
            },
            "type": "mesh3d"
           }
          ],
          "parcoords": [
           {
            "line": {
             "colorbar": {
              "outlinewidth": 0,
              "ticks": ""
             }
            },
            "type": "parcoords"
           }
          ],
          "pie": [
           {
            "automargin": true,
            "type": "pie"
           }
          ],
          "scatter": [
           {
            "fillpattern": {
             "fillmode": "overlay",
             "size": 10,
             "solidity": 0.2
            },
            "type": "scatter"
           }
          ],
          "scatter3d": [
           {
            "line": {
             "colorbar": {
              "outlinewidth": 0,
              "ticks": ""
             }
            },
            "marker": {
             "colorbar": {
              "outlinewidth": 0,
              "ticks": ""
             }
            },
            "type": "scatter3d"
           }
          ],
          "scattercarpet": [
           {
            "marker": {
             "colorbar": {
              "outlinewidth": 0,
              "ticks": ""
             }
            },
            "type": "scattercarpet"
           }
          ],
          "scattergeo": [
           {
            "marker": {
             "colorbar": {
              "outlinewidth": 0,
              "ticks": ""
             }
            },
            "type": "scattergeo"
           }
          ],
          "scattergl": [
           {
            "marker": {
             "colorbar": {
              "outlinewidth": 0,
              "ticks": ""
             }
            },
            "type": "scattergl"
           }
          ],
          "scattermapbox": [
           {
            "marker": {
             "colorbar": {
              "outlinewidth": 0,
              "ticks": ""
             }
            },
            "type": "scattermapbox"
           }
          ],
          "scatterpolar": [
           {
            "marker": {
             "colorbar": {
              "outlinewidth": 0,
              "ticks": ""
             }
            },
            "type": "scatterpolar"
           }
          ],
          "scatterpolargl": [
           {
            "marker": {
             "colorbar": {
              "outlinewidth": 0,
              "ticks": ""
             }
            },
            "type": "scatterpolargl"
           }
          ],
          "scatterternary": [
           {
            "marker": {
             "colorbar": {
              "outlinewidth": 0,
              "ticks": ""
             }
            },
            "type": "scatterternary"
           }
          ],
          "surface": [
           {
            "colorbar": {
             "outlinewidth": 0,
             "ticks": ""
            },
            "colorscale": [
             [
              0,
              "#0d0887"
             ],
             [
              0.1111111111111111,
              "#46039f"
             ],
             [
              0.2222222222222222,
              "#7201a8"
             ],
             [
              0.3333333333333333,
              "#9c179e"
             ],
             [
              0.4444444444444444,
              "#bd3786"
             ],
             [
              0.5555555555555556,
              "#d8576b"
             ],
             [
              0.6666666666666666,
              "#ed7953"
             ],
             [
              0.7777777777777778,
              "#fb9f3a"
             ],
             [
              0.8888888888888888,
              "#fdca26"
             ],
             [
              1,
              "#f0f921"
             ]
            ],
            "type": "surface"
           }
          ],
          "table": [
           {
            "cells": {
             "fill": {
              "color": "#EBF0F8"
             },
             "line": {
              "color": "white"
             }
            },
            "header": {
             "fill": {
              "color": "#C8D4E3"
             },
             "line": {
              "color": "white"
             }
            },
            "type": "table"
           }
          ]
         },
         "layout": {
          "annotationdefaults": {
           "arrowcolor": "#2a3f5f",
           "arrowhead": 0,
           "arrowwidth": 1
          },
          "autotypenumbers": "strict",
          "coloraxis": {
           "colorbar": {
            "outlinewidth": 0,
            "ticks": ""
           }
          },
          "colorscale": {
           "diverging": [
            [
             0,
             "#8e0152"
            ],
            [
             0.1,
             "#c51b7d"
            ],
            [
             0.2,
             "#de77ae"
            ],
            [
             0.3,
             "#f1b6da"
            ],
            [
             0.4,
             "#fde0ef"
            ],
            [
             0.5,
             "#f7f7f7"
            ],
            [
             0.6,
             "#e6f5d0"
            ],
            [
             0.7,
             "#b8e186"
            ],
            [
             0.8,
             "#7fbc41"
            ],
            [
             0.9,
             "#4d9221"
            ],
            [
             1,
             "#276419"
            ]
           ],
           "sequential": [
            [
             0,
             "#0d0887"
            ],
            [
             0.1111111111111111,
             "#46039f"
            ],
            [
             0.2222222222222222,
             "#7201a8"
            ],
            [
             0.3333333333333333,
             "#9c179e"
            ],
            [
             0.4444444444444444,
             "#bd3786"
            ],
            [
             0.5555555555555556,
             "#d8576b"
            ],
            [
             0.6666666666666666,
             "#ed7953"
            ],
            [
             0.7777777777777778,
             "#fb9f3a"
            ],
            [
             0.8888888888888888,
             "#fdca26"
            ],
            [
             1,
             "#f0f921"
            ]
           ],
           "sequentialminus": [
            [
             0,
             "#0d0887"
            ],
            [
             0.1111111111111111,
             "#46039f"
            ],
            [
             0.2222222222222222,
             "#7201a8"
            ],
            [
             0.3333333333333333,
             "#9c179e"
            ],
            [
             0.4444444444444444,
             "#bd3786"
            ],
            [
             0.5555555555555556,
             "#d8576b"
            ],
            [
             0.6666666666666666,
             "#ed7953"
            ],
            [
             0.7777777777777778,
             "#fb9f3a"
            ],
            [
             0.8888888888888888,
             "#fdca26"
            ],
            [
             1,
             "#f0f921"
            ]
           ]
          },
          "colorway": [
           "#636efa",
           "#EF553B",
           "#00cc96",
           "#ab63fa",
           "#FFA15A",
           "#19d3f3",
           "#FF6692",
           "#B6E880",
           "#FF97FF",
           "#FECB52"
          ],
          "font": {
           "color": "#2a3f5f"
          },
          "geo": {
           "bgcolor": "white",
           "lakecolor": "white",
           "landcolor": "#E5ECF6",
           "showlakes": true,
           "showland": true,
           "subunitcolor": "white"
          },
          "hoverlabel": {
           "align": "left"
          },
          "hovermode": "closest",
          "mapbox": {
           "style": "light"
          },
          "paper_bgcolor": "white",
          "plot_bgcolor": "#E5ECF6",
          "polar": {
           "angularaxis": {
            "gridcolor": "white",
            "linecolor": "white",
            "ticks": ""
           },
           "bgcolor": "#E5ECF6",
           "radialaxis": {
            "gridcolor": "white",
            "linecolor": "white",
            "ticks": ""
           }
          },
          "scene": {
           "xaxis": {
            "backgroundcolor": "#E5ECF6",
            "gridcolor": "white",
            "gridwidth": 2,
            "linecolor": "white",
            "showbackground": true,
            "ticks": "",
            "zerolinecolor": "white"
           },
           "yaxis": {
            "backgroundcolor": "#E5ECF6",
            "gridcolor": "white",
            "gridwidth": 2,
            "linecolor": "white",
            "showbackground": true,
            "ticks": "",
            "zerolinecolor": "white"
           },
           "zaxis": {
            "backgroundcolor": "#E5ECF6",
            "gridcolor": "white",
            "gridwidth": 2,
            "linecolor": "white",
            "showbackground": true,
            "ticks": "",
            "zerolinecolor": "white"
           }
          },
          "shapedefaults": {
           "line": {
            "color": "#2a3f5f"
           }
          },
          "ternary": {
           "aaxis": {
            "gridcolor": "white",
            "linecolor": "white",
            "ticks": ""
           },
           "baxis": {
            "gridcolor": "white",
            "linecolor": "white",
            "ticks": ""
           },
           "bgcolor": "#E5ECF6",
           "caxis": {
            "gridcolor": "white",
            "linecolor": "white",
            "ticks": ""
           }
          },
          "title": {
           "x": 0.05
          },
          "xaxis": {
           "automargin": true,
           "gridcolor": "white",
           "linecolor": "white",
           "ticks": "",
           "title": {
            "standoff": 15
           },
           "zerolinecolor": "white",
           "zerolinewidth": 2
          },
          "yaxis": {
           "automargin": true,
           "gridcolor": "white",
           "linecolor": "white",
           "ticks": "",
           "title": {
            "standoff": 15
           },
           "zerolinecolor": "white",
           "zerolinewidth": 2
          }
         }
        },
        "xaxis": {
         "anchor": "y",
         "autorange": true,
         "domain": [
          0,
          1
         ],
         "range": [
          93.47779883624273,
          104.71520116375727
         ],
         "title": {
          "text": "highPrice"
         },
         "type": "linear"
        },
        "yaxis": {
         "anchor": "x",
         "autorange": true,
         "domain": [
          0,
          1
         ],
         "range": [
          4.80653280839895,
          16.61146719160105
         ],
         "title": {
          "text": "highYield"
         },
         "type": "linear"
        }
       }
      },
      "image/png": "[encoded data removed]",
      "text/html": [
       "<div>                            <div id=\"b9f31594-0eaa-4212-91a7-eff25bb0a365\" class=\"plotly-graph-div\" style=\"height:525px; width:100%;\"></div>            <script type=\"text/javascript\">                require([\"plotly\"], function(Plotly) {                    window.PLOTLYENV=window.PLOTLYENV || {};                                    if (document.getElementById(\"b9f31594-0eaa-4212-91a7-eff25bb0a365\")) {                    Plotly.newPlot(                        \"b9f31594-0eaa-4212-91a7-eff25bb0a365\",                        [{\"hovertemplate\":\"securityTerm=30-Year\\u003cbr\\u003ehighPrice=%{x}\\u003cbr\\u003ehighYield=%{y}\\u003cextra\\u003e\\u003c\\u002fextra\\u003e\",\"legendgroup\":\"30-Year\",\"marker\":{\"color\":\"#636efa\",\"symbol\":\"circle\"},\"mode\":\"markers\",\"name\":\"30-Year\",\"orientation\":\"v\",\"showlegend\":true,\"x\":[98.583,98.889,98.984,99.546,98.38,99.643,98.226,99.572,99.591,98.666,98.84,99.59,99.514,99.887,99.278,98.728,98.81,98.644,98.954,99.677,99.721,99.223,98.869,99.44,99.842,99.789,99.291,98.202,99.594,99.271,99.508,99.489,99.021,99.844,99.339,99.198,99.045,98.342,99.053,99.09,98.322,99.021,99.045],\"xaxis\":\"x\",\"y\":[5.598,6.207,6.452,6.66,6.625,6.778,6.13,6.909,7.66,6.35,7.22,7.66,7.29,8.01,8.19,8.24,7.98,8.88,8.85,8.53,8.15,8.95,9.11,9.18,8.89,8.77,7.56,7.4,9.29,9.95,10.68,11.31,11.87,12.52,13.34,12.1,10.48,14.24,14.01,12.87,10.18,11.87,10.48],\"yaxis\":\"y\",\"type\":\"scatter\"},{\"hovertemplate\":\"securityTerm=29-Year 9-Month\\u003cbr\\u003ehighPrice=%{x}\\u003cbr\\u003ehighYield=%{y}\\u003cextra\\u003e\\u003c\\u002fextra\\u003e\",\"legendgroup\":\"29-Year 9-Month\",\"marker\":{\"color\":\"#EF553B\",\"symbol\":\"circle\"},\"mode\":\"markers\",\"name\":\"29-Year 9-Month\",\"orientation\":\"v\",\"showlegend\":true,\"x\":[104.122,101.777,100.757,100.27,102.875,97.453,100.844,99.966,95.297,98.739,101.387,94.071,96.68,98.99,100.81],\"xaxis\":\"x\",\"y\":[5.83,6.98,7.93,8.72,7.87,9.12,8.79,7.5,7.65,11.39,11.82,11.05,14.47,14.0,12.63],\"yaxis\":\"y\",\"type\":\"scatter\"},{\"hovertemplate\":\"securityTerm=30-Year 3-Month\\u003cbr\\u003ehighPrice=%{x}\\u003cbr\\u003ehighYield=%{y}\\u003cextra\\u003e\\u003c\\u002fextra\\u003e\",\"legendgroup\":\"30-Year 3-Month\",\"marker\":{\"color\":\"#00cc96\",\"symbol\":\"circle\"},\"mode\":\"markers\",\"name\":\"30-Year 3-Month\",\"orientation\":\"v\",\"showlegend\":true,\"x\":[98.904],\"xaxis\":\"x\",\"y\":[7.59],\"yaxis\":\"y\",\"type\":\"scatter\"},{\"hovertemplate\":\"securityTerm=29-Year 6-Month\\u003cbr\\u003ehighPrice=%{x}\\u003cbr\\u003ehighYield=%{y}\\u003cextra\\u003e\\u003c\\u002fextra\\u003e\",\"legendgroup\":\"29-Year 6-Month\",\"marker\":{\"color\":\"#ab63fa\",\"symbol\":\"circle\"},\"mode\":\"markers\",\"name\":\"29-Year 6-Month\",\"orientation\":\"v\",\"showlegend\":true,\"x\":[97.633,100.0,100.977,100.504],\"xaxis\":\"x\",\"y\":[6.43,8.0,11.88,10.32],\"yaxis\":\"y\",\"type\":\"scatter\"},{\"hovertemplate\":\"securityTerm=29-Year 3-Month\\u003cbr\\u003ehighPrice=%{x}\\u003cbr\\u003ehighYield=%{y}\\u003cextra\\u003e\\u003c\\u002fextra\\u003e\",\"legendgroup\":\"29-Year 3-Month\",\"marker\":{\"color\":\"#FFA15A\",\"symbol\":\"circle\"},\"mode\":\"markers\",\"name\":\"29-Year 3-Month\",\"orientation\":\"v\",\"showlegend\":true,\"x\":[102.309,97.4],\"xaxis\":\"x\",\"y\":[8.53,10.66],\"yaxis\":\"y\",\"type\":\"scatter\"},{\"hovertemplate\":\"securityTerm=20-Year 1-Month\\u003cbr\\u003ehighPrice=%{x}\\u003cbr\\u003ehighYield=%{y}\\u003cextra\\u003e\\u003c\\u002fextra\\u003e\",\"legendgroup\":\"20-Year 1-Month\",\"marker\":{\"color\":\"#19d3f3\",\"symbol\":\"circle\"},\"mode\":\"markers\",\"name\":\"20-Year 1-Month\",\"orientation\":\"v\",\"showlegend\":true,\"x\":[99.295,99.852,99.545,99.016,99.441,99.008,99.737,99.024,99.207,99.775,98.659,99.767,99.458,99.108,98.963,99.255],\"xaxis\":\"x\",\"y\":[9.45,10.76,12.05,11.75,13.82,12.5,11.9,11.24,10.84,10.77,11.79,14.27,15.82,13.49,13.26,11.84],\"yaxis\":\"y\",\"type\":\"scatter\"},{\"hovertemplate\":\"securityTerm=19-Year 9-Month\\u003cbr\\u003ehighPrice=%{x}\\u003cbr\\u003ehighYield=%{y}\\u003cextra\\u003e\\u003c\\u002fextra\\u003e\",\"legendgroup\":\"19-Year 9-Month\",\"marker\":{\"color\":\"#FF6692\",\"symbol\":\"circle\"},\"mode\":\"markers\",\"name\":\"19-Year 9-Month\",\"orientation\":\"v\",\"showlegend\":true,\"x\":[102.046],\"xaxis\":\"x\",\"y\":[10.49],\"yaxis\":\"y\",\"type\":\"scatter\"},{\"hovertemplate\":\"securityTerm=19-Year 10-Month\\u003cbr\\u003ehighPrice=%{x}\\u003cbr\\u003ehighYield=%{y}\\u003cextra\\u003e\\u003c\\u002fextra\\u003e\",\"legendgroup\":\"19-Year 10-Month\",\"marker\":{\"color\":\"#B6E880\",\"symbol\":\"circle\"},\"mode\":\"markers\",\"name\":\"19-Year 10-Month\",\"orientation\":\"v\",\"showlegend\":true,\"x\":[98.13,99.237],\"xaxis\":\"x\",\"y\":[11.86,11.96],\"yaxis\":\"y\",\"type\":\"scatter\"},{\"hovertemplate\":\"securityTerm=15-Year 1-Month\\u003cbr\\u003ehighPrice=%{x}\\u003cbr\\u003ehighYield=%{y}\\u003cextra\\u003e\\u003c\\u002fextra\\u003e\",\"legendgroup\":\"15-Year 1-Month\",\"marker\":{\"color\":\"#FF97FF\",\"symbol\":\"circle\"},\"mode\":\"markers\",\"name\":\"15-Year 1-Month\",\"orientation\":\"v\",\"showlegend\":true,\"x\":[98.197,99.293,99.13],\"xaxis\":\"x\",\"y\":[11.75,12.72,10.61],\"yaxis\":\"y\",\"type\":\"scatter\"},{\"hovertemplate\":\"securityTerm=14-Year 10-Month\\u003cbr\\u003ehighPrice=%{x}\\u003cbr\\u003ehighYield=%{y}\\u003cextra\\u003e\\u003c\\u002fextra\\u003e\",\"legendgroup\":\"14-Year 10-Month\",\"marker\":{\"color\":\"#FECB52\",\"symbol\":\"circle\"},\"mode\":\"markers\",\"name\":\"14-Year 10-Month\",\"orientation\":\"v\",\"showlegend\":true,\"x\":[99.515],\"xaxis\":\"x\",\"y\":[10.44],\"yaxis\":\"y\",\"type\":\"scatter\"}],                        {\"template\":{\"data\":{\"histogram2dcontour\":[{\"type\":\"histogram2dcontour\",\"colorbar\":{\"outlinewidth\":0,\"ticks\":\"\"},\"colorscale\":[[0.0,\"#0d0887\"],[0.1111111111111111,\"#46039f\"],[0.2222222222222222,\"#7201a8\"],[0.3333333333333333,\"#9c179e\"],[0.4444444444444444,\"#bd3786\"],[0.5555555555555556,\"#d8576b\"],[0.6666666666666666,\"#ed7953\"],[0.7777777777777778,\"#fb9f3a\"],[0.8888888888888888,\"#fdca26\"],[1.0,\"#f0f921\"]]}],\"choropleth\":[{\"type\":\"choropleth\",\"colorbar\":{\"outlinewidth\":0,\"ticks\":\"\"}}],\"histogram2d\":[{\"type\":\"histogram2d\",\"colorbar\":{\"outlinewidth\":0,\"ticks\":\"\"},\"colorscale\":[[0.0,\"#0d0887\"],[0.1111111111111111,\"#46039f\"],[0.2222222222222222,\"#7201a8\"],[0.3333333333333333,\"#9c179e\"],[0.4444444444444444,\"#bd3786\"],[0.5555555555555556,\"#d8576b\"],[0.6666666666666666,\"#ed7953\"],[0.7777777777777778,\"#fb9f3a\"],[0.8888888888888888,\"#fdca26\"],[1.0,\"#f0f921\"]]}],\"heatmap\":[{\"type\":\"heatmap\",\"colorbar\":{\"outlinewidth\":0,\"ticks\":\"\"},\"colorscale\":[[0.0,\"#0d0887\"],[0.1111111111111111,\"#46039f\"],[0.2222222222222222,\"#7201a8\"],[0.3333333333333333,\"#9c179e\"],[0.4444444444444444,\"#bd3786\"],[0.5555555555555556,\"#d8576b\"],[0.6666666666666666,\"#ed7953\"],[0.7777777777777778,\"#fb9f3a\"],[0.8888888888888888,\"#fdca26\"],[1.0,\"#f0f921\"]]}],\"heatmapgl\":[{\"type\":\"heatmapgl\",\"colorbar\":{\"outlinewidth\":0,\"ticks\":\"\"},\"colorscale\":[[0.0,\"#0d0887\"],[0.1111111111111111,\"#46039f\"],[0.2222222222222222,\"#7201a8\"],[0.3333333333333333,\"#9c179e\"],[0.4444444444444444,\"#bd3786\"],[0.5555555555555556,\"#d8576b\"],[0.6666666666666666,\"#ed7953\"],[0.7777777777777778,\"#fb9f3a\"],[0.8888888888888888,\"#fdca26\"],[1.0,\"#f0f921\"]]}],\"contourcarpet\":[{\"type\":\"contourcarpet\",\"colorbar\":{\"outlinewidth\":0,\"ticks\":\"\"}}],\"contour\":[{\"type\":\"contour\",\"colorbar\":{\"outlinewidth\":0,\"ticks\":\"\"},\"colorscale\":[[0.0,\"#0d0887\"],[0.1111111111111111,\"#46039f\"],[0.2222222222222222,\"#7201a8\"],[0.3333333333333333,\"#9c179e\"],[0.4444444444444444,\"#bd3786\"],[0.5555555555555556,\"#d8576b\"],[0.6666666666666666,\"#ed7953\"],[0.7777777777777778,\"#fb9f3a\"],[0.8888888888888888,\"#fdca26\"],[1.0,\"#f0f921\"]]}],\"surface\":[{\"type\":\"surface\",\"colorbar\":{\"outlinewidth\":0,\"ticks\":\"\"},\"colorscale\":[[0.0,\"#0d0887\"],[0.1111111111111111,\"#46039f\"],[0.2222222222222222,\"#7201a8\"],[0.3333333333333333,\"#9c179e\"],[0.4444444444444444,\"#bd3786\"],[0.5555555555555556,\"#d8576b\"],[0.6666666666666666,\"#ed7953\"],[0.7777777777777778,\"#fb9f3a\"],[0.8888888888888888,\"#fdca26\"],[1.0,\"#f0f921\"]]}],\"mesh3d\":[{\"type\":\"mesh3d\",\"colorbar\":{\"outlinewidth\":0,\"ticks\":\"\"}}],\"scatter\":[{\"fillpattern\":{\"fillmode\":\"overlay\",\"size\":10,\"solidity\":0.2},\"type\":\"scatter\"}],\"parcoords\":[{\"type\":\"parcoords\",\"line\":{\"colorbar\":{\"outlinewidth\":0,\"ticks\":\"\"}}}],\"scatterpolargl\":[{\"type\":\"scatterpolargl\",\"marker\":{\"colorbar\":{\"outlinewidth\":0,\"ticks\":\"\"}}}],\"bar\":[{\"error_x\":{\"color\":\"#2a3f5f\"},\"error_y\":{\"color\":\"#2a3f5f\"},\"marker\":{\"line\":{\"color\":\"#E5ECF6\",\"width\":0.5},\"pattern\":{\"fillmode\":\"overlay\",\"size\":10,\"solidity\":0.2}},\"type\":\"bar\"}],\"scattergeo\":[{\"type\":\"scattergeo\",\"marker\":{\"colorbar\":{\"outlinewidth\":0,\"ticks\":\"\"}}}],\"scatterpolar\":[{\"type\":\"scatterpolar\",\"marker\":{\"colorbar\":{\"outlinewidth\":0,\"ticks\":\"\"}}}],\"histogram\":[{\"marker\":{\"pattern\":{\"fillmode\":\"overlay\",\"size\":10,\"solidity\":0.2}},\"type\":\"histogram\"}],\"scattergl\":[{\"type\":\"scattergl\",\"marker\":{\"colorbar\":{\"outlinewidth\":0,\"ticks\":\"\"}}}],\"scatter3d\":[{\"type\":\"scatter3d\",\"line\":{\"colorbar\":{\"outlinewidth\":0,\"ticks\":\"\"}},\"marker\":{\"colorbar\":{\"outlinewidth\":0,\"ticks\":\"\"}}}],\"scattermapbox\":[{\"type\":\"scattermapbox\",\"marker\":{\"colorbar\":{\"outlinewidth\":0,\"ticks\":\"\"}}}],\"scatterternary\":[{\"type\":\"scatterternary\",\"marker\":{\"colorbar\":{\"outlinewidth\":0,\"ticks\":\"\"}}}],\"scattercarpet\":[{\"type\":\"scattercarpet\",\"marker\":{\"colorbar\":{\"outlinewidth\":0,\"ticks\":\"\"}}}],\"carpet\":[{\"aaxis\":{\"endlinecolor\":\"#2a3f5f\",\"gridcolor\":\"white\",\"linecolor\":\"white\",\"minorgridcolor\":\"white\",\"startlinecolor\":\"#2a3f5f\"},\"baxis\":{\"endlinecolor\":\"#2a3f5f\",\"gridcolor\":\"white\",\"linecolor\":\"white\",\"minorgridcolor\":\"white\",\"startlinecolor\":\"#2a3f5f\"},\"type\":\"carpet\"}],\"table\":[{\"cells\":{\"fill\":{\"color\":\"#EBF0F8\"},\"line\":{\"color\":\"white\"}},\"header\":{\"fill\":{\"color\":\"#C8D4E3\"},\"line\":{\"color\":\"white\"}},\"type\":\"table\"}],\"barpolar\":[{\"marker\":{\"line\":{\"color\":\"#E5ECF6\",\"width\":0.5},\"pattern\":{\"fillmode\":\"overlay\",\"size\":10,\"solidity\":0.2}},\"type\":\"barpolar\"}],\"pie\":[{\"automargin\":true,\"type\":\"pie\"}]},\"layout\":{\"autotypenumbers\":\"strict\",\"colorway\":[\"#636efa\",\"#EF553B\",\"#00cc96\",\"#ab63fa\",\"#FFA15A\",\"#19d3f3\",\"#FF6692\",\"#B6E880\",\"#FF97FF\",\"#FECB52\"],\"font\":{\"color\":\"#2a3f5f\"},\"hovermode\":\"closest\",\"hoverlabel\":{\"align\":\"left\"},\"paper_bgcolor\":\"white\",\"plot_bgcolor\":\"#E5ECF6\",\"polar\":{\"bgcolor\":\"#E5ECF6\",\"angularaxis\":{\"gridcolor\":\"white\",\"linecolor\":\"white\",\"ticks\":\"\"},\"radialaxis\":{\"gridcolor\":\"white\",\"linecolor\":\"white\",\"ticks\":\"\"}},\"ternary\":{\"bgcolor\":\"#E5ECF6\",\"aaxis\":{\"gridcolor\":\"white\",\"linecolor\":\"white\",\"ticks\":\"\"},\"baxis\":{\"gridcolor\":\"white\",\"linecolor\":\"white\",\"ticks\":\"\"},\"caxis\":{\"gridcolor\":\"white\",\"linecolor\":\"white\",\"ticks\":\"\"}},\"coloraxis\":{\"colorbar\":{\"outlinewidth\":0,\"ticks\":\"\"}},\"colorscale\":{\"sequential\":[[0.0,\"#0d0887\"],[0.1111111111111111,\"#46039f\"],[0.2222222222222222,\"#7201a8\"],[0.3333333333333333,\"#9c179e\"],[0.4444444444444444,\"#bd3786\"],[0.5555555555555556,\"#d8576b\"],[0.6666666666666666,\"#ed7953\"],[0.7777777777777778,\"#fb9f3a\"],[0.8888888888888888,\"#fdca26\"],[1.0,\"#f0f921\"]],\"sequentialminus\":[[0.0,\"#0d0887\"],[0.1111111111111111,\"#46039f\"],[0.2222222222222222,\"#7201a8\"],[0.3333333333333333,\"#9c179e\"],[0.4444444444444444,\"#bd3786\"],[0.5555555555555556,\"#d8576b\"],[0.6666666666666666,\"#ed7953\"],[0.7777777777777778,\"#fb9f3a\"],[0.8888888888888888,\"#fdca26\"],[1.0,\"#f0f921\"]],\"diverging\":[[0,\"#8e0152\"],[0.1,\"#c51b7d\"],[0.2,\"#de77ae\"],[0.3,\"#f1b6da\"],[0.4,\"#fde0ef\"],[0.5,\"#f7f7f7\"],[0.6,\"#e6f5d0\"],[0.7,\"#b8e186\"],[0.8,\"#7fbc41\"],[0.9,\"#4d9221\"],[1,\"#276419\"]]},\"xaxis\":{\"gridcolor\":\"white\",\"linecolor\":\"white\",\"ticks\":\"\",\"title\":{\"standoff\":15},\"zerolinecolor\":\"white\",\"automargin\":true,\"zerolinewidth\":2},\"yaxis\":{\"gridcolor\":\"white\",\"linecolor\":\"white\",\"ticks\":\"\",\"title\":{\"standoff\":15},\"zerolinecolor\":\"white\",\"automargin\":true,\"zerolinewidth\":2},\"scene\":{\"xaxis\":{\"backgroundcolor\":\"#E5ECF6\",\"gridcolor\":\"white\",\"linecolor\":\"white\",\"showbackground\":true,\"ticks\":\"\",\"zerolinecolor\":\"white\",\"gridwidth\":2},\"yaxis\":{\"backgroundcolor\":\"#E5ECF6\",\"gridcolor\":\"white\",\"linecolor\":\"white\",\"showbackground\":true,\"ticks\":\"\",\"zerolinecolor\":\"white\",\"gridwidth\":2},\"zaxis\":{\"backgroundcolor\":\"#E5ECF6\",\"gridcolor\":\"white\",\"linecolor\":\"white\",\"showbackground\":true,\"ticks\":\"\",\"zerolinecolor\":\"white\",\"gridwidth\":2}},\"shapedefaults\":{\"line\":{\"color\":\"#2a3f5f\"}},\"annotationdefaults\":{\"arrowcolor\":\"#2a3f5f\",\"arrowhead\":0,\"arrowwidth\":1},\"geo\":{\"bgcolor\":\"white\",\"landcolor\":\"#E5ECF6\",\"subunitcolor\":\"white\",\"showland\":true,\"showlakes\":true,\"lakecolor\":\"white\"},\"title\":{\"x\":0.05},\"mapbox\":{\"style\":\"light\"}}},\"xaxis\":{\"anchor\":\"y\",\"domain\":[0.0,1.0],\"title\":{\"text\":\"highPrice\"}},\"yaxis\":{\"anchor\":\"x\",\"domain\":[0.0,1.0],\"title\":{\"text\":\"highYield\"}},\"legend\":{\"title\":{\"text\":\"securityTerm\"},\"tracegroupgap\":0},\"margin\":{\"t\":60}},                        {\"responsive\": true}                    ).then(function(){\n",
       "                            \n",
       "var gd = document.getElementById('b9f31594-0eaa-4212-91a7-eff25bb0a365');\n",
       "var x = new MutationObserver(function (mutations, observer) {{\n",
       "        var display = window.getComputedStyle(gd).display;\n",
       "        if (!display || display === 'none') {{\n",
       "            console.log([gd, 'removed!']);\n",
       "            Plotly.purge(gd);\n",
       "            observer.disconnect();\n",
       "        }}\n",
       "}});\n",
       "\n",
       "// Listen for the removal of the full notebook cells\n",
       "var notebookContainer = gd.closest('#notebook-container');\n",
       "if (notebookContainer) {{\n",
       "    x.observe(notebookContainer, {childList: true});\n",
       "}}\n",
       "\n",
       "// Listen for the clearing of the current output cell\n",
       "var outputEl = gd.closest('.output');\n",
       "if (outputEl) {{\n",
       "    x.observe(outputEl, {childList: true});\n",
       "}}\n",
       "\n",
       "                        })                };                });            </script>        </div>"
      ]
     },
     "metadata": {},
     "output_type": "display_data"
    }
   ],
   "source": [
    "\n",
    "px.scatter(\n",
    "    data_frame=df[df['lowPrice']>0],\n",
    "    x='highPrice',\n",
    "    y='highYield',\n",
    "    color='securityTerm'\n",
    ")"
   ]
  },
  {
   "cell_type": "code",
   "execution_count": null,
   "id": "785bee71-cd3c-4461-aa5f-a0dca82e3545",
   "metadata": {},
   "outputs": [],
   "source": []
  }
 ],
 "metadata": {
  "kernelspec": {
   "display_name": "python3",
   "language": "python",
   "name": "python3"
  }
 },
 "nbformat": 4,
 "nbformat_minor": 5
}
