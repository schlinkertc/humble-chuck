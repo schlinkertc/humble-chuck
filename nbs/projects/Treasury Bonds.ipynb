{
 "cells": [
  {
   "cell_type": "code",
   "execution_count": null,
   "id": "bcc167c0-42a9-49f7-a5b9-6902cd089f9b",
   "metadata": {},
   "outputs": [],
   "source": [
    "import requests\n",
    "import pandas as pd\n",
    "import plotly.express as px\n",
    "import pandas as pd\n",
    "from datetime import datetime"
   ]
  },
  {
   "cell_type": "markdown",
   "id": "01f7a9cf-ef98-4686-83f0-605165fb2dbf",
   "metadata": {},
   "source": [
    "# Treasury Marketable Securities\n",
    "> Data provided by [Treasury Direct](https://www.treasurydirect.gov/marketable-securities/)"
   ]
  },
  {
   "cell_type": "markdown",
   "id": "057837ec-efc4-47b4-ab5d-ffcabe0937e9",
   "metadata": {},
   "source": [
    "## Intro "
   ]
  },
  {
   "cell_type": "markdown",
   "id": "7ddb6812-008f-496e-b90e-04ec084e1070",
   "metadata": {},
   "source": [
    "Treasury marketable securities are debt instruments issued by the U.S. Department of the Treasury to finance the government’s operations and obligations. They are backed by the full faith and credit of the U.S. Government. \n",
    "\n",
    "A security is a financial tool that represents value other than cash. The most common examples are stocks and bonds. Treasury securities are like bonds in that they are debt instruments that represent money borrowed. In return, the borrower promises to pay back the money at a future date, often with interest. Think of it as lending money to someone who will pay you back later, plus a little extra. 'Marketable' means that they can be bought and sold after they are originally issued. \n",
    "\n",
    "For the government, treasury securities are a key tool to raise funds to cover budget deficits, pay for infrastructure, defense, social programs, and other federal expenditures. They enable the government to finance deficits, ensuring it can meet its spending commitments without needing to raise taxes or cut services. They're also a monetary policy tool. These securities in the open market to control the money supply and interest rates, thereby influencing economic activity. This is part of the Fed’s open market operations.  \n",
    "\n",
    "For the investors that buy them, treasury securities offer a safe investment that is highly liquid, meaning it can easily be bought and sold. During periods of economic uncertainty or market volatility, investors flock to Treasuries for safety. This keeps demand high, particularly in global financial markets. The issuance and trading of Treasury securities reflect government fiscal policy and can influence market perceptions about economic health, debt sustainability, and inflation expectations."
   ]
  },
  {
   "cell_type": "markdown",
   "id": "5d7c02ab-ee49-40ee-9014-aab1c66e0047",
   "metadata": {},
   "source": [
    "## Data"
   ]
  },
  {
   "cell_type": "markdown",
   "id": "24c0d5cb-6cd4-4c26-8abf-8acf01f17266",
   "metadata": {},
   "source": [
    "The major types of Treasury marketable securities include:\n",
    "- **Treasury Bills (T-Bills)**: Short-term securities that mature in one year or less. They are sold at a discount and do not pay interest but instead are redeemed at face value upon maturity.\n",
    "- **Treasury Notes (T-Notes)**: Medium-term securities with maturities ranging from 2 to 10 years. These securities pay interest every six months.\n",
    "- **Treasury Bonds (T-Bonds)**: Long-term securities with maturities of 20 to 30 years. They also pay interest every six months.\n",
    "- **Treasury Inflation-Protected Securities (TIPS)**: Securities that provide protection against inflation. Their principal value adjusts based on changes in the Consumer Price Index (CPI), and they pay interest twice a year."
   ]
  },
  {
   "cell_type": "markdown",
   "id": "94b177e7-8c2d-4df7-81c7-7d6f1a907896",
   "metadata": {},
   "source": [
    "We'll look at the underlying data provided by the Treasury to see if we can learn more about the economy as a whole."
   ]
  },
  {
   "cell_type": "markdown",
   "id": "491492f6-81ec-4e19-a008-d85ab804094f",
   "metadata": {},
   "source": [
    "### Request\n",
    "> A `GET` request to [treasurydirect.gov](treasurydirect.gov)"
   ]
  },
  {
   "cell_type": "code",
   "execution_count": null,
   "id": "c24373bb-9f83-401d-a65f-84a57627bd06",
   "metadata": {},
   "outputs": [],
   "source": [
    "def securities_search(security_type):\n",
    "    url = 'http://www.treasurydirect.gov/TA_WS/securities/search'\n",
    "    params = {'type':'{}'.format(security_type)}\n",
    "    \n",
    "    r = requests.get(url,params)\n",
    "    return r.json()\n",
    "    "
   ]
  },
  {
   "cell_type": "markdown",
   "id": "fcc8e41e-7a50-4c0a-8f9f-7d9edf85b3a1",
   "metadata": {},
   "source": [
    "A quick preview: "
   ]
  },
  {
   "cell_type": "code",
   "execution_count": null,
   "id": "bac3f1bc-18af-4471-9fdd-dcf3ec8585f6",
   "metadata": {},
   "outputs": [
    {
     "data": {
      "text/html": [
       "<div>\n",
       "<style scoped>\n",
       "    .dataframe tbody tr th:only-of-type {\n",
       "        vertical-align: middle;\n",
       "    }\n",
       "\n",
       "    .dataframe tbody tr th {\n",
       "        vertical-align: top;\n",
       "    }\n",
       "\n",
       "    .dataframe thead th {\n",
       "        text-align: right;\n",
       "    }\n",
       "</style>\n",
       "<table border=\"1\" class=\"dataframe\">\n",
       "  <thead>\n",
       "    <tr style=\"text-align: right;\">\n",
       "      <th></th>\n",
       "      <th>cusip</th>\n",
       "      <th>issueDate</th>\n",
       "      <th>securityType</th>\n",
       "      <th>securityTerm</th>\n",
       "      <th>maturityDate</th>\n",
       "      <th>interestRate</th>\n",
       "      <th>refCpiOnIssueDate</th>\n",
       "      <th>refCpiOnDatedDate</th>\n",
       "      <th>announcementDate</th>\n",
       "      <th>auctionDate</th>\n",
       "      <th>...</th>\n",
       "      <th>treasuryRetailTendersAccepted</th>\n",
       "      <th>type</th>\n",
       "      <th>unadjustedAccruedInterestPer1000</th>\n",
       "      <th>unadjustedPrice</th>\n",
       "      <th>updatedTimestamp</th>\n",
       "      <th>xmlFilenameAnnouncement</th>\n",
       "      <th>xmlFilenameCompetitiveResults</th>\n",
       "      <th>xmlFilenameSpecialAnnouncement</th>\n",
       "      <th>tintCusip1</th>\n",
       "      <th>tintCusip2</th>\n",
       "    </tr>\n",
       "  </thead>\n",
       "  <tbody>\n",
       "    <tr>\n",
       "      <th>0</th>\n",
       "      <td>91282CLM1</td>\n",
       "      <td>2024-09-30T00:00:00</td>\n",
       "      <td>Note</td>\n",
       "      <td>7-Year</td>\n",
       "      <td>2031-09-30T00:00:00</td>\n",
       "      <td></td>\n",
       "      <td></td>\n",
       "      <td></td>\n",
       "      <td>2024-09-19T00:00:00</td>\n",
       "      <td>2024-09-26T00:00:00</td>\n",
       "      <td>...</td>\n",
       "      <td>Yes</td>\n",
       "      <td>Note</td>\n",
       "      <td></td>\n",
       "      <td></td>\n",
       "      <td>2024-09-19T11:02:43</td>\n",
       "      <td>A_20240919_5.xml</td>\n",
       "      <td></td>\n",
       "      <td></td>\n",
       "      <td>912834XZ6</td>\n",
       "      <td></td>\n",
       "    </tr>\n",
       "    <tr>\n",
       "      <th>1</th>\n",
       "      <td>91282CLN9</td>\n",
       "      <td>2024-09-30T00:00:00</td>\n",
       "      <td>Note</td>\n",
       "      <td>5-Year</td>\n",
       "      <td>2029-09-30T00:00:00</td>\n",
       "      <td></td>\n",
       "      <td></td>\n",
       "      <td></td>\n",
       "      <td>2024-09-19T00:00:00</td>\n",
       "      <td>2024-09-25T00:00:00</td>\n",
       "      <td>...</td>\n",
       "      <td>Yes</td>\n",
       "      <td>Note</td>\n",
       "      <td></td>\n",
       "      <td></td>\n",
       "      <td>2024-09-19T11:40:24</td>\n",
       "      <td>A_20240919_4.xml</td>\n",
       "      <td></td>\n",
       "      <td></td>\n",
       "      <td></td>\n",
       "      <td></td>\n",
       "    </tr>\n",
       "    <tr>\n",
       "      <th>2</th>\n",
       "      <td>91282CLP4</td>\n",
       "      <td>2024-09-30T00:00:00</td>\n",
       "      <td>Note</td>\n",
       "      <td>2-Year</td>\n",
       "      <td>2026-09-30T00:00:00</td>\n",
       "      <td></td>\n",
       "      <td></td>\n",
       "      <td></td>\n",
       "      <td>2024-09-19T00:00:00</td>\n",
       "      <td>2024-09-24T00:00:00</td>\n",
       "      <td>...</td>\n",
       "      <td>Yes</td>\n",
       "      <td>Note</td>\n",
       "      <td></td>\n",
       "      <td></td>\n",
       "      <td>2024-09-19T11:02:28</td>\n",
       "      <td>A_20240919_2.xml</td>\n",
       "      <td></td>\n",
       "      <td></td>\n",
       "      <td></td>\n",
       "      <td></td>\n",
       "    </tr>\n",
       "    <tr>\n",
       "      <th>3</th>\n",
       "      <td>91282CLF6</td>\n",
       "      <td>2024-09-16T00:00:00</td>\n",
       "      <td>Note</td>\n",
       "      <td>9-Year 11-Month</td>\n",
       "      <td>2034-08-15T00:00:00</td>\n",
       "      <td>3.875000</td>\n",
       "      <td></td>\n",
       "      <td></td>\n",
       "      <td>2024-09-05T00:00:00</td>\n",
       "      <td>2024-09-11T00:00:00</td>\n",
       "      <td>...</td>\n",
       "      <td>Yes</td>\n",
       "      <td>Note</td>\n",
       "      <td></td>\n",
       "      <td></td>\n",
       "      <td>2024-09-11T13:04:03</td>\n",
       "      <td>A_20240905_1.xml</td>\n",
       "      <td>R_20240911_2.xml</td>\n",
       "      <td></td>\n",
       "      <td></td>\n",
       "      <td></td>\n",
       "    </tr>\n",
       "    <tr>\n",
       "      <th>4</th>\n",
       "      <td>91282CLL3</td>\n",
       "      <td>2024-09-16T00:00:00</td>\n",
       "      <td>Note</td>\n",
       "      <td>3-Year</td>\n",
       "      <td>2027-09-15T00:00:00</td>\n",
       "      <td>3.375000</td>\n",
       "      <td></td>\n",
       "      <td></td>\n",
       "      <td>2024-09-05T00:00:00</td>\n",
       "      <td>2024-09-10T00:00:00</td>\n",
       "      <td>...</td>\n",
       "      <td>Yes</td>\n",
       "      <td>Note</td>\n",
       "      <td></td>\n",
       "      <td></td>\n",
       "      <td>2024-09-10T13:03:53</td>\n",
       "      <td>A_20240905_6.xml</td>\n",
       "      <td>R_20240910_2.xml</td>\n",
       "      <td></td>\n",
       "      <td>912834XY9</td>\n",
       "      <td></td>\n",
       "    </tr>\n",
       "  </tbody>\n",
       "</table>\n",
       "<p>5 rows × 118 columns</p>\n",
       "</div>"
      ],
      "text/plain": [
       "       cusip            issueDate securityType     securityTerm  \\\n",
       "0  91282CLM1  2024-09-30T00:00:00         Note           7-Year   \n",
       "1  91282CLN9  2024-09-30T00:00:00         Note           5-Year   \n",
       "2  91282CLP4  2024-09-30T00:00:00         Note           2-Year   \n",
       "3  91282CLF6  2024-09-16T00:00:00         Note  9-Year 11-Month   \n",
       "4  91282CLL3  2024-09-16T00:00:00         Note           3-Year   \n",
       "\n",
       "          maturityDate interestRate refCpiOnIssueDate refCpiOnDatedDate  \\\n",
       "0  2031-09-30T00:00:00                                                    \n",
       "1  2029-09-30T00:00:00                                                    \n",
       "2  2026-09-30T00:00:00                                                    \n",
       "3  2034-08-15T00:00:00     3.875000                                       \n",
       "4  2027-09-15T00:00:00     3.375000                                       \n",
       "\n",
       "      announcementDate          auctionDate  ...  \\\n",
       "0  2024-09-19T00:00:00  2024-09-26T00:00:00  ...   \n",
       "1  2024-09-19T00:00:00  2024-09-25T00:00:00  ...   \n",
       "2  2024-09-19T00:00:00  2024-09-24T00:00:00  ...   \n",
       "3  2024-09-05T00:00:00  2024-09-11T00:00:00  ...   \n",
       "4  2024-09-05T00:00:00  2024-09-10T00:00:00  ...   \n",
       "\n",
       "  treasuryRetailTendersAccepted  type unadjustedAccruedInterestPer1000  \\\n",
       "0                           Yes  Note                                    \n",
       "1                           Yes  Note                                    \n",
       "2                           Yes  Note                                    \n",
       "3                           Yes  Note                                    \n",
       "4                           Yes  Note                                    \n",
       "\n",
       "  unadjustedPrice     updatedTimestamp xmlFilenameAnnouncement  \\\n",
       "0                  2024-09-19T11:02:43        A_20240919_5.xml   \n",
       "1                  2024-09-19T11:40:24        A_20240919_4.xml   \n",
       "2                  2024-09-19T11:02:28        A_20240919_2.xml   \n",
       "3                  2024-09-11T13:04:03        A_20240905_1.xml   \n",
       "4                  2024-09-10T13:03:53        A_20240905_6.xml   \n",
       "\n",
       "  xmlFilenameCompetitiveResults xmlFilenameSpecialAnnouncement tintCusip1  \\\n",
       "0                                                               912834XZ6   \n",
       "1                                                                           \n",
       "2                                                                           \n",
       "3              R_20240911_2.xml                                             \n",
       "4              R_20240910_2.xml                                 912834XY9   \n",
       "\n",
       "  tintCusip2  \n",
       "0             \n",
       "1             \n",
       "2             \n",
       "3             \n",
       "4             \n",
       "\n",
       "[5 rows x 118 columns]"
      ]
     },
     "execution_count": null,
     "metadata": {},
     "output_type": "execute_result"
    }
   ],
   "source": [
    "notes = securities_search('Note') # <-- returns a list of dictionaries \n",
    "pd.DataFrame(notes[:5])"
   ]
  },
  {
   "cell_type": "markdown",
   "id": "c793cd41-c7eb-4fcf-9618-6672a903928c",
   "metadata": {},
   "source": [
    "### Data Modeling "
   ]
  },
  {
   "cell_type": "code",
   "execution_count": null,
   "id": "9efade9b-b709-4dcb-8c34-0b6d299bcf27",
   "metadata": {},
   "outputs": [],
   "source": [
    "all_data = dict(\n",
    "    notes = securities_search('Note'),\n",
    "    bonds = securities_search('Bond'),\n",
    "    tips = securities_search('TIPS'), # inflation protected securities \n",
    "    frn = securities_search('FRN'), # floating rate notes\n",
    "    bills = securities_search('Bill')\n",
    ")\n"
   ]
  },
  {
   "cell_type": "code",
   "execution_count": null,
   "id": "10f1ec00-a711-4e26-a141-6cf9e454eabd",
   "metadata": {},
   "outputs": [],
   "source": []
  },
  {
   "cell_type": "code",
   "execution_count": null,
   "id": "ff156bd9-f9d7-49b4-a302-d325aedafe4a",
   "metadata": {},
   "outputs": [],
   "source": [
    "df = pd.DataFrame(all_data['bonds'])\n",
    "df['maturityDate'] = pd.to_datetime(df['maturityDate'])\n",
    "df['issueDate'] = pd.to_datetime(df['issueDate'])\n",
    "for c in ['interestRate','adjustedPrice','pricePer100','lowPrice','lowYield','highPrice','highYield']:\n",
    "    df[c]=pd.to_numeric(df[c])"
   ]
  },
  {
   "cell_type": "code",
   "execution_count": null,
   "id": "15a8204f-13fa-4183-8559-64dcd2c11948",
   "metadata": {},
   "outputs": [
    {
     "data": {
      "text/html": [
       "<div>\n",
       "<style scoped>\n",
       "    .dataframe tbody tr th:only-of-type {\n",
       "        vertical-align: middle;\n",
       "    }\n",
       "\n",
       "    .dataframe tbody tr th {\n",
       "        vertical-align: top;\n",
       "    }\n",
       "\n",
       "    .dataframe thead th {\n",
       "        text-align: right;\n",
       "    }\n",
       "</style>\n",
       "<table border=\"1\" class=\"dataframe\">\n",
       "  <thead>\n",
       "    <tr style=\"text-align: right;\">\n",
       "      <th></th>\n",
       "      <th>cusip</th>\n",
       "      <th>issueDate</th>\n",
       "      <th>maturityDate</th>\n",
       "      <th>interestRate</th>\n",
       "      <th>adjustedPrice</th>\n",
       "      <th>pricePer100</th>\n",
       "      <th>couponPayment</th>\n",
       "      <th>yearsToMaturity</th>\n",
       "      <th>YTM</th>\n",
       "    </tr>\n",
       "  </thead>\n",
       "  <tbody>\n",
       "    <tr>\n",
       "      <th>0</th>\n",
       "      <td>912810UD8</td>\n",
       "      <td>2024-09-30</td>\n",
       "      <td>2044-08-15</td>\n",
       "      <td>4.125</td>\n",
       "      <td>NaN</td>\n",
       "      <td>101.159820</td>\n",
       "      <td>4.125</td>\n",
       "      <td>19.887671</td>\n",
       "      <td>0.040432</td>\n",
       "    </tr>\n",
       "    <tr>\n",
       "      <th>1</th>\n",
       "      <td>912810UC0</td>\n",
       "      <td>2024-09-16</td>\n",
       "      <td>2054-08-15</td>\n",
       "      <td>4.250</td>\n",
       "      <td>NaN</td>\n",
       "      <td>104.064869</td>\n",
       "      <td>4.250</td>\n",
       "      <td>29.931507</td>\n",
       "      <td>0.040322</td>\n",
       "    </tr>\n",
       "    <tr>\n",
       "      <th>2</th>\n",
       "      <td>912810UD8</td>\n",
       "      <td>2024-09-03</td>\n",
       "      <td>2044-08-15</td>\n",
       "      <td>4.125</td>\n",
       "      <td>NaN</td>\n",
       "      <td>99.524806</td>\n",
       "      <td>4.125</td>\n",
       "      <td>19.961644</td>\n",
       "      <td>0.041587</td>\n",
       "    </tr>\n",
       "    <tr>\n",
       "      <th>3</th>\n",
       "      <td>912810UC0</td>\n",
       "      <td>2024-08-15</td>\n",
       "      <td>2054-08-15</td>\n",
       "      <td>4.250</td>\n",
       "      <td>NaN</td>\n",
       "      <td>98.928757</td>\n",
       "      <td>4.250</td>\n",
       "      <td>30.019178</td>\n",
       "      <td>0.043088</td>\n",
       "    </tr>\n",
       "    <tr>\n",
       "      <th>4</th>\n",
       "      <td>912810UB2</td>\n",
       "      <td>2024-07-31</td>\n",
       "      <td>2044-05-15</td>\n",
       "      <td>4.625</td>\n",
       "      <td>NaN</td>\n",
       "      <td>102.062500</td>\n",
       "      <td>4.625</td>\n",
       "      <td>19.802740</td>\n",
       "      <td>0.044747</td>\n",
       "    </tr>\n",
       "  </tbody>\n",
       "</table>\n",
       "</div>"
      ],
      "text/plain": [
       "       cusip  issueDate maturityDate  interestRate  adjustedPrice  \\\n",
       "0  912810UD8 2024-09-30   2044-08-15         4.125            NaN   \n",
       "1  912810UC0 2024-09-16   2054-08-15         4.250            NaN   \n",
       "2  912810UD8 2024-09-03   2044-08-15         4.125            NaN   \n",
       "3  912810UC0 2024-08-15   2054-08-15         4.250            NaN   \n",
       "4  912810UB2 2024-07-31   2044-05-15         4.625            NaN   \n",
       "\n",
       "   pricePer100  couponPayment  yearsToMaturity       YTM  \n",
       "0   101.159820          4.125        19.887671  0.040432  \n",
       "1   104.064869          4.250        29.931507  0.040322  \n",
       "2    99.524806          4.125        19.961644  0.041587  \n",
       "3    98.928757          4.250        30.019178  0.043088  \n",
       "4   102.062500          4.625        19.802740  0.044747  "
      ]
     },
     "execution_count": null,
     "metadata": {},
     "output_type": "execute_result"
    }
   ],
   "source": [
    "\n",
    "\n",
    "\n",
    "\n",
    "# Define face value (typically 100 for bonds)\n",
    "face_value = 100\n",
    "\n",
    "# Coupon Payment calculation\n",
    "df['couponPayment'] = (df['interestRate'] / 100) * face_value\n",
    "\n",
    "# Years to maturity calculation\n",
    "df['yearsToMaturity'] = (df['maturityDate'] - df['issueDate']).dt.days / 365\n",
    "\n",
    "# Calculate Gross Yield (YTM) approximation\n",
    "df['YTM'] = (df['couponPayment'] + (face_value - df['pricePer100']) / df['yearsToMaturity']) / ((face_value + df['pricePer100']) / 2)\n",
    "\n",
    "# View the result\n",
    "df[['cusip', 'issueDate', 'maturityDate', 'interestRate', 'adjustedPrice','pricePer100', 'couponPayment', 'yearsToMaturity', 'YTM']].head()"
   ]
  },
  {
   "cell_type": "code",
   "execution_count": null,
   "id": "100bf645-5d48-4ccb-a462-5f67990a393e",
   "metadata": {},
   "outputs": [
    {
     "data": {
      "text/plain": [
       "-0.049642087831047434"
      ]
     },
     "execution_count": null,
     "metadata": {},
     "output_type": "execute_result"
    }
   ],
   "source": [
    "df['pricePer100'].corr(df['YTM'])"
   ]
  },
  {
   "cell_type": "code",
   "execution_count": null,
   "id": "5f6aeb71-9711-4282-8ad7-0328b6fbef3c",
   "metadata": {},
   "outputs": [
    {
     "data": {
      "application/vnd.plotly.v1+json": {
       "config": {
        "plotlyServerURL": "https://plot.ly"
       },
       "data": [
        {
         "hovertemplate": "securityTerm=30-Year<br>highPrice=%{x}<br>highYield=%{y}<extra></extra>",
         "legendgroup": "30-Year",
         "marker": {
          "color": "#636efa",
          "symbol": "circle"
         },
         "mode": "markers",
         "name": "30-Year",
         "orientation": "v",
         "showlegend": true,
         "type": "scatter",
         "x": [
          98.583,
          98.889,
          98.984,
          99.546,
          98.38,
          99.643,
          98.226,
          99.572,
          99.591,
          98.666,
          98.84,
          99.59,
          99.514,
          99.887,
          99.278,
          98.728,
          98.81,
          98.644,
          98.954,
          99.677,
          99.721,
          99.223,
          98.869,
          99.44,
          99.842,
          99.789,
          99.291,
          98.202,
          99.594,
          99.271,
          99.508,
          99.489,
          99.021,
          99.844,
          99.339,
          99.198,
          99.045,
          98.342,
          99.053,
          99.09,
          98.322,
          99.021,
          99.045
         ],
         "xaxis": "x",
         "y": [
          5.598,
          6.207,
          6.452,
          6.66,
          6.625,
          6.778,
          6.13,
          6.909,
          7.66,
          6.35,
          7.22,
          7.66,
          7.29,
          8.01,
          8.19,
          8.24,
          7.98,
          8.88,
          8.85,
          8.53,
          8.15,
          8.95,
          9.11,
          9.18,
          8.89,
          8.77,
          7.56,
          7.4,
          9.29,
          9.95,
          10.68,
          11.31,
          11.87,
          12.52,
          13.34,
          12.1,
          10.48,
          14.24,
          14.01,
          12.87,
          10.18,
          11.87,
          10.48
         ],
         "yaxis": "y"
        },
        {
         "hovertemplate": "securityTerm=29-Year 9-Month<br>highPrice=%{x}<br>highYield=%{y}<extra></extra>",
         "legendgroup": "29-Year 9-Month",
         "marker": {
          "color": "#EF553B",
          "symbol": "circle"
         },
         "mode": "markers",
         "name": "29-Year 9-Month",
         "orientation": "v",
         "showlegend": true,
         "type": "scatter",
         "x": [
          104.122,
          101.777,
          100.757,
          100.27,
          102.875,
          97.453,
          100.844,
          99.966,
          95.297,
          98.739,
          101.387,
          94.071,
          96.68,
          98.99,
          100.81
         ],
         "xaxis": "x",
         "y": [
          5.83,
          6.98,
          7.93,
          8.72,
          7.87,
          9.12,
          8.79,
          7.5,
          7.65,
          11.39,
          11.82,
          11.05,
          14.47,
          14,
          12.63
         ],
         "yaxis": "y"
        },
        {
         "hovertemplate": "securityTerm=30-Year 3-Month<br>highPrice=%{x}<br>highYield=%{y}<extra></extra>",
         "legendgroup": "30-Year 3-Month",
         "marker": {
          "color": "#00cc96",
          "symbol": "circle"
         },
         "mode": "markers",
         "name": "30-Year 3-Month",
         "orientation": "v",
         "showlegend": true,
         "type": "scatter",
         "x": [
          98.904
         ],
         "xaxis": "x",
         "y": [
          7.59
         ],
         "yaxis": "y"
        },
        {
         "hovertemplate": "securityTerm=29-Year 6-Month<br>highPrice=%{x}<br>highYield=%{y}<extra></extra>",
         "legendgroup": "29-Year 6-Month",
         "marker": {
          "color": "#ab63fa",
          "symbol": "circle"
         },
         "mode": "markers",
         "name": "29-Year 6-Month",
         "orientation": "v",
         "showlegend": true,
         "type": "scatter",
         "x": [
          97.633,
          100,
          100.977,
          100.504
         ],
         "xaxis": "x",
         "y": [
          6.43,
          8,
          11.88,
          10.32
         ],
         "yaxis": "y"
        },
        {
         "hovertemplate": "securityTerm=29-Year 3-Month<br>highPrice=%{x}<br>highYield=%{y}<extra></extra>",
         "legendgroup": "29-Year 3-Month",
         "marker": {
          "color": "#FFA15A",
          "symbol": "circle"
         },
         "mode": "markers",
         "name": "29-Year 3-Month",
         "orientation": "v",
         "showlegend": true,
         "type": "scatter",
         "x": [
          102.309,
          97.4
         ],
         "xaxis": "x",
         "y": [
          8.53,
          10.66
         ],
         "yaxis": "y"
        },
        {
         "hovertemplate": "securityTerm=20-Year 1-Month<br>highPrice=%{x}<br>highYield=%{y}<extra></extra>",
         "legendgroup": "20-Year 1-Month",
         "marker": {
          "color": "#19d3f3",
          "symbol": "circle"
         },
         "mode": "markers",
         "name": "20-Year 1-Month",
         "orientation": "v",
         "showlegend": true,
         "type": "scatter",
         "x": [
          99.295,
          99.852,
          99.545,
          99.016,
          99.441,
          99.008,
          99.737,
          99.024,
          99.207,
          99.775,
          98.659,
          99.767,
          99.458,
          99.108,
          98.963,
          99.255
         ],
         "xaxis": "x",
         "y": [
          9.45,
          10.76,
          12.05,
          11.75,
          13.82,
          12.5,
          11.9,
          11.24,
          10.84,
          10.77,
          11.79,
          14.27,
          15.82,
          13.49,
          13.26,
          11.84
         ],
         "yaxis": "y"
        },
        {
         "hovertemplate": "securityTerm=19-Year 9-Month<br>highPrice=%{x}<br>highYield=%{y}<extra></extra>",
         "legendgroup": "19-Year 9-Month",
         "marker": {
          "color": "#FF6692",
          "symbol": "circle"
         },
         "mode": "markers",
         "name": "19-Year 9-Month",
         "orientation": "v",
         "showlegend": true,
         "type": "scatter",
         "x": [
          102.046
         ],
         "xaxis": "x",
         "y": [
          10.49
         ],
         "yaxis": "y"
        },
        {
         "hovertemplate": "securityTerm=19-Year 10-Month<br>highPrice=%{x}<br>highYield=%{y}<extra></extra>",
         "legendgroup": "19-Year 10-Month",
         "marker": {
          "color": "#B6E880",
          "symbol": "circle"
         },
         "mode": "markers",
         "name": "19-Year 10-Month",
         "orientation": "v",
         "showlegend": true,
         "type": "scatter",
         "x": [
          98.13,
          99.237
         ],
         "xaxis": "x",
         "y": [
          11.86,
          11.96
         ],
         "yaxis": "y"
        },
        {
         "hovertemplate": "securityTerm=15-Year 1-Month<br>highPrice=%{x}<br>highYield=%{y}<extra></extra>",
         "legendgroup": "15-Year 1-Month",
         "marker": {
          "color": "#FF97FF",
          "symbol": "circle"
         },
         "mode": "markers",
         "name": "15-Year 1-Month",
         "orientation": "v",
         "showlegend": true,
         "type": "scatter",
         "x": [
          98.197,
          99.293,
          99.13
         ],
         "xaxis": "x",
         "y": [
          11.75,
          12.72,
          10.61
         ],
         "yaxis": "y"
        },
        {
         "hovertemplate": "securityTerm=14-Year 10-Month<br>highPrice=%{x}<br>highYield=%{y}<extra></extra>",
         "legendgroup": "14-Year 10-Month",
         "marker": {
          "color": "#FECB52",
          "symbol": "circle"
         },
         "mode": "markers",
         "name": "14-Year 10-Month",
         "orientation": "v",
         "showlegend": true,
         "type": "scatter",
         "x": [
          99.515
         ],
         "xaxis": "x",
         "y": [
          10.44
         ],
         "yaxis": "y"
        }
       ],
       "layout": {
        "autosize": true,
        "legend": {
         "title": {
          "text": "securityTerm"
         },
         "tracegroupgap": 0
        },
        "margin": {
         "t": 60
        },
        "template": {
         "data": {
          "bar": [
           {
            "error_x": {
             "color": "#2a3f5f"
            },
            "error_y": {
             "color": "#2a3f5f"
            },
            "marker": {
             "line": {
              "color": "#E5ECF6",
              "width": 0.5
             },
             "pattern": {
              "fillmode": "overlay",
              "size": 10,
              "solidity": 0.2
             }
            },
            "type": "bar"
           }
          ],
          "barpolar": [
           {
            "marker": {
             "line": {
              "color": "#E5ECF6",
              "width": 0.5
             },
             "pattern": {
              "fillmode": "overlay",
              "size": 10,
              "solidity": 0.2
             }
            },
            "type": "barpolar"
           }
          ],
          "carpet": [
           {
            "aaxis": {
             "endlinecolor": "#2a3f5f",
             "gridcolor": "white",
             "linecolor": "white",
             "minorgridcolor": "white",
             "startlinecolor": "#2a3f5f"
            },
            "baxis": {
             "endlinecolor": "#2a3f5f",
             "gridcolor": "white",
             "linecolor": "white",
             "minorgridcolor": "white",
             "startlinecolor": "#2a3f5f"
            },
            "type": "carpet"
           }
          ],
          "choropleth": [
           {
            "colorbar": {
             "outlinewidth": 0,
             "ticks": ""
            },
            "type": "choropleth"
           }
          ],
          "contour": [
           {
            "colorbar": {
             "outlinewidth": 0,
             "ticks": ""
            },
            "colorscale": [
             [
              0,
              "#0d0887"
             ],
             [
              0.1111111111111111,
              "#46039f"
             ],
             [
              0.2222222222222222,
              "#7201a8"
             ],
             [
              0.3333333333333333,
              "#9c179e"
             ],
             [
              0.4444444444444444,
              "#bd3786"
             ],
             [
              0.5555555555555556,
              "#d8576b"
             ],
             [
              0.6666666666666666,
              "#ed7953"
             ],
             [
              0.7777777777777778,
              "#fb9f3a"
             ],
             [
              0.8888888888888888,
              "#fdca26"
             ],
             [
              1,
              "#f0f921"
             ]
            ],
            "type": "contour"
           }
          ],
          "contourcarpet": [
           {
            "colorbar": {
             "outlinewidth": 0,
             "ticks": ""
            },
            "type": "contourcarpet"
           }
          ],
          "heatmap": [
           {
            "colorbar": {
             "outlinewidth": 0,
             "ticks": ""
            },
            "colorscale": [
             [
              0,
              "#0d0887"
             ],
             [
              0.1111111111111111,
              "#46039f"
             ],
             [
              0.2222222222222222,
              "#7201a8"
             ],
             [
              0.3333333333333333,
              "#9c179e"
             ],
             [
              0.4444444444444444,
              "#bd3786"
             ],
             [
              0.5555555555555556,
              "#d8576b"
             ],
             [
              0.6666666666666666,
              "#ed7953"
             ],
             [
              0.7777777777777778,
              "#fb9f3a"
             ],
             [
              0.8888888888888888,
              "#fdca26"
             ],
             [
              1,
              "#f0f921"
             ]
            ],
            "type": "heatmap"
           }
          ],
          "heatmapgl": [
           {
            "colorbar": {
             "outlinewidth": 0,
             "ticks": ""
            },
            "colorscale": [
             [
              0,
              "#0d0887"
             ],
             [
              0.1111111111111111,
              "#46039f"
             ],
             [
              0.2222222222222222,
              "#7201a8"
             ],
             [
              0.3333333333333333,
              "#9c179e"
             ],
             [
              0.4444444444444444,
              "#bd3786"
             ],
             [
              0.5555555555555556,
              "#d8576b"
             ],
             [
              0.6666666666666666,
              "#ed7953"
             ],
             [
              0.7777777777777778,
              "#fb9f3a"
             ],
             [
              0.8888888888888888,
              "#fdca26"
             ],
             [
              1,
              "#f0f921"
             ]
            ],
            "type": "heatmapgl"
           }
          ],
          "histogram": [
           {
            "marker": {
             "pattern": {
              "fillmode": "overlay",
              "size": 10,
              "solidity": 0.2
             }
            },
            "type": "histogram"
           }
          ],
          "histogram2d": [
           {
            "colorbar": {
             "outlinewidth": 0,
             "ticks": ""
            },
            "colorscale": [
             [
              0,
              "#0d0887"
             ],
             [
              0.1111111111111111,
              "#46039f"
             ],
             [
              0.2222222222222222,
              "#7201a8"
             ],
             [
              0.3333333333333333,
              "#9c179e"
             ],
             [
              0.4444444444444444,
              "#bd3786"
             ],
             [
              0.5555555555555556,
              "#d8576b"
             ],
             [
              0.6666666666666666,
              "#ed7953"
             ],
             [
              0.7777777777777778,
              "#fb9f3a"
             ],
             [
              0.8888888888888888,
              "#fdca26"
             ],
             [
              1,
              "#f0f921"
             ]
            ],
            "type": "histogram2d"
           }
          ],
          "histogram2dcontour": [
           {
            "colorbar": {
             "outlinewidth": 0,
             "ticks": ""
            },
            "colorscale": [
             [
              0,
              "#0d0887"
             ],
             [
              0.1111111111111111,
              "#46039f"
             ],
             [
              0.2222222222222222,
              "#7201a8"
             ],
             [
              0.3333333333333333,
              "#9c179e"
             ],
             [
              0.4444444444444444,
              "#bd3786"
             ],
             [
              0.5555555555555556,
              "#d8576b"
             ],
             [
              0.6666666666666666,
              "#ed7953"
             ],
             [
              0.7777777777777778,
              "#fb9f3a"
             ],
             [
              0.8888888888888888,
              "#fdca26"
             ],
             [
              1,
              "#f0f921"
             ]
            ],
            "type": "histogram2dcontour"
           }
          ],
          "mesh3d": [
           {
            "colorbar": {
             "outlinewidth": 0,
             "ticks": ""
            },
            "type": "mesh3d"
           }
          ],
          "parcoords": [
           {
            "line": {
             "colorbar": {
              "outlinewidth": 0,
              "ticks": ""
             }
            },
            "type": "parcoords"
           }
          ],
          "pie": [
           {
            "automargin": true,
            "type": "pie"
           }
          ],
          "scatter": [
           {
            "fillpattern": {
             "fillmode": "overlay",
             "size": 10,
             "solidity": 0.2
            },
            "type": "scatter"
           }
          ],
          "scatter3d": [
           {
            "line": {
             "colorbar": {
              "outlinewidth": 0,
              "ticks": ""
             }
            },
            "marker": {
             "colorbar": {
              "outlinewidth": 0,
              "ticks": ""
             }
            },
            "type": "scatter3d"
           }
          ],
          "scattercarpet": [
           {
            "marker": {
             "colorbar": {
              "outlinewidth": 0,
              "ticks": ""
             }
            },
            "type": "scattercarpet"
           }
          ],
          "scattergeo": [
           {
            "marker": {
             "colorbar": {
              "outlinewidth": 0,
              "ticks": ""
             }
            },
            "type": "scattergeo"
           }
          ],
          "scattergl": [
           {
            "marker": {
             "colorbar": {
              "outlinewidth": 0,
              "ticks": ""
             }
            },
            "type": "scattergl"
           }
          ],
          "scattermapbox": [
           {
            "marker": {
             "colorbar": {
              "outlinewidth": 0,
              "ticks": ""
             }
            },
            "type": "scattermapbox"
           }
          ],
          "scatterpolar": [
           {
            "marker": {
             "colorbar": {
              "outlinewidth": 0,
              "ticks": ""
             }
            },
            "type": "scatterpolar"
           }
          ],
          "scatterpolargl": [
           {
            "marker": {
             "colorbar": {
              "outlinewidth": 0,
              "ticks": ""
             }
            },
            "type": "scatterpolargl"
           }
          ],
          "scatterternary": [
           {
            "marker": {
             "colorbar": {
              "outlinewidth": 0,
              "ticks": ""
             }
            },
            "type": "scatterternary"
           }
          ],
          "surface": [
           {
            "colorbar": {
             "outlinewidth": 0,
             "ticks": ""
            },
            "colorscale": [
             [
              0,
              "#0d0887"
             ],
             [
              0.1111111111111111,
              "#46039f"
             ],
             [
              0.2222222222222222,
              "#7201a8"
             ],
             [
              0.3333333333333333,
              "#9c179e"
             ],
             [
              0.4444444444444444,
              "#bd3786"
             ],
             [
              0.5555555555555556,
              "#d8576b"
             ],
             [
              0.6666666666666666,
              "#ed7953"
             ],
             [
              0.7777777777777778,
              "#fb9f3a"
             ],
             [
              0.8888888888888888,
              "#fdca26"
             ],
             [
              1,
              "#f0f921"
             ]
            ],
            "type": "surface"
           }
          ],
          "table": [
           {
            "cells": {
             "fill": {
              "color": "#EBF0F8"
             },
             "line": {
              "color": "white"
             }
            },
            "header": {
             "fill": {
              "color": "#C8D4E3"
             },
             "line": {
              "color": "white"
             }
            },
            "type": "table"
           }
          ]
         },
         "layout": {
          "annotationdefaults": {
           "arrowcolor": "#2a3f5f",
           "arrowhead": 0,
           "arrowwidth": 1
          },
          "autotypenumbers": "strict",
          "coloraxis": {
           "colorbar": {
            "outlinewidth": 0,
            "ticks": ""
           }
          },
          "colorscale": {
           "diverging": [
            [
             0,
             "#8e0152"
            ],
            [
             0.1,
             "#c51b7d"
            ],
            [
             0.2,
             "#de77ae"
            ],
            [
             0.3,
             "#f1b6da"
            ],
            [
             0.4,
             "#fde0ef"
            ],
            [
             0.5,
             "#f7f7f7"
            ],
            [
             0.6,
             "#e6f5d0"
            ],
            [
             0.7,
             "#b8e186"
            ],
            [
             0.8,
             "#7fbc41"
            ],
            [
             0.9,
             "#4d9221"
            ],
            [
             1,
             "#276419"
            ]
           ],
           "sequential": [
            [
             0,
             "#0d0887"
            ],
            [
             0.1111111111111111,
             "#46039f"
            ],
            [
             0.2222222222222222,
             "#7201a8"
            ],
            [
             0.3333333333333333,
             "#9c179e"
            ],
            [
             0.4444444444444444,
             "#bd3786"
            ],
            [
             0.5555555555555556,
             "#d8576b"
            ],
            [
             0.6666666666666666,
             "#ed7953"
            ],
            [
             0.7777777777777778,
             "#fb9f3a"
            ],
            [
             0.8888888888888888,
             "#fdca26"
            ],
            [
             1,
             "#f0f921"
            ]
           ],
           "sequentialminus": [
            [
             0,
             "#0d0887"
            ],
            [
             0.1111111111111111,
             "#46039f"
            ],
            [
             0.2222222222222222,
             "#7201a8"
            ],
            [
             0.3333333333333333,
             "#9c179e"
            ],
            [
             0.4444444444444444,
             "#bd3786"
            ],
            [
             0.5555555555555556,
             "#d8576b"
            ],
            [
             0.6666666666666666,
             "#ed7953"
            ],
            [
             0.7777777777777778,
             "#fb9f3a"
            ],
            [
             0.8888888888888888,
             "#fdca26"
            ],
            [
             1,
             "#f0f921"
            ]
           ]
          },
          "colorway": [
           "#636efa",
           "#EF553B",
           "#00cc96",
           "#ab63fa",
           "#FFA15A",
           "#19d3f3",
           "#FF6692",
           "#B6E880",
           "#FF97FF",
           "#FECB52"
          ],
          "font": {
           "color": "#2a3f5f"
          },
          "geo": {
           "bgcolor": "white",
           "lakecolor": "white",
           "landcolor": "#E5ECF6",
           "showlakes": true,
           "showland": true,
           "subunitcolor": "white"
          },
          "hoverlabel": {
           "align": "left"
          },
          "hovermode": "closest",
          "mapbox": {
           "style": "light"
          },
          "paper_bgcolor": "white",
          "plot_bgcolor": "#E5ECF6",
          "polar": {
           "angularaxis": {
            "gridcolor": "white",
            "linecolor": "white",
            "ticks": ""
           },
           "bgcolor": "#E5ECF6",
           "radialaxis": {
            "gridcolor": "white",
            "linecolor": "white",
            "ticks": ""
           }
          },
          "scene": {
           "xaxis": {
            "backgroundcolor": "#E5ECF6",
            "gridcolor": "white",
            "gridwidth": 2,
            "linecolor": "white",
            "showbackground": true,
            "ticks": "",
            "zerolinecolor": "white"
           },
           "yaxis": {
            "backgroundcolor": "#E5ECF6",
            "gridcolor": "white",
            "gridwidth": 2,
            "linecolor": "white",
            "showbackground": true,
            "ticks": "",
            "zerolinecolor": "white"
           },
           "zaxis": {
            "backgroundcolor": "#E5ECF6",
            "gridcolor": "white",
            "gridwidth": 2,
            "linecolor": "white",
            "showbackground": true,
            "ticks": "",
            "zerolinecolor": "white"
           }
          },
          "shapedefaults": {
           "line": {
            "color": "#2a3f5f"
           }
          },
          "ternary": {
           "aaxis": {
            "gridcolor": "white",
            "linecolor": "white",
            "ticks": ""
           },
           "baxis": {
            "gridcolor": "white",
            "linecolor": "white",
            "ticks": ""
           },
           "bgcolor": "#E5ECF6",
           "caxis": {
            "gridcolor": "white",
            "linecolor": "white",
            "ticks": ""
           }
          },
          "title": {
           "x": 0.05
          },
          "xaxis": {
           "automargin": true,
           "gridcolor": "white",
           "linecolor": "white",
           "ticks": "",
           "title": {
            "standoff": 15
           },
           "zerolinecolor": "white",
           "zerolinewidth": 2
          },
          "yaxis": {
           "automargin": true,
           "gridcolor": "white",
           "linecolor": "white",
           "ticks": "",
           "title": {
            "standoff": 15
           },
           "zerolinecolor": "white",
           "zerolinewidth": 2
          }
         }
        },
        "xaxis": {
         "anchor": "y",
         "autorange": true,
         "domain": [
          0,
          1
         ],
         "range": [
          93.46939215686274,
          104.72360784313726
         ],
         "title": {
          "text": "highPrice"
         },
         "type": "linear"
        },
        "yaxis": {
         "anchor": "x",
         "autorange": true,
         "domain": [
          0,
          1
         ],
         "range": [
          4.80653280839895,
          16.61146719160105
         ],
         "title": {
          "text": "highYield"
         },
         "type": "linear"
        }
       }
      },
      "image/png": "[encoded data removed]",
      "text/html": [
       "<div>                            <div id=\"fa977e2e-00b0-492f-9fd0-bf969bc7a210\" class=\"plotly-graph-div\" style=\"height:525px; width:100%;\"></div>            <script type=\"text/javascript\">                require([\"plotly\"], function(Plotly) {                    window.PLOTLYENV=window.PLOTLYENV || {};                                    if (document.getElementById(\"fa977e2e-00b0-492f-9fd0-bf969bc7a210\")) {                    Plotly.newPlot(                        \"fa977e2e-00b0-492f-9fd0-bf969bc7a210\",                        [{\"hovertemplate\":\"securityTerm=30-Year\\u003cbr\\u003ehighPrice=%{x}\\u003cbr\\u003ehighYield=%{y}\\u003cextra\\u003e\\u003c\\u002fextra\\u003e\",\"legendgroup\":\"30-Year\",\"marker\":{\"color\":\"#636efa\",\"symbol\":\"circle\"},\"mode\":\"markers\",\"name\":\"30-Year\",\"orientation\":\"v\",\"showlegend\":true,\"x\":[98.583,98.889,98.984,99.546,98.38,99.643,98.226,99.572,99.591,98.666,98.84,99.59,99.514,99.887,99.278,98.728,98.81,98.644,98.954,99.677,99.721,99.223,98.869,99.44,99.842,99.789,99.291,98.202,99.594,99.271,99.508,99.489,99.021,99.844,99.339,99.198,99.045,98.342,99.053,99.09,98.322,99.021,99.045],\"xaxis\":\"x\",\"y\":[5.598,6.207,6.452,6.66,6.625,6.778,6.13,6.909,7.66,6.35,7.22,7.66,7.29,8.01,8.19,8.24,7.98,8.88,8.85,8.53,8.15,8.95,9.11,9.18,8.89,8.77,7.56,7.4,9.29,9.95,10.68,11.31,11.87,12.52,13.34,12.1,10.48,14.24,14.01,12.87,10.18,11.87,10.48],\"yaxis\":\"y\",\"type\":\"scatter\"},{\"hovertemplate\":\"securityTerm=29-Year 9-Month\\u003cbr\\u003ehighPrice=%{x}\\u003cbr\\u003ehighYield=%{y}\\u003cextra\\u003e\\u003c\\u002fextra\\u003e\",\"legendgroup\":\"29-Year 9-Month\",\"marker\":{\"color\":\"#EF553B\",\"symbol\":\"circle\"},\"mode\":\"markers\",\"name\":\"29-Year 9-Month\",\"orientation\":\"v\",\"showlegend\":true,\"x\":[104.122,101.777,100.757,100.27,102.875,97.453,100.844,99.966,95.297,98.739,101.387,94.071,96.68,98.99,100.81],\"xaxis\":\"x\",\"y\":[5.83,6.98,7.93,8.72,7.87,9.12,8.79,7.5,7.65,11.39,11.82,11.05,14.47,14.0,12.63],\"yaxis\":\"y\",\"type\":\"scatter\"},{\"hovertemplate\":\"securityTerm=30-Year 3-Month\\u003cbr\\u003ehighPrice=%{x}\\u003cbr\\u003ehighYield=%{y}\\u003cextra\\u003e\\u003c\\u002fextra\\u003e\",\"legendgroup\":\"30-Year 3-Month\",\"marker\":{\"color\":\"#00cc96\",\"symbol\":\"circle\"},\"mode\":\"markers\",\"name\":\"30-Year 3-Month\",\"orientation\":\"v\",\"showlegend\":true,\"x\":[98.904],\"xaxis\":\"x\",\"y\":[7.59],\"yaxis\":\"y\",\"type\":\"scatter\"},{\"hovertemplate\":\"securityTerm=29-Year 6-Month\\u003cbr\\u003ehighPrice=%{x}\\u003cbr\\u003ehighYield=%{y}\\u003cextra\\u003e\\u003c\\u002fextra\\u003e\",\"legendgroup\":\"29-Year 6-Month\",\"marker\":{\"color\":\"#ab63fa\",\"symbol\":\"circle\"},\"mode\":\"markers\",\"name\":\"29-Year 6-Month\",\"orientation\":\"v\",\"showlegend\":true,\"x\":[97.633,100.0,100.977,100.504],\"xaxis\":\"x\",\"y\":[6.43,8.0,11.88,10.32],\"yaxis\":\"y\",\"type\":\"scatter\"},{\"hovertemplate\":\"securityTerm=29-Year 3-Month\\u003cbr\\u003ehighPrice=%{x}\\u003cbr\\u003ehighYield=%{y}\\u003cextra\\u003e\\u003c\\u002fextra\\u003e\",\"legendgroup\":\"29-Year 3-Month\",\"marker\":{\"color\":\"#FFA15A\",\"symbol\":\"circle\"},\"mode\":\"markers\",\"name\":\"29-Year 3-Month\",\"orientation\":\"v\",\"showlegend\":true,\"x\":[102.309,97.4],\"xaxis\":\"x\",\"y\":[8.53,10.66],\"yaxis\":\"y\",\"type\":\"scatter\"},{\"hovertemplate\":\"securityTerm=20-Year 1-Month\\u003cbr\\u003ehighPrice=%{x}\\u003cbr\\u003ehighYield=%{y}\\u003cextra\\u003e\\u003c\\u002fextra\\u003e\",\"legendgroup\":\"20-Year 1-Month\",\"marker\":{\"color\":\"#19d3f3\",\"symbol\":\"circle\"},\"mode\":\"markers\",\"name\":\"20-Year 1-Month\",\"orientation\":\"v\",\"showlegend\":true,\"x\":[99.295,99.852,99.545,99.016,99.441,99.008,99.737,99.024,99.207,99.775,98.659,99.767,99.458,99.108,98.963,99.255],\"xaxis\":\"x\",\"y\":[9.45,10.76,12.05,11.75,13.82,12.5,11.9,11.24,10.84,10.77,11.79,14.27,15.82,13.49,13.26,11.84],\"yaxis\":\"y\",\"type\":\"scatter\"},{\"hovertemplate\":\"securityTerm=19-Year 9-Month\\u003cbr\\u003ehighPrice=%{x}\\u003cbr\\u003ehighYield=%{y}\\u003cextra\\u003e\\u003c\\u002fextra\\u003e\",\"legendgroup\":\"19-Year 9-Month\",\"marker\":{\"color\":\"#FF6692\",\"symbol\":\"circle\"},\"mode\":\"markers\",\"name\":\"19-Year 9-Month\",\"orientation\":\"v\",\"showlegend\":true,\"x\":[102.046],\"xaxis\":\"x\",\"y\":[10.49],\"yaxis\":\"y\",\"type\":\"scatter\"},{\"hovertemplate\":\"securityTerm=19-Year 10-Month\\u003cbr\\u003ehighPrice=%{x}\\u003cbr\\u003ehighYield=%{y}\\u003cextra\\u003e\\u003c\\u002fextra\\u003e\",\"legendgroup\":\"19-Year 10-Month\",\"marker\":{\"color\":\"#B6E880\",\"symbol\":\"circle\"},\"mode\":\"markers\",\"name\":\"19-Year 10-Month\",\"orientation\":\"v\",\"showlegend\":true,\"x\":[98.13,99.237],\"xaxis\":\"x\",\"y\":[11.86,11.96],\"yaxis\":\"y\",\"type\":\"scatter\"},{\"hovertemplate\":\"securityTerm=15-Year 1-Month\\u003cbr\\u003ehighPrice=%{x}\\u003cbr\\u003ehighYield=%{y}\\u003cextra\\u003e\\u003c\\u002fextra\\u003e\",\"legendgroup\":\"15-Year 1-Month\",\"marker\":{\"color\":\"#FF97FF\",\"symbol\":\"circle\"},\"mode\":\"markers\",\"name\":\"15-Year 1-Month\",\"orientation\":\"v\",\"showlegend\":true,\"x\":[98.197,99.293,99.13],\"xaxis\":\"x\",\"y\":[11.75,12.72,10.61],\"yaxis\":\"y\",\"type\":\"scatter\"},{\"hovertemplate\":\"securityTerm=14-Year 10-Month\\u003cbr\\u003ehighPrice=%{x}\\u003cbr\\u003ehighYield=%{y}\\u003cextra\\u003e\\u003c\\u002fextra\\u003e\",\"legendgroup\":\"14-Year 10-Month\",\"marker\":{\"color\":\"#FECB52\",\"symbol\":\"circle\"},\"mode\":\"markers\",\"name\":\"14-Year 10-Month\",\"orientation\":\"v\",\"showlegend\":true,\"x\":[99.515],\"xaxis\":\"x\",\"y\":[10.44],\"yaxis\":\"y\",\"type\":\"scatter\"}],                        {\"template\":{\"data\":{\"histogram2dcontour\":[{\"type\":\"histogram2dcontour\",\"colorbar\":{\"outlinewidth\":0,\"ticks\":\"\"},\"colorscale\":[[0.0,\"#0d0887\"],[0.1111111111111111,\"#46039f\"],[0.2222222222222222,\"#7201a8\"],[0.3333333333333333,\"#9c179e\"],[0.4444444444444444,\"#bd3786\"],[0.5555555555555556,\"#d8576b\"],[0.6666666666666666,\"#ed7953\"],[0.7777777777777778,\"#fb9f3a\"],[0.8888888888888888,\"#fdca26\"],[1.0,\"#f0f921\"]]}],\"choropleth\":[{\"type\":\"choropleth\",\"colorbar\":{\"outlinewidth\":0,\"ticks\":\"\"}}],\"histogram2d\":[{\"type\":\"histogram2d\",\"colorbar\":{\"outlinewidth\":0,\"ticks\":\"\"},\"colorscale\":[[0.0,\"#0d0887\"],[0.1111111111111111,\"#46039f\"],[0.2222222222222222,\"#7201a8\"],[0.3333333333333333,\"#9c179e\"],[0.4444444444444444,\"#bd3786\"],[0.5555555555555556,\"#d8576b\"],[0.6666666666666666,\"#ed7953\"],[0.7777777777777778,\"#fb9f3a\"],[0.8888888888888888,\"#fdca26\"],[1.0,\"#f0f921\"]]}],\"heatmap\":[{\"type\":\"heatmap\",\"colorbar\":{\"outlinewidth\":0,\"ticks\":\"\"},\"colorscale\":[[0.0,\"#0d0887\"],[0.1111111111111111,\"#46039f\"],[0.2222222222222222,\"#7201a8\"],[0.3333333333333333,\"#9c179e\"],[0.4444444444444444,\"#bd3786\"],[0.5555555555555556,\"#d8576b\"],[0.6666666666666666,\"#ed7953\"],[0.7777777777777778,\"#fb9f3a\"],[0.8888888888888888,\"#fdca26\"],[1.0,\"#f0f921\"]]}],\"heatmapgl\":[{\"type\":\"heatmapgl\",\"colorbar\":{\"outlinewidth\":0,\"ticks\":\"\"},\"colorscale\":[[0.0,\"#0d0887\"],[0.1111111111111111,\"#46039f\"],[0.2222222222222222,\"#7201a8\"],[0.3333333333333333,\"#9c179e\"],[0.4444444444444444,\"#bd3786\"],[0.5555555555555556,\"#d8576b\"],[0.6666666666666666,\"#ed7953\"],[0.7777777777777778,\"#fb9f3a\"],[0.8888888888888888,\"#fdca26\"],[1.0,\"#f0f921\"]]}],\"contourcarpet\":[{\"type\":\"contourcarpet\",\"colorbar\":{\"outlinewidth\":0,\"ticks\":\"\"}}],\"contour\":[{\"type\":\"contour\",\"colorbar\":{\"outlinewidth\":0,\"ticks\":\"\"},\"colorscale\":[[0.0,\"#0d0887\"],[0.1111111111111111,\"#46039f\"],[0.2222222222222222,\"#7201a8\"],[0.3333333333333333,\"#9c179e\"],[0.4444444444444444,\"#bd3786\"],[0.5555555555555556,\"#d8576b\"],[0.6666666666666666,\"#ed7953\"],[0.7777777777777778,\"#fb9f3a\"],[0.8888888888888888,\"#fdca26\"],[1.0,\"#f0f921\"]]}],\"surface\":[{\"type\":\"surface\",\"colorbar\":{\"outlinewidth\":0,\"ticks\":\"\"},\"colorscale\":[[0.0,\"#0d0887\"],[0.1111111111111111,\"#46039f\"],[0.2222222222222222,\"#7201a8\"],[0.3333333333333333,\"#9c179e\"],[0.4444444444444444,\"#bd3786\"],[0.5555555555555556,\"#d8576b\"],[0.6666666666666666,\"#ed7953\"],[0.7777777777777778,\"#fb9f3a\"],[0.8888888888888888,\"#fdca26\"],[1.0,\"#f0f921\"]]}],\"mesh3d\":[{\"type\":\"mesh3d\",\"colorbar\":{\"outlinewidth\":0,\"ticks\":\"\"}}],\"scatter\":[{\"fillpattern\":{\"fillmode\":\"overlay\",\"size\":10,\"solidity\":0.2},\"type\":\"scatter\"}],\"parcoords\":[{\"type\":\"parcoords\",\"line\":{\"colorbar\":{\"outlinewidth\":0,\"ticks\":\"\"}}}],\"scatterpolargl\":[{\"type\":\"scatterpolargl\",\"marker\":{\"colorbar\":{\"outlinewidth\":0,\"ticks\":\"\"}}}],\"bar\":[{\"error_x\":{\"color\":\"#2a3f5f\"},\"error_y\":{\"color\":\"#2a3f5f\"},\"marker\":{\"line\":{\"color\":\"#E5ECF6\",\"width\":0.5},\"pattern\":{\"fillmode\":\"overlay\",\"size\":10,\"solidity\":0.2}},\"type\":\"bar\"}],\"scattergeo\":[{\"type\":\"scattergeo\",\"marker\":{\"colorbar\":{\"outlinewidth\":0,\"ticks\":\"\"}}}],\"scatterpolar\":[{\"type\":\"scatterpolar\",\"marker\":{\"colorbar\":{\"outlinewidth\":0,\"ticks\":\"\"}}}],\"histogram\":[{\"marker\":{\"pattern\":{\"fillmode\":\"overlay\",\"size\":10,\"solidity\":0.2}},\"type\":\"histogram\"}],\"scattergl\":[{\"type\":\"scattergl\",\"marker\":{\"colorbar\":{\"outlinewidth\":0,\"ticks\":\"\"}}}],\"scatter3d\":[{\"type\":\"scatter3d\",\"line\":{\"colorbar\":{\"outlinewidth\":0,\"ticks\":\"\"}},\"marker\":{\"colorbar\":{\"outlinewidth\":0,\"ticks\":\"\"}}}],\"scattermapbox\":[{\"type\":\"scattermapbox\",\"marker\":{\"colorbar\":{\"outlinewidth\":0,\"ticks\":\"\"}}}],\"scatterternary\":[{\"type\":\"scatterternary\",\"marker\":{\"colorbar\":{\"outlinewidth\":0,\"ticks\":\"\"}}}],\"scattercarpet\":[{\"type\":\"scattercarpet\",\"marker\":{\"colorbar\":{\"outlinewidth\":0,\"ticks\":\"\"}}}],\"carpet\":[{\"aaxis\":{\"endlinecolor\":\"#2a3f5f\",\"gridcolor\":\"white\",\"linecolor\":\"white\",\"minorgridcolor\":\"white\",\"startlinecolor\":\"#2a3f5f\"},\"baxis\":{\"endlinecolor\":\"#2a3f5f\",\"gridcolor\":\"white\",\"linecolor\":\"white\",\"minorgridcolor\":\"white\",\"startlinecolor\":\"#2a3f5f\"},\"type\":\"carpet\"}],\"table\":[{\"cells\":{\"fill\":{\"color\":\"#EBF0F8\"},\"line\":{\"color\":\"white\"}},\"header\":{\"fill\":{\"color\":\"#C8D4E3\"},\"line\":{\"color\":\"white\"}},\"type\":\"table\"}],\"barpolar\":[{\"marker\":{\"line\":{\"color\":\"#E5ECF6\",\"width\":0.5},\"pattern\":{\"fillmode\":\"overlay\",\"size\":10,\"solidity\":0.2}},\"type\":\"barpolar\"}],\"pie\":[{\"automargin\":true,\"type\":\"pie\"}]},\"layout\":{\"autotypenumbers\":\"strict\",\"colorway\":[\"#636efa\",\"#EF553B\",\"#00cc96\",\"#ab63fa\",\"#FFA15A\",\"#19d3f3\",\"#FF6692\",\"#B6E880\",\"#FF97FF\",\"#FECB52\"],\"font\":{\"color\":\"#2a3f5f\"},\"hovermode\":\"closest\",\"hoverlabel\":{\"align\":\"left\"},\"paper_bgcolor\":\"white\",\"plot_bgcolor\":\"#E5ECF6\",\"polar\":{\"bgcolor\":\"#E5ECF6\",\"angularaxis\":{\"gridcolor\":\"white\",\"linecolor\":\"white\",\"ticks\":\"\"},\"radialaxis\":{\"gridcolor\":\"white\",\"linecolor\":\"white\",\"ticks\":\"\"}},\"ternary\":{\"bgcolor\":\"#E5ECF6\",\"aaxis\":{\"gridcolor\":\"white\",\"linecolor\":\"white\",\"ticks\":\"\"},\"baxis\":{\"gridcolor\":\"white\",\"linecolor\":\"white\",\"ticks\":\"\"},\"caxis\":{\"gridcolor\":\"white\",\"linecolor\":\"white\",\"ticks\":\"\"}},\"coloraxis\":{\"colorbar\":{\"outlinewidth\":0,\"ticks\":\"\"}},\"colorscale\":{\"sequential\":[[0.0,\"#0d0887\"],[0.1111111111111111,\"#46039f\"],[0.2222222222222222,\"#7201a8\"],[0.3333333333333333,\"#9c179e\"],[0.4444444444444444,\"#bd3786\"],[0.5555555555555556,\"#d8576b\"],[0.6666666666666666,\"#ed7953\"],[0.7777777777777778,\"#fb9f3a\"],[0.8888888888888888,\"#fdca26\"],[1.0,\"#f0f921\"]],\"sequentialminus\":[[0.0,\"#0d0887\"],[0.1111111111111111,\"#46039f\"],[0.2222222222222222,\"#7201a8\"],[0.3333333333333333,\"#9c179e\"],[0.4444444444444444,\"#bd3786\"],[0.5555555555555556,\"#d8576b\"],[0.6666666666666666,\"#ed7953\"],[0.7777777777777778,\"#fb9f3a\"],[0.8888888888888888,\"#fdca26\"],[1.0,\"#f0f921\"]],\"diverging\":[[0,\"#8e0152\"],[0.1,\"#c51b7d\"],[0.2,\"#de77ae\"],[0.3,\"#f1b6da\"],[0.4,\"#fde0ef\"],[0.5,\"#f7f7f7\"],[0.6,\"#e6f5d0\"],[0.7,\"#b8e186\"],[0.8,\"#7fbc41\"],[0.9,\"#4d9221\"],[1,\"#276419\"]]},\"xaxis\":{\"gridcolor\":\"white\",\"linecolor\":\"white\",\"ticks\":\"\",\"title\":{\"standoff\":15},\"zerolinecolor\":\"white\",\"automargin\":true,\"zerolinewidth\":2},\"yaxis\":{\"gridcolor\":\"white\",\"linecolor\":\"white\",\"ticks\":\"\",\"title\":{\"standoff\":15},\"zerolinecolor\":\"white\",\"automargin\":true,\"zerolinewidth\":2},\"scene\":{\"xaxis\":{\"backgroundcolor\":\"#E5ECF6\",\"gridcolor\":\"white\",\"linecolor\":\"white\",\"showbackground\":true,\"ticks\":\"\",\"zerolinecolor\":\"white\",\"gridwidth\":2},\"yaxis\":{\"backgroundcolor\":\"#E5ECF6\",\"gridcolor\":\"white\",\"linecolor\":\"white\",\"showbackground\":true,\"ticks\":\"\",\"zerolinecolor\":\"white\",\"gridwidth\":2},\"zaxis\":{\"backgroundcolor\":\"#E5ECF6\",\"gridcolor\":\"white\",\"linecolor\":\"white\",\"showbackground\":true,\"ticks\":\"\",\"zerolinecolor\":\"white\",\"gridwidth\":2}},\"shapedefaults\":{\"line\":{\"color\":\"#2a3f5f\"}},\"annotationdefaults\":{\"arrowcolor\":\"#2a3f5f\",\"arrowhead\":0,\"arrowwidth\":1},\"geo\":{\"bgcolor\":\"white\",\"landcolor\":\"#E5ECF6\",\"subunitcolor\":\"white\",\"showland\":true,\"showlakes\":true,\"lakecolor\":\"white\"},\"title\":{\"x\":0.05},\"mapbox\":{\"style\":\"light\"}}},\"xaxis\":{\"anchor\":\"y\",\"domain\":[0.0,1.0],\"title\":{\"text\":\"highPrice\"}},\"yaxis\":{\"anchor\":\"x\",\"domain\":[0.0,1.0],\"title\":{\"text\":\"highYield\"}},\"legend\":{\"title\":{\"text\":\"securityTerm\"},\"tracegroupgap\":0},\"margin\":{\"t\":60}},                        {\"responsive\": true}                    ).then(function(){\n",
       "                            \n",
       "var gd = document.getElementById('fa977e2e-00b0-492f-9fd0-bf969bc7a210');\n",
       "var x = new MutationObserver(function (mutations, observer) {{\n",
       "        var display = window.getComputedStyle(gd).display;\n",
       "        if (!display || display === 'none') {{\n",
       "            console.log([gd, 'removed!']);\n",
       "            Plotly.purge(gd);\n",
       "            observer.disconnect();\n",
       "        }}\n",
       "}});\n",
       "\n",
       "// Listen for the removal of the full notebook cells\n",
       "var notebookContainer = gd.closest('#notebook-container');\n",
       "if (notebookContainer) {{\n",
       "    x.observe(notebookContainer, {childList: true});\n",
       "}}\n",
       "\n",
       "// Listen for the clearing of the current output cell\n",
       "var outputEl = gd.closest('.output');\n",
       "if (outputEl) {{\n",
       "    x.observe(outputEl, {childList: true});\n",
       "}}\n",
       "\n",
       "                        })                };                });            </script>        </div>"
      ]
     },
     "metadata": {},
     "output_type": "display_data"
    }
   ],
   "source": [
    "df['year']=df['issueDate'].dt.year.astype(str)\n",
    "\n",
    "\n",
    "px.scatter(\n",
    "    data_frame=df[df['lowPrice']>0],\n",
    "    x='highPrice',\n",
    "    y='highYield',\n",
    "    color='securityTerm'\n",
    ")"
   ]
  },
  {
   "cell_type": "code",
   "execution_count": null,
   "id": "785bee71-cd3c-4461-aa5f-a0dca82e3545",
   "metadata": {},
   "outputs": [],
   "source": []
  }
 ],
 "metadata": {
  "kernelspec": {
   "display_name": "python3",
   "language": "python",
   "name": "python3"
  }
 },
 "nbformat": 4,
 "nbformat_minor": 5
}
