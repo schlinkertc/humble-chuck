{
 "cells": [
  {
   "cell_type": "code",
   "execution_count": 5,
   "id": "7e8d2a4e-c84b-438d-92af-f2c608ccb198",
   "metadata": {},
   "outputs": [],
   "source": [
    "import statsapi as mlb\n",
    "import datetime as dt\n",
    "from typing import *"
   ]
  },
  {
   "cell_type": "code",
   "execution_count": 20,
   "id": "843edcfa-085c-4062-b54a-8fe35c8d4727",
   "metadata": {},
   "outputs": [],
   "source": [
    "def get_season_games(season: int) -> List[dict]:\n",
    "    \"\"\"get mlb games for a given season\"\"\"\n",
    "    season = mlb.get('season',{'sportId':1,'seasonId':season})['seasons'][0]\n",
    "    start = season['seasonStartDate']\n",
    "    end = season['seasonEndDate']\n",
    "    schedule = mlb.get(\n",
    "        endpoint='schedule',\n",
    "        params={'startDate':start,'endDate':end,'sportId':1}\n",
    "    )\n",
    "\n",
    "    pks = [\n",
    "        game for dates in schedule['dates'] for game in dates['games'] \n",
    "    ]\n",
    "    \n",
    "    \n",
    "    return pks"
   ]
  },
  {
   "cell_type": "code",
   "execution_count": 21,
   "id": "66bfa1d6-3ba2-48db-9943-d8931097f4e7",
   "metadata": {},
   "outputs": [
    {
     "data": {
      "text/plain": [
       "{'gamePk': 775293,\n",
       " 'gameGuid': '4bf686d5-80cd-4e95-b203-527fbe29cd5c',\n",
       " 'link': '/api/v1.1/game/775293/feed/live',\n",
       " 'gameType': 'W',\n",
       " 'season': '2024',\n",
       " 'gameDate': '2024-11-02T07:33:00Z',\n",
       " 'officialDate': '2024-11-02',\n",
       " 'status': {'abstractGameState': 'Preview',\n",
       "  'codedGameState': 'S',\n",
       "  'detailedState': 'Scheduled',\n",
       "  'statusCode': 'S',\n",
       "  'startTimeTBD': True,\n",
       "  'abstractGameCode': 'P'},\n",
       " 'teams': {'away': {'leagueRecord': {'wins': 0, 'losses': 0, 'pct': '.000'},\n",
       "   'team': {'id': 2711, 'name': 'Lg Champ #2', 'link': '/api/v1/teams/2711'},\n",
       "   'splitSquad': False,\n",
       "   'seriesNumber': 1},\n",
       "  'home': {'leagueRecord': {'wins': 0, 'losses': 0, 'pct': '.000'},\n",
       "   'team': {'id': 2710, 'name': 'Lg Champ #1', 'link': '/api/v1/teams/2710'},\n",
       "   'splitSquad': False,\n",
       "   'seriesNumber': 1}},\n",
       " 'venue': {'id': 401, 'name': 'TBD', 'link': '/api/v1/venues/401'},\n",
       " 'content': {'link': '/api/v1/game/775293/content'},\n",
       " 'gameNumber': 1,\n",
       " 'publicFacing': True,\n",
       " 'doubleHeader': 'N',\n",
       " 'gamedayType': 'P',\n",
       " 'tiebreaker': 'N',\n",
       " 'calendarEventID': '14-775293-2024-11-02',\n",
       " 'seasonDisplay': '2024',\n",
       " 'dayNight': 'day',\n",
       " 'description': 'World Series Game 7',\n",
       " 'scheduledInnings': 9,\n",
       " 'reverseHomeAwayStatus': False,\n",
       " 'inningBreakLength': 120,\n",
       " 'gamesInSeries': 7,\n",
       " 'seriesGameNumber': 7,\n",
       " 'seriesDescription': 'World Series',\n",
       " 'recordSource': 'S',\n",
       " 'ifNecessary': 'Y',\n",
       " 'ifNecessaryDescription': 'If Necessary Game'}"
      ]
     },
     "execution_count": 21,
     "metadata": {},
     "output_type": "execute_result"
    }
   ],
   "source": [
    "get_season_games(2024)[-1]"
   ]
  },
  {
   "cell_type": "code",
   "execution_count": null,
   "id": "7ba4d792-4b96-40dc-82f9-ff956112c981",
   "metadata": {},
   "outputs": [],
   "source": []
  }
 ],
 "metadata": {
  "kernelspec": {
   "display_name": "Python 3 (ipykernel)",
   "language": "python",
   "name": "python3"
  },
  "language_info": {
   "codemirror_mode": {
    "name": "ipython",
    "version": 3
   },
   "file_extension": ".py",
   "mimetype": "text/x-python",
   "name": "python",
   "nbconvert_exporter": "python",
   "pygments_lexer": "ipython3",
   "version": "3.11.9"
  }
 },
 "nbformat": 4,
 "nbformat_minor": 5
}
