{
 "cells": [
  {
   "cell_type": "markdown",
   "id": "75573a1b-881f-4688-857b-e908fed977d3",
   "metadata": {},
   "source": [
    "# Baseball\n",
    "> Experimenting with the MLB Stats API"
   ]
  },
  {
   "cell_type": "code",
   "execution_count": null,
   "id": "7e8d2a4e-c84b-438d-92af-f2c608ccb198",
   "metadata": {},
   "outputs": [],
   "source": [
    "import statsapi as mlb\n",
    "import datetime as dt\n",
    "from typing import *"
   ]
  },
  {
   "cell_type": "code",
   "execution_count": null,
   "id": "843edcfa-085c-4062-b54a-8fe35c8d4727",
   "metadata": {},
   "outputs": [],
   "source": [
    "def get_season_games(season: int) -> List[dict]:\n",
    "    \"\"\"get mlb games for a given season\"\"\"\n",
    "    season = mlb.get('season',{'sportId':1,'seasonId':season})['seasons'][0]\n",
    "    start = season['seasonStartDate']\n",
    "    end = season['seasonEndDate']\n",
    "    schedule = mlb.get(\n",
    "        endpoint='schedule',\n",
    "        params={'startDate':start,'endDate':end,'sportId':1}\n",
    "    )\n",
    "\n",
    "    pks = [\n",
    "        game for dates in schedule['dates'] for game in dates['games'] \n",
    "    ]\n",
    "    \n",
    "    \n",
    "    return pks"
   ]
  },
  {
   "cell_type": "code",
   "execution_count": null,
   "id": "66bfa1d6-3ba2-48db-9943-d8931097f4e7",
   "metadata": {},
   "outputs": [
    {
     "data": {
      "text/plain": [
       "{'gamePk': 775293,\n",
       " 'gameGuid': '4bf686d5-80cd-4e95-b203-527fbe29cd5c',\n",
       " 'link': '/api/v1.1/game/775293/feed/live',\n",
       " 'gameType': 'W',\n",
       " 'season': '2024',\n",
       " 'gameDate': '2024-11-03T00:08:00Z',\n",
       " 'officialDate': '2024-11-02',\n",
       " 'status': {'abstractGameState': 'Preview',\n",
       "  'codedGameState': 'S',\n",
       "  'detailedState': 'Scheduled',\n",
       "  'statusCode': 'S',\n",
       "  'startTimeTBD': False,\n",
       "  'abstractGameCode': 'P'},\n",
       " 'teams': {'away': {'leagueRecord': {'wins': 0, 'losses': 0, 'pct': '.000'},\n",
       "   'team': {'id': 147,\n",
       "    'name': 'New York Yankees',\n",
       "    'link': '/api/v1/teams/147'},\n",
       "   'splitSquad': False,\n",
       "   'seriesNumber': 1},\n",
       "  'home': {'leagueRecord': {'wins': 0, 'losses': 0, 'pct': '.000'},\n",
       "   'team': {'id': 119,\n",
       "    'name': 'Los Angeles Dodgers',\n",
       "    'link': '/api/v1/teams/119'},\n",
       "   'splitSquad': False,\n",
       "   'seriesNumber': 1}},\n",
       " 'venue': {'id': 22, 'name': 'Dodger Stadium', 'link': '/api/v1/venues/22'},\n",
       " 'content': {'link': '/api/v1/game/775293/content'},\n",
       " 'gameNumber': 1,\n",
       " 'publicFacing': True,\n",
       " 'doubleHeader': 'N',\n",
       " 'gamedayType': 'P',\n",
       " 'tiebreaker': 'N',\n",
       " 'calendarEventID': '14-775293-2024-11-02',\n",
       " 'seasonDisplay': '2024',\n",
       " 'dayNight': 'night',\n",
       " 'description': 'World Series Game 7',\n",
       " 'scheduledInnings': 9,\n",
       " 'reverseHomeAwayStatus': False,\n",
       " 'inningBreakLength': 120,\n",
       " 'gamesInSeries': 7,\n",
       " 'seriesGameNumber': 7,\n",
       " 'seriesDescription': 'World Series',\n",
       " 'recordSource': 'S',\n",
       " 'ifNecessary': 'Y',\n",
       " 'ifNecessaryDescription': 'If Necessary Game'}"
      ]
     },
     "execution_count": null,
     "metadata": {},
     "output_type": "execute_result"
    }
   ],
   "source": [
    "games_2024 = get_season_games(2024)\n",
    "games_2024[-1]"
   ]
  },
  {
   "cell_type": "markdown",
   "id": "69a0965f-abe4-427a-8d21-20406e30d98f",
   "metadata": {},
   "source": [
    "Quick check to see how we can filter for finished games"
   ]
  },
  {
   "cell_type": "code",
   "execution_count": null,
   "id": "2106f606-80af-406c-a63a-fab4a6efac75",
   "metadata": {},
   "outputs": [
    {
     "data": {
      "text/plain": [
       "{'Cancelled', 'Completed Early', 'Final', 'Postponed', 'Scheduled'}"
      ]
     },
     "execution_count": null,
     "metadata": {},
     "output_type": "execute_result"
    }
   ],
   "source": [
    "{g['status']['detailedState'] for g in games_2024}"
   ]
  },
  {
   "cell_type": "code",
   "execution_count": null,
   "id": "a7a10578-ee5f-44b1-97d0-8c83af96dad2",
   "metadata": {},
   "outputs": [
    {
     "data": {
      "text/plain": [
       "2930"
      ]
     },
     "execution_count": null,
     "metadata": {},
     "output_type": "execute_result"
    }
   ],
   "source": [
    "completed_games = [g for g in games_2024 if g['status']['detailedState']=='Final']\n",
    "len(completed_games)"
   ]
  },
  {
   "cell_type": "code",
   "execution_count": null,
   "id": "a39e955f-2718-47b9-8b7e-c033163f99eb",
   "metadata": {},
   "outputs": [],
   "source": []
  }
 ],
 "metadata": {
  "kernelspec": {
   "display_name": "python3",
   "language": "python",
   "name": "python3"
  }
 },
 "nbformat": 4,
 "nbformat_minor": 5
}
