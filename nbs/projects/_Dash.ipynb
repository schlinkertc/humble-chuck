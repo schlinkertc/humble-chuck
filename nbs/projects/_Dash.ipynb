{
 "cells": [
  {
   "cell_type": "markdown",
   "id": "0df47bf8-515c-4c38-8474-9a567673057a",
   "metadata": {},
   "source": [
    "# Dash"
   ]
  },
  {
   "cell_type": "markdown",
   "id": "31e90081-c22d-4084-98fe-532bb72ed1eb",
   "metadata": {},
   "source": [
    "Does dash work on a quarto project in GH Pages?"
   ]
  },
  {
   "cell_type": "code",
   "execution_count": null,
   "id": "79d775bc-ab3d-45a4-9ae2-0ff232a20279",
   "metadata": {},
   "outputs": [],
   "source": [
    "import dash\n",
    "from dash import dcc, html\n",
    "from dash.dependencies import Input, Output\n",
    "import plotly.express as px\n",
    "import pandas as pd\n",
    "\n",
    "# Sample data\n",
    "data = {\n",
    "    'Category': ['A', 'B', 'C', 'D'],\n",
    "    'Values': [10, 20, 15, 25]\n",
    "}\n",
    "df = pd.DataFrame(data)\n",
    "\n",
    "# Initialize the Dash app\n",
    "app = dash.Dash(__name__)\n",
    "\n",
    "# Define the layout of the app\n",
    "app.layout = html.Div([\n",
    "    html.H1(\"Simple Dash App Example\"),\n",
    "    \n",
    "    # Dropdown for category selection\n",
    "    dcc.Dropdown(\n",
    "        id='category-dropdown',\n",
    "        options=[{'label': category, 'value': category} for category in df['Category']],\n",
    "        value='A',  # Default value\n",
    "        clearable=False\n",
    "    ),\n",
    "    \n",
    "    # Graph to display the data\n",
    "    dcc.Graph(id='category-graph')\n",
    "])\n",
    "\n",
    "# Define callback to update the graph based on dropdown selection\n",
    "@app.callback(\n",
    "    Output('category-graph', 'figure'),\n",
    "    Input('category-dropdown', 'value')\n",
    ")\n",
    "def update_graph(selected_category):\n",
    "    # Filter the DataFrame based on the selected category\n",
    "    filtered_df = df[df['Category'] == selected_category]\n",
    "    \n",
    "    # Create a bar chart\n",
    "    fig = px.bar(filtered_df, x='Category', y='Values', title=f\"Values for Category {selected_category}\")\n",
    "    return fig"
   ]
  },
  {
   "cell_type": "code",
   "execution_count": null,
   "id": "0435c652-e94c-4790-860c-341460ccab1e",
   "metadata": {},
   "outputs": [
    {
     "data": {
      "text/html": [
       "\n",
       "        <iframe\n",
       "            width=\"100%\"\n",
       "            height=\"650\"\n",
       "            src=\"http://127.0.0.1:8053/\"\n",
       "            frameborder=\"0\"\n",
       "            allowfullscreen\n",
       "            \n",
       "        ></iframe>\n",
       "        "
      ],
      "text/plain": [
       "<IPython.lib.display.IFrame>"
      ]
     },
     "metadata": {},
     "output_type": "display_data"
    }
   ],
   "source": [
    "#|eval: false\n",
    "\n",
    "app.run(\n",
    "    port=8053,\n",
    "    inline=True\n",
    ")"
   ]
  },
  {
   "cell_type": "code",
   "execution_count": null,
   "id": "1fe686be-6eb5-48df-8f1a-f64d46998262",
   "metadata": {},
   "outputs": [],
   "source": []
  }
 ],
 "metadata": {
  "kernelspec": {
   "display_name": "python3",
   "language": "python",
   "name": "python3"
  }
 },
 "nbformat": 4,
 "nbformat_minor": 5
}
