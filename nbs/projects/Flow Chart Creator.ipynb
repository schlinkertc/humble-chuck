{
 "cells": [
  {
   "cell_type": "markdown",
   "id": "539a9ac0-e337-4783-8888-59b0379a29a1",
   "metadata": {},
   "source": [
    "# Flow Chart Creator "
   ]
  },
  {
   "cell_type": "markdown",
   "id": "a125406e-16ad-4f8c-819f-f0f10cd40766",
   "metadata": {},
   "source": [
    "I saw [this image](images/foul_mood_guide.jpg) and it inspired me to create a flow chart for what to do when you're in a foul mood. So I took a screenshot, submitted it ChatGPT and asked it to create the flow chart. It did pretty well with a few tweaks, but I noticed a lot of repetetion, and defining each node and edge sequentially felt wrong. The the authoring of a flow chart graph did not represent the spirit of the image it was aiming to create. I was further disillusioned by the lack of interactive documentation in the otherwise wonderful [Python implimentation](https://graphviz.readthedocs.io/en/stable/index.html) of Graphviz. Using 'attrs' as keyword argument, forcing the user to lookup attribute names and types, leaves a lot to be desired, especially when working in Jupyter (see Jeremy Howard's thoughts on the matter referenced in my 'delegation' implimentation).\n",
    "\n",
    "I want to create a generalized, reusable pattern to create flow charts using Graphviz using Pydantic to model, validate, and re-use keyword arguments. And I want the definition of the graph structure to more closely mirror the intended output."
   ]
  },
  {
   "cell_type": "code",
   "execution_count": null,
   "id": "4b05e6a4-adc7-4bd4-8fcc-2b35fc39008d",
   "metadata": {},
   "outputs": [],
   "source": [
    "from graphviz import Digraph, Graph\n",
    "from typing import * "
   ]
  },
  {
   "cell_type": "markdown",
   "id": "12013efb-e82e-4e0e-8e24-5576c0b45202",
   "metadata": {},
   "source": [
    "Let's start by looking at ChatGPT's solution to creating a flowchart from our source image. "
   ]
  },
  {
   "cell_type": "code",
   "execution_count": null,
   "id": "9edb8f89-5af1-4baa-bdf2-c12df0376eb1",
   "metadata": {},
   "outputs": [],
   "source": [
    "def create_foul_mood_flowchart():\n",
    "    # Initialize the flowchart\n",
    "    flowchart = Digraph(\"Foul Mood Guide\", format=\"svg\")\n",
    "    flowchart.attr(rankdir=\"TB\")\n",
    "\n",
    "    # Add nodes with positioning\n",
    "    flowchart.node(\"Start\", \"Are you hydrated?\", pos=\"0,0!\")\n",
    "    flowchart.node(\"HydrationYes\", \"Yes\", pos=\"1,-1!\", constraint=\"false\")\n",
    "    flowchart.node(\"HydrationNo\", \"No\", pos=\"-1,-1!\", constraint=\"false\")\n",
    "    flowchart.node(\"DrinkWater\", \"If not, have a glass of water.\", pos=\"-2,-2!\", constraint=\"false\")\n",
    "\n",
    "    flowchart.node(\"Eaten\", \"Have you eaten in the past 3 hours?\", pos=\"2,-2!\")\n",
    "    flowchart.node(\"EatenYes\", \"Yes\", pos=\"3,-3!\", constraint=\"false\")\n",
    "    flowchart.node(\"EatenNo\", \"No\", pos=\"1,-3!\", constraint=\"false\")\n",
    "    flowchart.node(\"EatFood\", \"If not, get some food with protein, not just carbs.\", pos=\"0,-4!\", constraint=\"false\")\n",
    "\n",
    "    flowchart.node(\"Showered\", \"Have you showered in the past day?\", pos=\"4,-4!\")\n",
    "    flowchart.node(\"ShoweredYes\", \"Yes\", pos=\"5,-5!\", constraint=\"false\")\n",
    "    flowchart.node(\"ShoweredNo\", \"No\", pos=\"3,-5!\", constraint=\"false\")\n",
    "    flowchart.node(\"TakeShower\", \"If not, take a shower now.\", pos=\"2,-6!\", constraint=\"false\")\n",
    "\n",
    "    flowchart.node(\"Stretched\", \"Have you stretched your legs in the past day?\", pos=\"6,-6!\")\n",
    "    flowchart.node(\"StretchedYes\", \"Yes\", pos=\"7,-7!\", constraint=\"false\")\n",
    "    flowchart.node(\"StretchedNo\", \"No\", pos=\"5,-7!\", constraint=\"false\")\n",
    "    flowchart.node(\"DoStretch\", \"If not, go for a walk or move around.\", pos=\"4,-8!\", constraint=\"false\")\n",
    "\n",
    "    # Add edges with diagonal placement\n",
    "    flowchart.edge(\"Start\", \"HydrationYes\", label=\"Yes\", constraint=\"true\")\n",
    "    flowchart.edge(\"Start\", \"HydrationNo\", label=\"No\", constraint=\"true\")\n",
    "    flowchart.edge(\"HydrationNo\", \"DrinkWater\")\n",
    "    flowchart.edge(\"HydrationYes\", \"Eaten\")\n",
    "\n",
    "    flowchart.edge(\"Eaten\", \"EatenYes\", label=\"Yes\")\n",
    "    flowchart.edge(\"Eaten\", \"EatenNo\", label=\"No\")\n",
    "    flowchart.edge(\"EatenNo\", \"EatFood\")\n",
    "    flowchart.edge(\"EatenYes\", \"Showered\")\n",
    "\n",
    "    flowchart.edge(\"Showered\", \"ShoweredYes\", label=\"Yes\")\n",
    "    flowchart.edge(\"Showered\", \"ShoweredNo\", label=\"No\")\n",
    "    flowchart.edge(\"ShoweredNo\", \"TakeShower\")\n",
    "    flowchart.edge(\"ShoweredYes\", \"Stretched\")\n",
    "\n",
    "    flowchart.edge(\"Stretched\", \"StretchedYes\", label=\"Yes\")\n",
    "    flowchart.edge(\"Stretched\", \"StretchedNo\", label=\"No\")\n",
    "    flowchart.edge(\"StretchedNo\", \"DoStretch\")\n",
    "    return flowchart"
   ]
  },
  {
   "cell_type": "code",
   "execution_count": null,
   "id": "2c13b6b9-33ce-4a1d-b330-dc10a6836069",
   "metadata": {},
   "outputs": [],
   "source": [
    "from IPython.display import SVG"
   ]
  },
  {
   "cell_type": "code",
   "execution_count": null,
   "id": "e2fe01b4-0145-4421-b594-58215ec4dcd4",
   "metadata": {},
   "outputs": [
    {
     "data": {
      "image/svg+xml": [
       "<svg xmlns=\"http://www.w3.org/2000/svg\" xmlns:xlink=\"http://www.w3.org/1999/xlink\" width=\"980pt\" height=\"690pt\" viewBox=\"0.00 0.00 980.19 690.00\">\n",
       "<g id=\"graph0\" class=\"graph\" transform=\"scale(1 1) rotate(0) translate(4 686)\">\n",
       "<title>Foul Mood Guide</title>\n",
       "<polygon fill=\"white\" stroke=\"none\" points=\"-4,4 -4,-686 976.19,-686 976.19,4 -4,4\"/>\n",
       "<!-- Start -->\n",
       "<g id=\"node1\" class=\"node\">\n",
       "<title>Start</title>\n",
       "<ellipse fill=\"none\" stroke=\"black\" cx=\"740.33\" cy=\"-664\" rx=\"80.01\" ry=\"18\"/>\n",
       "<text text-anchor=\"middle\" x=\"740.33\" y=\"-658.95\" font-family=\"Times,serif\" font-size=\"14.00\">Are you hydrated?</text>\n",
       "</g>\n",
       "<!-- HydrationYes -->\n",
       "<g id=\"node2\" class=\"node\">\n",
       "<title>HydrationYes</title>\n",
       "<ellipse fill=\"none\" stroke=\"black\" cx=\"705.33\" cy=\"-575.5\" rx=\"27\" ry=\"18\"/>\n",
       "<text text-anchor=\"middle\" x=\"705.33\" y=\"-570.45\" font-family=\"Times,serif\" font-size=\"14.00\">Yes</text>\n",
       "</g>\n",
       "<!-- Start&#45;&gt;HydrationYes -->\n",
       "<g id=\"edge1\" class=\"edge\">\n",
       "<title>Start-&gt;HydrationYes</title>\n",
       "<path fill=\"none\" stroke=\"black\" d=\"M733.41,-645.91C728.54,-633.87 721.91,-617.49 716.32,-603.67\"/>\n",
       "<polygon fill=\"black\" stroke=\"black\" points=\"719.67,-602.62 712.68,-594.66 713.18,-605.25 719.67,-602.62\"/>\n",
       "<text text-anchor=\"middle\" x=\"736.45\" y=\"-614.7\" font-family=\"Times,serif\" font-size=\"14.00\">Yes</text>\n",
       "</g>\n",
       "<!-- HydrationNo -->\n",
       "<g id=\"node3\" class=\"node\">\n",
       "<title>HydrationNo</title>\n",
       "<ellipse fill=\"none\" stroke=\"black\" cx=\"829.33\" cy=\"-575.5\" rx=\"27\" ry=\"18\"/>\n",
       "<text text-anchor=\"middle\" x=\"829.33\" y=\"-570.45\" font-family=\"Times,serif\" font-size=\"14.00\">No</text>\n",
       "</g>\n",
       "<!-- Start&#45;&gt;HydrationNo -->\n",
       "<g id=\"edge2\" class=\"edge\">\n",
       "<title>Start-&gt;HydrationNo</title>\n",
       "<path fill=\"none\" stroke=\"black\" d=\"M757.49,-646.32C771.47,-632.74 791.32,-613.44 806.62,-598.57\"/>\n",
       "<polygon fill=\"black\" stroke=\"black\" points=\"808.76,-601.37 813.5,-591.89 803.88,-596.35 808.76,-601.37\"/>\n",
       "<text text-anchor=\"middle\" x=\"801.58\" y=\"-614.7\" font-family=\"Times,serif\" font-size=\"14.00\">No</text>\n",
       "</g>\n",
       "<!-- Eaten -->\n",
       "<g id=\"node5\" class=\"node\">\n",
       "<title>Eaten</title>\n",
       "<ellipse fill=\"none\" stroke=\"black\" cx=\"576.33\" cy=\"-502.5\" rx=\"143.99\" ry=\"18\"/>\n",
       "<text text-anchor=\"middle\" x=\"576.33\" y=\"-497.45\" font-family=\"Times,serif\" font-size=\"14.00\">Have you eaten in the past 3 hours?</text>\n",
       "</g>\n",
       "<!-- HydrationYes&#45;&gt;Eaten -->\n",
       "<g id=\"edge4\" class=\"edge\">\n",
       "<title>HydrationYes-&gt;Eaten</title>\n",
       "<path fill=\"none\" stroke=\"black\" d=\"M684.89,-563.25C666.77,-553.28 639.78,-538.42 617.24,-526.02\"/>\n",
       "<polygon fill=\"black\" stroke=\"black\" points=\"619.02,-523.01 608.58,-521.25 615.65,-529.14 619.02,-523.01\"/>\n",
       "</g>\n",
       "<!-- DrinkWater -->\n",
       "<g id=\"node4\" class=\"node\">\n",
       "<title>DrinkWater</title>\n",
       "<ellipse fill=\"none\" stroke=\"black\" cx=\"855.33\" cy=\"-502.5\" rx=\"116.86\" ry=\"18\"/>\n",
       "<text text-anchor=\"middle\" x=\"855.33\" y=\"-497.45\" font-family=\"Times,serif\" font-size=\"14.00\">If not, have a glass of water.</text>\n",
       "</g>\n",
       "<!-- HydrationNo&#45;&gt;DrinkWater -->\n",
       "<g id=\"edge3\" class=\"edge\">\n",
       "<title>HydrationNo-&gt;DrinkWater</title>\n",
       "<path fill=\"none\" stroke=\"black\" d=\"M835.49,-557.67C838.34,-549.89 841.8,-540.43 845.03,-531.61\"/>\n",
       "<polygon fill=\"black\" stroke=\"black\" points=\"848.27,-532.96 848.42,-522.37 841.69,-530.55 848.27,-532.96\"/>\n",
       "</g>\n",
       "<!-- EatenYes -->\n",
       "<g id=\"node6\" class=\"node\">\n",
       "<title>EatenYes</title>\n",
       "<ellipse fill=\"none\" stroke=\"black\" cx=\"541.33\" cy=\"-414\" rx=\"27\" ry=\"18\"/>\n",
       "<text text-anchor=\"middle\" x=\"541.33\" y=\"-408.95\" font-family=\"Times,serif\" font-size=\"14.00\">Yes</text>\n",
       "</g>\n",
       "<!-- Eaten&#45;&gt;EatenYes -->\n",
       "<g id=\"edge5\" class=\"edge\">\n",
       "<title>Eaten-&gt;EatenYes</title>\n",
       "<path fill=\"none\" stroke=\"black\" d=\"M569.41,-484.41C564.54,-472.37 557.91,-455.99 552.32,-442.17\"/>\n",
       "<polygon fill=\"black\" stroke=\"black\" points=\"555.67,-441.12 548.68,-433.16 549.18,-443.75 555.67,-441.12\"/>\n",
       "<text text-anchor=\"middle\" x=\"572.45\" y=\"-453.2\" font-family=\"Times,serif\" font-size=\"14.00\">Yes</text>\n",
       "</g>\n",
       "<!-- EatenNo -->\n",
       "<g id=\"node7\" class=\"node\">\n",
       "<title>EatenNo</title>\n",
       "<ellipse fill=\"none\" stroke=\"black\" cx=\"684.33\" cy=\"-414\" rx=\"27\" ry=\"18\"/>\n",
       "<text text-anchor=\"middle\" x=\"684.33\" y=\"-408.95\" font-family=\"Times,serif\" font-size=\"14.00\">No</text>\n",
       "</g>\n",
       "<!-- Eaten&#45;&gt;EatenNo -->\n",
       "<g id=\"edge6\" class=\"edge\">\n",
       "<title>Eaten-&gt;EatenNo</title>\n",
       "<path fill=\"none\" stroke=\"black\" d=\"M597.66,-484.41C615.23,-470.34 640.18,-450.36 658.8,-435.44\"/>\n",
       "<polygon fill=\"black\" stroke=\"black\" points=\"660.83,-438.3 666.45,-429.32 656.46,-432.84 660.83,-438.3\"/>\n",
       "<text text-anchor=\"middle\" x=\"648.58\" y=\"-453.2\" font-family=\"Times,serif\" font-size=\"14.00\">No</text>\n",
       "</g>\n",
       "<!-- Showered -->\n",
       "<g id=\"node9\" class=\"node\">\n",
       "<title>Showered</title>\n",
       "<ellipse fill=\"none\" stroke=\"black\" cx=\"362.33\" cy=\"-341\" rx=\"145.52\" ry=\"18\"/>\n",
       "<text text-anchor=\"middle\" x=\"362.33\" y=\"-335.95\" font-family=\"Times,serif\" font-size=\"14.00\">Have you showered in the past day?</text>\n",
       "</g>\n",
       "<!-- EatenYes&#45;&gt;Showered -->\n",
       "<g id=\"edge8\" class=\"edge\">\n",
       "<title>EatenYes-&gt;Showered</title>\n",
       "<path fill=\"none\" stroke=\"black\" d=\"M518.66,-404.01C492.65,-393.69 449.17,-376.44 414.65,-362.75\"/>\n",
       "<polygon fill=\"black\" stroke=\"black\" points=\"416.25,-359.62 405.66,-359.19 413.67,-366.13 416.25,-359.62\"/>\n",
       "</g>\n",
       "<!-- EatFood -->\n",
       "<g id=\"node8\" class=\"node\">\n",
       "<title>EatFood</title>\n",
       "<ellipse fill=\"none\" stroke=\"black\" cx=\"720.33\" cy=\"-341\" rx=\"194.66\" ry=\"18\"/>\n",
       "<text text-anchor=\"middle\" x=\"720.33\" y=\"-335.95\" font-family=\"Times,serif\" font-size=\"14.00\">If not, get some food with protein, not just carbs.</text>\n",
       "</g>\n",
       "<!-- EatenNo&#45;&gt;EatFood -->\n",
       "<g id=\"edge7\" class=\"edge\">\n",
       "<title>EatenNo-&gt;EatFood</title>\n",
       "<path fill=\"none\" stroke=\"black\" d=\"M692.68,-396.53C696.74,-388.52 701.73,-378.68 706.35,-369.57\"/>\n",
       "<polygon fill=\"black\" stroke=\"black\" points=\"709.44,-371.22 710.84,-360.72 703.19,-368.05 709.44,-371.22\"/>\n",
       "</g>\n",
       "<!-- ShoweredYes -->\n",
       "<g id=\"node10\" class=\"node\">\n",
       "<title>ShoweredYes</title>\n",
       "<ellipse fill=\"none\" stroke=\"black\" cx=\"327.33\" cy=\"-252.5\" rx=\"27\" ry=\"18\"/>\n",
       "<text text-anchor=\"middle\" x=\"327.33\" y=\"-247.45\" font-family=\"Times,serif\" font-size=\"14.00\">Yes</text>\n",
       "</g>\n",
       "<!-- Showered&#45;&gt;ShoweredYes -->\n",
       "<g id=\"edge9\" class=\"edge\">\n",
       "<title>Showered-&gt;ShoweredYes</title>\n",
       "<path fill=\"none\" stroke=\"black\" d=\"M355.41,-322.91C350.54,-310.87 343.91,-294.49 338.32,-280.67\"/>\n",
       "<polygon fill=\"black\" stroke=\"black\" points=\"341.67,-279.62 334.68,-271.66 335.18,-282.25 341.67,-279.62\"/>\n",
       "<text text-anchor=\"middle\" x=\"358.45\" y=\"-291.7\" font-family=\"Times,serif\" font-size=\"14.00\">Yes</text>\n",
       "</g>\n",
       "<!-- ShoweredNo -->\n",
       "<g id=\"node11\" class=\"node\">\n",
       "<title>ShoweredNo</title>\n",
       "<ellipse fill=\"none\" stroke=\"black\" cx=\"457.33\" cy=\"-252.5\" rx=\"27\" ry=\"18\"/>\n",
       "<text text-anchor=\"middle\" x=\"457.33\" y=\"-247.45\" font-family=\"Times,serif\" font-size=\"14.00\">No</text>\n",
       "</g>\n",
       "<!-- Showered&#45;&gt;ShoweredNo -->\n",
       "<g id=\"edge10\" class=\"edge\">\n",
       "<title>Showered-&gt;ShoweredNo</title>\n",
       "<path fill=\"none\" stroke=\"black\" d=\"M381.1,-322.91C396.06,-309.28 417.12,-290.11 433.31,-275.36\"/>\n",
       "<polygon fill=\"black\" stroke=\"black\" points=\"435.58,-278.03 440.62,-268.71 430.87,-272.86 435.58,-278.03\"/>\n",
       "<text text-anchor=\"middle\" x=\"427.58\" y=\"-291.7\" font-family=\"Times,serif\" font-size=\"14.00\">No</text>\n",
       "</g>\n",
       "<!-- Stretched -->\n",
       "<g id=\"node13\" class=\"node\">\n",
       "<title>Stretched</title>\n",
       "<ellipse fill=\"none\" stroke=\"black\" cx=\"180.33\" cy=\"-179.5\" rx=\"180.33\" ry=\"18\"/>\n",
       "<text text-anchor=\"middle\" x=\"180.33\" y=\"-174.45\" font-family=\"Times,serif\" font-size=\"14.00\">Have you stretched your legs in the past day?</text>\n",
       "</g>\n",
       "<!-- ShoweredYes&#45;&gt;Stretched -->\n",
       "<g id=\"edge12\" class=\"edge\">\n",
       "<title>ShoweredYes-&gt;Stretched</title>\n",
       "<path fill=\"none\" stroke=\"black\" d=\"M305.95,-241.18C285.07,-231.09 252.63,-215.42 225.95,-202.54\"/>\n",
       "<polygon fill=\"black\" stroke=\"black\" points=\"227.56,-199.43 217.03,-198.23 224.51,-205.73 227.56,-199.43\"/>\n",
       "</g>\n",
       "<!-- TakeShower -->\n",
       "<g id=\"node12\" class=\"node\">\n",
       "<title>TakeShower</title>\n",
       "<ellipse fill=\"none\" stroke=\"black\" cx=\"486.33\" cy=\"-179.5\" rx=\"108.16\" ry=\"18\"/>\n",
       "<text text-anchor=\"middle\" x=\"486.33\" y=\"-174.45\" font-family=\"Times,serif\" font-size=\"14.00\">If not, take a shower now.</text>\n",
       "</g>\n",
       "<!-- ShoweredNo&#45;&gt;TakeShower -->\n",
       "<g id=\"edge11\" class=\"edge\">\n",
       "<title>ShoweredNo-&gt;TakeShower</title>\n",
       "<path fill=\"none\" stroke=\"black\" d=\"M464.2,-234.67C467.41,-226.8 471.33,-217.22 474.97,-208.31\"/>\n",
       "<polygon fill=\"black\" stroke=\"black\" points=\"478.09,-209.93 478.63,-199.35 471.61,-207.28 478.09,-209.93\"/>\n",
       "</g>\n",
       "<!-- StretchedYes -->\n",
       "<g id=\"node14\" class=\"node\">\n",
       "<title>StretchedYes</title>\n",
       "<ellipse fill=\"none\" stroke=\"black\" cx=\"159.33\" cy=\"-91\" rx=\"27\" ry=\"18\"/>\n",
       "<text text-anchor=\"middle\" x=\"159.33\" y=\"-85.95\" font-family=\"Times,serif\" font-size=\"14.00\">Yes</text>\n",
       "</g>\n",
       "<!-- Stretched&#45;&gt;StretchedYes -->\n",
       "<g id=\"edge13\" class=\"edge\">\n",
       "<title>Stretched-&gt;StretchedYes</title>\n",
       "<path fill=\"none\" stroke=\"black\" d=\"M176.18,-161.41C173.3,-149.56 169.41,-133.52 166.09,-119.84\"/>\n",
       "<polygon fill=\"black\" stroke=\"black\" points=\"169.58,-119.42 163.82,-110.52 162.78,-121.07 169.58,-119.42\"/>\n",
       "<text text-anchor=\"middle\" x=\"182.45\" y=\"-130.2\" font-family=\"Times,serif\" font-size=\"14.00\">Yes</text>\n",
       "</g>\n",
       "<!-- StretchedNo -->\n",
       "<g id=\"node15\" class=\"node\">\n",
       "<title>StretchedNo</title>\n",
       "<ellipse fill=\"none\" stroke=\"black\" cx=\"231.33\" cy=\"-91\" rx=\"27\" ry=\"18\"/>\n",
       "<text text-anchor=\"middle\" x=\"231.33\" y=\"-85.95\" font-family=\"Times,serif\" font-size=\"14.00\">No</text>\n",
       "</g>\n",
       "<!-- Stretched&#45;&gt;StretchedNo -->\n",
       "<g id=\"edge14\" class=\"edge\">\n",
       "<title>Stretched-&gt;StretchedNo</title>\n",
       "<path fill=\"none\" stroke=\"black\" d=\"M190.4,-161.41C197.74,-148.97 207.8,-131.9 216.11,-117.81\"/>\n",
       "<polygon fill=\"black\" stroke=\"black\" points=\"218.96,-119.87 221.02,-109.48 212.93,-116.32 218.96,-119.87\"/>\n",
       "<text text-anchor=\"middle\" x=\"219.58\" y=\"-130.2\" font-family=\"Times,serif\" font-size=\"14.00\">No</text>\n",
       "</g>\n",
       "<!-- DoStretch -->\n",
       "<g id=\"node16\" class=\"node\">\n",
       "<title>DoStretch</title>\n",
       "<ellipse fill=\"none\" stroke=\"black\" cx=\"231.33\" cy=\"-18\" rx=\"150.64\" ry=\"18\"/>\n",
       "<text text-anchor=\"middle\" x=\"231.33\" y=\"-12.95\" font-family=\"Times,serif\" font-size=\"14.00\">If not, go for a walk or move around.</text>\n",
       "</g>\n",
       "<!-- StretchedNo&#45;&gt;DoStretch -->\n",
       "<g id=\"edge15\" class=\"edge\">\n",
       "<title>StretchedNo-&gt;DoStretch</title>\n",
       "<path fill=\"none\" stroke=\"black\" d=\"M231.33,-72.81C231.33,-65.23 231.33,-56.1 231.33,-47.54\"/>\n",
       "<polygon fill=\"black\" stroke=\"black\" points=\"234.83,-47.54 231.33,-37.54 227.83,-47.54 234.83,-47.54\"/>\n",
       "</g>\n",
       "</g>\n",
       "</svg>"
      ],
      "text/plain": [
       "<IPython.core.display.SVG object>"
      ]
     },
     "execution_count": null,
     "metadata": {},
     "output_type": "execute_result"
    }
   ],
   "source": [
    "graph = create_foul_mood_flowchart()\n",
    "graph.render('images/foulmood_flowchart',format='svg',)\n",
    "SVG('images/foulmood_flowchart.svg')"
   ]
  },
  {
   "cell_type": "code",
   "execution_count": null,
   "id": "1c172680-8537-4f0d-816c-fab3afac0d7e",
   "metadata": {},
   "outputs": [],
   "source": [
    "from humble_chuck.models import BaseModel\n",
    "from pydantic import ConfigDict"
   ]
  },
  {
   "cell_type": "markdown",
   "id": "582b339b-3a0c-41c2-95cd-cb1e14db9f41",
   "metadata": {},
   "source": [
    "Now let's model some of these attributes. Graphviz has 3 primary objects: graphs, nodes, and edges. There are also subgraphs and cluster but let's get to that later. We'll start with the edges. "
   ]
  },
  {
   "cell_type": "markdown",
   "id": "0e545226-4e06-43d1-ad26-723c733cfe1c",
   "metadata": {},
   "source": [
    "But first, let's create a BaseModel that we can use to define common characteristics of our sub-models."
   ]
  },
  {
   "cell_type": "code",
   "execution_count": null,
   "id": "a6b91629-6585-46d1-bb7a-ca6a4b550473",
   "metadata": {},
   "outputs": [],
   "source": [
    "class GraphVizModel(BaseModel):\n",
    "    \"BaseModel for GraphViz Pydantic models. Used to define common attributes for Graph, Node, and Edge.\"\n",
    "    model_config = ConfigDict(repr_kwargs = {'exclude_unset':True})\n",
    "    \n",
    "    fontsize: Optional[str] = None\n",
    "    "
   ]
  },
  {
   "cell_type": "code",
   "execution_count": null,
   "id": "090d7f35-7446-4b02-89f3-6ffed35f3aa6",
   "metadata": {},
   "outputs": [],
   "source": [
    "class Edge(GraphVizModel):\n",
    "    tail_name: str\n",
    "    head_name: str\n",
    "    label: Optional[str] = None\n",
    "    # other edge attributes"
   ]
  },
  {
   "cell_type": "markdown",
   "id": "3c296aa8-fda8-414f-9a80-ead51fe704ab",
   "metadata": {},
   "source": [
    "Moving on to a NodeModel. "
   ]
  },
  {
   "cell_type": "code",
   "execution_count": null,
   "id": "e37bfc10-f538-4c41-b967-e739ea7c9402",
   "metadata": {},
   "outputs": [],
   "source": [
    "class Node(GraphVizModel):\n",
    "    \"\"\"Node Model\"\"\"\n",
    "    name: str\n",
    "    label: str\n",
    "    pos: Optional[str] = None\n",
    "    constraint: Optional[bool] = None\n",
    "    # other attributes for graphviz nodes\n",
    "    "
   ]
  },
  {
   "cell_type": "code",
   "execution_count": null,
   "id": "d1b2d6d3-e559-4105-866d-7bbe3b2ce0d9",
   "metadata": {},
   "outputs": [],
   "source": [
    "class GraphModel(GraphVizModel):\n",
    "    type: Literal['graph','digraph']\n",
    "    name: str\n",
    "    format: Optional[str] = None\n",
    "    \n",
    "    nodes: List[Node]\n",
    "    edges: Optional[List[Edge]] = []\n",
    "\n",
    "    def make_graph(self):\n",
    "        graph_kwargs = self.model_dump(exclude={'nodes','edges'}) \n",
    "        if self.type == 'graph':\n",
    "            graph = Graph()\n",
    "        else:\n",
    "            graph = Digraph()\n",
    "        nodes_edges = self.model_dump(include={'nodes','edges'})\n",
    "        for node in nodes_edges['nodes']:\n",
    "            graph.node(**node)\n",
    "        for edge in nodes_edges['edges']:\n",
    "            graph.edge(**edge)\n",
    "        return graph"
   ]
  },
  {
   "cell_type": "code",
   "execution_count": null,
   "id": "4aa7c13b-4ba5-46d5-a341-d7c57eea4a6c",
   "metadata": {},
   "outputs": [
    {
     "data": {
      "application/json": {
       "edges": [
        {
         "head_name": "eat",
         "label": "No",
         "tail_name": "eaten"
        },
        {
         "head_name": "slept",
         "label": "Yes",
         "tail_name": "eaten"
        },
        {
         "head_name": "sleep",
         "tail_name": "slept"
        }
       ],
       "name": "basic needs",
       "nodes": [
        {
         "label": "Have you eaten?",
         "name": "eaten"
        },
        {
         "label": "Eat you idiot!",
         "name": "eat"
        },
        {
         "label": "Have you slept?",
         "name": "slept"
        },
        {
         "label": "Go to bed!",
         "name": "sleep"
        }
       ],
       "type": "graph"
      },
      "text/html": [
       "<table border=\"1\"><tr><th>type</th><td>graph</td></tr><tr><th>name</th><td>basic needs</td></tr><tr><th>nodes</th><td><table border=\"1\"><thead><tr><th>name</th><th>label</th></tr></thead><tbody><tr><td>eaten</td><td>Have you eaten?</td></tr><tr><td>eat</td><td>Eat you idiot!</td></tr><tr><td>slept</td><td>Have you slept?</td></tr><tr><td>sleep</td><td>Go to bed!</td></tr></tbody></table></td></tr><tr><th>edges</th><td><ul><li><table border=\"1\"><tr><th>tail_name</th><td>eaten</td></tr><tr><th>head_name</th><td>eat</td></tr><tr><th>label</th><td>No</td></tr></table></li><li><table border=\"1\"><tr><th>tail_name</th><td>eaten</td></tr><tr><th>head_name</th><td>slept</td></tr><tr><th>label</th><td>Yes</td></tr></table></li><li><table border=\"1\"><tr><th>tail_name</th><td>slept</td></tr><tr><th>head_name</th><td>sleep</td></tr></table></li></ul></td></tr></table>"
      ],
      "text/plain": [
       "GraphModel(fontsize=None, type='graph', name='basic needs', format=None, nodes=[Node(fontsize=None, name='eaten', label='Have you eaten?', pos=None, constraint=None), Node(fontsize=None, name='eat', label='Eat you idiot!', pos=None, constraint=None), Node(fontsize=None, name='slept', label='Have you slept?', pos=None, constraint=None), Node(fontsize=None, name='sleep', label='Go to bed!', pos=None, constraint=None)], edges=[Edge(fontsize=None, tail_name='eaten', head_name='eat', label='No'), Edge(fontsize=None, tail_name='eaten', head_name='slept', label='Yes'), Edge(fontsize=None, tail_name='slept', head_name='sleep', label=None)])"
      ]
     },
     "metadata": {},
     "output_type": "display_data"
    },
    {
     "data": {
      "image/svg+xml": [
       "<?xml version=\"1.0\" encoding=\"UTF-8\" standalone=\"no\"?>\n",
       "<!DOCTYPE svg PUBLIC \"-//W3C//DTD SVG 1.1//EN\"\n",
       " \"http://www.w3.org/Graphics/SVG/1.1/DTD/svg11.dtd\">\n",
       "<!-- Generated by graphviz version 9.0.0 (0)\n",
       " -->\n",
       "<!-- Pages: 1 -->\n",
       "<svg width=\"292pt\" height=\"206pt\"\n",
       " viewBox=\"0.00 0.00 291.90 205.50\" xmlns=\"http://www.w3.org/2000/svg\" xmlns:xlink=\"http://www.w3.org/1999/xlink\">\n",
       "<g id=\"graph0\" class=\"graph\" transform=\"scale(1 1) rotate(0) translate(4 201.5)\">\n",
       "<polygon fill=\"white\" stroke=\"none\" points=\"-4,4 -4,-201.5 287.9,-201.5 287.9,4 -4,4\"/>\n",
       "<!-- eaten -->\n",
       "<g id=\"node1\" class=\"node\">\n",
       "<title>eaten</title>\n",
       "<ellipse fill=\"none\" stroke=\"black\" cx=\"82.1\" cy=\"-179.5\" rx=\"72.85\" ry=\"18\"/>\n",
       "<text text-anchor=\"middle\" x=\"82.1\" y=\"-174.45\" font-family=\"Times,serif\" font-size=\"14.00\">Have you eaten?</text>\n",
       "</g>\n",
       "<!-- eat -->\n",
       "<g id=\"node2\" class=\"node\">\n",
       "<title>eat</title>\n",
       "<ellipse fill=\"none\" stroke=\"black\" cx=\"62.1\" cy=\"-91\" rx=\"62.1\" ry=\"18\"/>\n",
       "<text text-anchor=\"middle\" x=\"62.1\" y=\"-85.95\" font-family=\"Times,serif\" font-size=\"14.00\">Eat you idiot!</text>\n",
       "</g>\n",
       "<!-- eaten&#45;&#45;eat -->\n",
       "<g id=\"edge1\" class=\"edge\">\n",
       "<title>eaten&#45;&#45;eat</title>\n",
       "<path fill=\"none\" stroke=\"black\" d=\"M78.15,-161.41C74.66,-146.34 69.61,-124.49 66.11,-109.35\"/>\n",
       "<text text-anchor=\"middle\" x=\"82.35\" y=\"-130.2\" font-family=\"Times,serif\" font-size=\"14.00\">No</text>\n",
       "</g>\n",
       "<!-- slept -->\n",
       "<g id=\"node3\" class=\"node\">\n",
       "<title>slept</title>\n",
       "<ellipse fill=\"none\" stroke=\"black\" cx=\"213.1\" cy=\"-91\" rx=\"70.8\" ry=\"18\"/>\n",
       "<text text-anchor=\"middle\" x=\"213.1\" y=\"-85.95\" font-family=\"Times,serif\" font-size=\"14.00\">Have you slept?</text>\n",
       "</g>\n",
       "<!-- eaten&#45;&#45;slept -->\n",
       "<g id=\"edge2\" class=\"edge\">\n",
       "<title>eaten&#45;&#45;slept</title>\n",
       "<path fill=\"none\" stroke=\"black\" d=\"M106.74,-162.23C130.16,-146.77 165.19,-123.64 188.57,-108.2\"/>\n",
       "<text text-anchor=\"middle\" x=\"169.22\" y=\"-130.2\" font-family=\"Times,serif\" font-size=\"14.00\">Yes</text>\n",
       "</g>\n",
       "<!-- sleep -->\n",
       "<g id=\"node4\" class=\"node\">\n",
       "<title>sleep</title>\n",
       "<ellipse fill=\"none\" stroke=\"black\" cx=\"213.1\" cy=\"-18\" rx=\"50.84\" ry=\"18\"/>\n",
       "<text text-anchor=\"middle\" x=\"213.1\" y=\"-12.95\" font-family=\"Times,serif\" font-size=\"14.00\">Go to bed!</text>\n",
       "</g>\n",
       "<!-- slept&#45;&#45;sleep -->\n",
       "<g id=\"edge3\" class=\"edge\">\n",
       "<title>slept&#45;&#45;sleep</title>\n",
       "<path fill=\"none\" stroke=\"black\" d=\"M213.1,-72.81C213.1,-61.65 213.1,-47.16 213.1,-36.03\"/>\n",
       "</g>\n",
       "</g>\n",
       "</svg>\n"
      ],
      "text/plain": [
       "<graphviz.graphs.Graph>"
      ]
     },
     "execution_count": null,
     "metadata": {},
     "output_type": "execute_result"
    }
   ],
   "source": [
    "graph = GraphModel(\n",
    "    type='graph',\n",
    "    name='basic needs',\n",
    "    nodes = [\n",
    "        Node(name='eaten',label=\"Have you eaten?\",),\n",
    "        Node(name='eat',label='Eat you idiot!'),\n",
    "        Node(name='slept',label=\"Have you slept?\"),\n",
    "        Node(name='sleep',label='Go to bed!')\n",
    "    ],\n",
    "    edges = [\n",
    "        Edge(head_name='eat',tail_name='eaten',label='No'),\n",
    "        Edge(tail_name='eaten',head_name='slept',label='Yes'),\n",
    "        Edge(tail_name='slept',head_name='sleep'),\n",
    "        \n",
    "        \n",
    "    ]\n",
    ")\n",
    "display(graph)\n",
    "\n",
    "graph.make_graph()"
   ]
  },
  {
   "cell_type": "markdown",
   "id": "0a86dc9a-7dd3-475b-a9e7-2fb3791f1566",
   "metadata": {},
   "source": [
    "Not bad, but notice how different the definition and json representation of the graph are from the actual image. I would much prefer a hierarchal way of defining and modeling my basic needs flow chart. I would much rather have something like this:\n",
    "\n",
    "```\n",
    "Graph(\n",
    "    Node(\n",
    "        name='have you eaten',\n",
    "        child_nodes={\n",
    "            'no':Node('eat'),\n",
    "            'yes':Node(\n",
    "                name ='have you slept'\n",
    "                child_nodes={'no':Node('sleep')}\n",
    "                )\n",
    "        }\n",
    "    )\n",
    ")\n",
    "```"
   ]
  },
  {
   "cell_type": "markdown",
   "id": "a456e642-99a1-4a03-b5da-3e7a9fbd5448",
   "metadata": {},
   "source": [
    "Something to consider: \n",
    "\n",
    "Should we have 'child-nodes' that are able to set their attribute relevant to the parent? I don't see a way of doing this with Graphviz natively. If so, Node would have to be a [self-refrencing model](https://docs.pydantic.dev/latest/concepts/forward_annotations/#self-referencing-or-recursive-models)\n",
    "\n"
   ]
  },
  {
   "cell_type": "code",
   "execution_count": null,
   "id": "1c9b4298-a160-48ca-9919-e76e124e3708",
   "metadata": {},
   "outputs": [],
   "source": []
  }
 ],
 "metadata": {
  "kernelspec": {
   "display_name": "python3",
   "language": "python",
   "name": "python3"
  }
 },
 "nbformat": 4,
 "nbformat_minor": 5
}
