{
 "cells": [
  {
   "cell_type": "code",
   "execution_count": null,
   "id": "7e21b17c-c961-4a92-be6d-3f5d44ea0f60",
   "metadata": {},
   "outputs": [],
   "source": [
    "#| default_exp display"
   ]
  },
  {
   "attachments": {},
   "cell_type": "markdown",
   "id": "f78fe370-138e-4e77-b329-389699ce113d",
   "metadata": {},
   "source": [
    "# display\n"
   ]
  },
  {
   "cell_type": "code",
   "execution_count": null,
   "id": "e93802b6-476e-4ccb-ac79-651a3deb4067",
   "metadata": {},
   "outputs": [],
   "source": [
    "#| exporti\n",
    "\n",
    "from plotly import graph_objects as go"
   ]
  },
  {
   "cell_type": "code",
   "execution_count": null,
   "id": "023d07f0-b6ea-47a6-9ffd-815910398445",
   "metadata": {},
   "outputs": [],
   "source": [
    "#| exports \n",
    "\n",
    "def custom_show(\n",
    "    fig:go.Figure,\n",
    "    filename:str = None\n",
    "):\n",
    "    \"\"\" A custom version of the `show` method of a Plotly Figure. \n",
    "    \n",
    "    - Removes the Plotly logo from the display\n",
    "    - Downloaded plots are higher quality 'SVG' format\n",
    "    - Allows you to pass 'filename' argument to customize the name of the downloaded file \n",
    "    \"\"\"\n",
    "    cfg = dict(\n",
    "        toImageButtonOptions=config['toImageButtonOptions'],\n",
    "        displaylogo=False\n",
    "    )\n",
    "    if filename:\n",
    "        cfg['toImageButtonOptions']['filename']=filename\n",
    "    fig.show(config=cfg)\n"
   ]
  },
  {
   "cell_type": "code",
   "execution_count": null,
   "id": "cefcd805-0fde-464d-9f1c-6a22b38c1cc6",
   "metadata": {},
   "outputs": [],
   "source": []
  }
 ],
 "metadata": {
  "kernelspec": {
   "display_name": "python3",
   "language": "python",
   "name": "python3"
  }
 },
 "nbformat": 4,
 "nbformat_minor": 5
}
