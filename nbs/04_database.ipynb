{
 "cells": [
  {
   "cell_type": "code",
   "execution_count": 1,
   "id": "40942a33-0a09-42d8-b899-2ca194f2b38a",
   "metadata": {},
   "outputs": [],
   "source": [
    "#| exporti database"
   ]
  },
  {
   "cell_type": "markdown",
   "id": "15cae99a-9d81-4fd2-9419-39198155e9be",
   "metadata": {},
   "source": [
    "# Database "
   ]
  },
  {
   "cell_type": "markdown",
   "id": "e1d72c21-73c7-4815-9785-53a57fba7416",
   "metadata": {},
   "source": [
    "I absolutely love [SQLAlchemy](link here). Data Modeling is one of the concepts that initially drew me to coding. But I hate creating the engine and and all the different options they give you for establishing a connection. And how easy it is to screw it up. Especially because 90% of the time I just want to preview a result in a DataFrame.\n",
    "\n",
    "I wanted a simple wrapper class that handled instantiation and the context managers required for connecting to the engine. While we're at it we can make it look nice, too."
   ]
  },
  {
   "cell_type": "code",
   "execution_count": null,
   "id": "dd3abbc7-888c-4f66-a2d1-cdac077f026a",
   "metadata": {},
   "outputs": [],
   "source": []
  }
 ],
 "metadata": {
  "kernelspec": {
   "display_name": "Python 3 (ipykernel)",
   "language": "python",
   "name": "python3"
  },
  "language_info": {
   "codemirror_mode": {
    "name": "ipython",
    "version": 3
   },
   "file_extension": ".py",
   "mimetype": "text/x-python",
   "name": "python",
   "nbconvert_exporter": "python",
   "pygments_lexer": "ipython3",
   "version": "3.11.9"
  }
 },
 "nbformat": 4,
 "nbformat_minor": 5
}
