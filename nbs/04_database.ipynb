{
 "cells": [
  {
   "cell_type": "code",
   "execution_count": null,
   "id": "40942a33-0a09-42d8-b899-2ca194f2b38a",
   "metadata": {},
   "outputs": [],
   "source": [
    "#| default_exp database"
   ]
  },
  {
   "cell_type": "markdown",
   "id": "15cae99a-9d81-4fd2-9419-39198155e9be",
   "metadata": {},
   "source": [
    "# Database "
   ]
  },
  {
   "cell_type": "markdown",
   "id": "e1d72c21-73c7-4815-9785-53a57fba7416",
   "metadata": {},
   "source": [
    "I absolutely love [SQLAlchemy](link here). Data Modeling is one of the concepts that initially drew me to coding. But I hate creating the engine and and all the different options they give you for establishing a connection. And how easy it is to screw it up. Especially because 90% of the time I just want to preview a result in a DataFrame.\n",
    "\n",
    "I wanted a simple wrapper class that handled instantiation and the context managers required for connecting to the engine. While we're at it we can make it look nice, too."
   ]
  },
  {
   "cell_type": "code",
   "execution_count": null,
   "id": "37fd3b6f-0b52-49fb-b610-3dbed96f5d6b",
   "metadata": {},
   "outputs": [],
   "source": [
    "#| exporti \n",
    "\n",
    "from humble_chuck.models import BaseSettings\n",
    "from typing import *\n",
    "from pydantic import SecretStr\n",
    "#| exporti\n",
    "\n",
    "from humble_chuck.delegation import delegates\n",
    "\n",
    "\n",
    "import sqlalchemy\n",
    "\n",
    "from sqlalchemy import URL\n",
    "from sqlalchemy import create_engine, Engine\n",
    "    \n",
    "from sqlalchemy.orm import Session\n",
    "from pydantic import SecretStr, Field\n",
    "from pydantic_settings import SettingsConfigDict\n",
    "from typing import Optional,Union\n",
    "from abc import ABC, abstractproperty,abstractmethod\n",
    "from contextlib import contextmanager\n",
    "import pandas as pd\n",
    "from sqlalchemy import text\n"
   ]
  },
  {
   "cell_type": "code",
   "execution_count": null,
   "id": "6a6f13f4-a3f9-45c7-88c6-22d4b9725fda",
   "metadata": {},
   "outputs": [],
   "source": [
    "#| export \n",
    "\n",
    "class DatabaseSettings(BaseSettings):\n",
    "    username: Optional[str]=None\n",
    "    password: Optional[SecretStr]=None\n",
    "    drivername:str \n",
    "    host: Optional[str]=None\n",
    "    port: Optional[int]=None\n",
    "    database: Optional[str]=None\n",
    "    query: dict[str,str]={}"
   ]
  },
  {
   "cell_type": "code",
   "execution_count": null,
   "id": "dd3abbc7-888c-4f66-a2d1-cdac077f026a",
   "metadata": {},
   "outputs": [],
   "source": [
    "#| export \n",
    "\n",
    "class Database(DatabaseSettings):\n",
    "    \"\"\"\n",
    "    Create a Database connection with default functionality. \n",
    "    \n",
    "    Inherits attributes from `DatabaseSettings` to manage credentials. Inherits methods from `AbstractDatabaseClass`.\n",
    "\n",
    "    Use the class as-is to quickly create a database connection, or create a subclass to control connections to a specific database.\n",
    "    \n",
    "    More on SQL Alchemy engines from [SQLAlchemy docs](https://docs.sqlalchemy.org/en/13/core/engines.html):\n",
    "    \n",
    "    - The Engine is the starting point for any SQLAlchemy application. It’s “home base” for the actual database and its DBAPI.  \n",
    "    - An Engine references both a Dialect and a Pool, which together interpret the DBAPI’s module functions as well as the behavior of the database \n",
    "    - Pool object which will establish a DBAPI connection at localhost:5432 when a connection request is first received  \n",
    "    -- Note that the Engine and its underlying Pool do **not** establish the first actual DBAPI connection until the Engine.connect() method is called, or an operation which is dependent on this method such as Engine.execute() is invoked.\n",
    "    - In this way, Engine and Pool can be said to have a lazy initialization behavior.  \n",
    "    - The Engine, once created, can either be used directly to interact with the database, or can be passed to a Session object to work with the ORM.  \n",
    "    \"\"\"\n",
    "    _engine:Engine = None\n",
    "    _engine_url:URL = None\n",
    "\n",
    "    def __init__(\n",
    "        self,\n",
    "        **kwargs\n",
    "    ):\n",
    "        # settings __init__\n",
    "        super().__init__(**kwargs)\n",
    "        if hasattr(self.password,'get_secret_value'):\n",
    "            \n",
    "            password = self.password.get_secret_value()\n",
    "            \n",
    "        else:\n",
    "            password = self.password\n",
    "        url = URL.create(\n",
    "            drivername=self.drivername,\n",
    "            username=self.username,\n",
    "            password=password,\n",
    "            host=self.host,\n",
    "            port=self.port,\n",
    "            database=self.database,\n",
    "            query=self.query\n",
    "        )\n",
    "        self._engine_url=url\n",
    "        self._engine=create_engine(url)\n",
    "\n",
    "    \n",
    "    model_config = SettingsConfigDict(\n",
    "        #allows for attributes of `database settings` to be set as defaults in subclasses without type annotation\n",
    "        ignored_types=(int,str,dict),\n",
    "        arbitrary_types_allowed=True\n",
    "    )\n",
    "\n",
    "    def query_to_records(\n",
    "        self,\n",
    "        query_string:str,\n",
    "    ):\n",
    "        with self._engine.connect() as conn:\n",
    "            results = [row for row in conn.execute(text(query_string)).mappings()]\n",
    "        return results\n",
    "\n",
    "    @delegates(pd.read_sql_query)\n",
    "    def query_to_df(\n",
    "        self,\n",
    "        query_string,\n",
    "        **kwargs\n",
    "    ):\n",
    "        f\"\"\"{pd.read_sql_query.__doc__}\"\"\"\n",
    "        with self._engine.connect() as conn:\n",
    "            df = pd.read_sql_query(\n",
    "                text(query_string),conn,**kwargs)\n",
    "        return df\n",
    "\n",
    "    @contextmanager\n",
    "    def engine_scope(self,**kwargs):\n",
    "        with self._engine.connect() as conn: \n",
    "            try:\n",
    "                yield conn\n",
    "                conn.commit()\n",
    "            except:\n",
    "                raise\n",
    "            finally:\n",
    "                conn.close()\n",
    "                \n",
    "    @contextmanager\n",
    "    def session_scope(self,bind=None,**kwargs):\n",
    "        \"\"\"Provide a transactional scope around a series of operations.\"\"\"\n",
    "\n",
    "        session = Session(bind=self._engine,**kwargs)\n",
    "        try:\n",
    "            yield session\n",
    "            session.commit()\n",
    "        except:\n",
    "            session.rollback()\n",
    "            raise\n",
    "        finally:\n",
    "            session.close()\n"
   ]
  },
  {
   "cell_type": "code",
   "execution_count": null,
   "id": "3d02ccc7-7817-4850-ba6f-a37cdcbd1e43",
   "metadata": {},
   "outputs": [],
   "source": [
    "import os"
   ]
  },
  {
   "cell_type": "code",
   "execution_count": null,
   "id": "1db87035-09e1-4549-8af7-6a2643e6c593",
   "metadata": {},
   "outputs": [
    {
     "data": {
      "application/json": {
       "database": "pfmegrnargs",
       "drivername": "postgresql",
       "host": "hh-pgsql-public.ebi.ac.uk",
       "password": "**********",
       "port": 5432,
       "query": {},
       "username": "reader"
      },
      "text/html": [
       "<table border=\"1\"><tr><th>username</th><td>reader</td></tr><tr><th>password</th><td>**********</td></tr><tr><th>drivername</th><td>postgresql</td></tr><tr><th>host</th><td>hh-pgsql-public.ebi.ac.uk</td></tr><tr><th>port</th><td>5432</td></tr><tr><th>database</th><td>pfmegrnargs</td></tr><tr><th>query</th><td></td></tr></table>"
      ],
      "text/plain": [
       "RNACentralDatabase(username='reader', password=SecretStr('**********'), drivername='postgresql', host='hh-pgsql-public.ebi.ac.uk', port=5432, database='pfmegrnargs', query={})"
      ]
     },
     "execution_count": null,
     "metadata": {},
     "output_type": "execute_result"
    }
   ],
   "source": [
    "class RNACentralDatabase(Database):\n",
    "    model_config = SettingsConfigDict(env_prefix='rna_db_')\n",
    "    \n",
    "    drivername='postgresql'\n",
    "    database='pfmegrnargs'\n",
    "    host='hh-pgsql-public.ebi.ac.uk'\n",
    "    port=5432\n",
    "    \n",
    "\n",
    "os.environ['rna_db_username']='reader'\n",
    "os.environ['rna_db_password']='NWDMCE5xdipIjRrp'\n",
    "\n",
    "rna_db = RNACentralDatabase()\n",
    "rna_db"
   ]
  },
  {
   "cell_type": "code",
   "execution_count": null,
   "id": "94882dd3-2a93-4832-8fa5-9f4b9c76a91c",
   "metadata": {},
   "outputs": [],
   "source": []
  }
 ],
 "metadata": {
  "kernelspec": {
   "display_name": "python3",
   "language": "python",
   "name": "python3"
  }
 },
 "nbformat": 4,
 "nbformat_minor": 5
}
