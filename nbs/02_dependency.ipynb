{
 "cells": [
  {
   "cell_type": "markdown",
   "id": "612b2df9-4439-462f-918e-47d4ec0fc1c7",
   "metadata": {},
   "source": [
    "# Dependency\n",
    "> Using Pydantic's `validate_call` arguments to run dependant functions"
   ]
  },
  {
   "cell_type": "markdown",
   "id": "956366c3-0420-430f-9402-d343127f841e",
   "metadata": {},
   "source": [
    "**The Setup**\n",
    "\n",
    "In one of my previous roles, my team was required to produce multiple PDF reports on various schedules. We had various python functions that produced data for these reports, and some functions produced data that would be re-used in other sections. So for example, `function_a` produces `table_a`, and `function_b` uses `table_a` to produce `table_b`. `function_c` also uses `table_a` but produces a different result. \n",
    "\n",
    "As we developed these dependant functions, we wanted to be sure that the entire dependency tree worked. But when they ran in production, we didn't want to constantly re-run the same function over and over again. Especially if there is up-to-the-minute data involved that might change slighly throughout the course of the report generation. \n",
    "\n",
    "**The Goal**  \n",
    "We wanted a pattern that would allow us to write a dependent function that, when called, could either produce the dependency or retrieve it from state. \n",
    "\n",
    "From our earlier example: \n",
    "- function_b is the dependent (because it depends on the result of function_a),\n",
    "- function_a is the dependency (because function_b relies on it).\n",
    "- function_c is also a dependent of function_a\n",
    "\n",
    "When called, function_b will automatically generate the results of function_a. Later, when function_c is called, it will recall the result of function_a from state to avoid using different inputs than funtion_b and increase performance. \n",
    "\n",
    "**The Result**  \n",
    "A `Dependency` object with a mapping of argument names -> dependency functions. Dependencies are defined in a function signature using type annotations, and functions that use this dependency structure will have a decorator to impliment this pattern. \n"
   ]
  },
  {
   "cell_type": "code",
   "execution_count": null,
   "id": "f2711b6d-660a-4152-a52e-6a8e6b93499d",
   "metadata": {},
   "outputs": [],
   "source": [
    "#| exporti \n",
    "\n",
    "import logging\n",
    "from typing import Any, Callable, Dict\n",
    "from pydantic import ValidationError, validate_call,GetCoreSchemaHandler\n",
    "from pydantic_core import core_schema\n",
    "from pydantic.json_schema import JsonSchemaValue,GetJsonSchemaHandler"
   ]
  },
  {
   "cell_type": "code",
   "execution_count": null,
   "id": "47762afe-1102-4a65-8b29-9de8ddc2d6da",
   "metadata": {},
   "outputs": [],
   "source": [
    "#exporti\n",
    "\n",
    "# create logger\n",
    "logger = logging.getLogger(__name__)\n",
    "logger.setLevel(logging.INFO)\n",
    "\n",
    "# create console handler and set level to debug\n",
    "ch = logging.StreamHandler()\n",
    "ch.setLevel(logging.DEBUG)\n",
    "\n",
    "# create formatter\n",
    "formatter = logging.Formatter('%(asctime)s - %(name)s - %(levelname)s - %(message)s')\n",
    "\n",
    "# add formatter to ch\n",
    "ch.setFormatter(formatter)\n",
    "\n",
    "# add ch to logger\n",
    "logger.addHandler(ch)"
   ]
  },
  {
   "cell_type": "code",
   "execution_count": null,
   "id": "cf67f4ba-815c-490a-97d9-d7b21700916e",
   "metadata": {},
   "outputs": [],
   "source": [
    "#|export \n",
    "\n",
    "logger = logging.getLogger(__name__)\n",
    "\n",
    "class Dependency:\n",
    "    depends_on: Dict[str, Callable]\n",
    "\n",
    "    @classmethod\n",
    "    def validate(cls, value: Dict[str, Any]) -> Dict[str, Any]:\n",
    "        \"\"\"\n",
    "        Validate the input dictionary based on the functions in `depends_on`.\n",
    "        If a function is not present in the dictionary, call the function and store the result.\n",
    "        \"\"\"\n",
    "        for key, func in cls.depends_on.items():\n",
    "            if key not in value:\n",
    "                logger.info(f\"validating: {func.__name__} as {key}\")\n",
    "                output = func(value)\n",
    "                value[key] = output\n",
    "\n",
    "            else:\n",
    "                logger.info(f\"retrieving {key} from state.\")\n",
    "        return value\n",
    "\n",
    "    @classmethod\n",
    "    def __get_pydantic_core_schema__(\n",
    "        cls, source_type: Any, handler: GetCoreSchemaHandler\n",
    "    ) -> core_schema.CoreSchema:\n",
    "        \"\"\"\n",
    "        Core schema definition for Pydantic, integrating the Dependency class\n",
    "        with the list of functions passed via depends_on.\n",
    "        \"\"\"\n",
    "        return core_schema.chain_schema([\n",
    "            core_schema.dict_schema(),\n",
    "            core_schema.no_info_plain_validator_function(cls.validate)\n",
    "        ])\n",
    "\n",
    "    @classmethod\n",
    "    def __get_pydantic_json_schema__(\n",
    "        cls, _core_schema: core_schema.CoreSchema, handler: GetJsonSchemaHandler\n",
    "    ) -> JsonSchemaValue:\n",
    "        \"\"\"\n",
    "        Defines how the `Dependency` object should be serialized in JSON schemas.\n",
    "        \"\"\"\n",
    "        json_schema = handler(core_schema.dict_schema())\n",
    "        print(cls.depends_on)\n",
    "        json_schema.update({'description': 'A custom Dependency type with named keys'})\n",
    "        return json_schema\n",
    "\n",
    "\n",
    "# Custom `depends_on` to parameterize the Dependency class with named keys\n",
    "def depends_on(**functions: Callable) -> type:\n",
    "    \"\"\"\n",
    "    Dynamically creates a new subclass of Dependency with the depends_on dict set to the given functions.\n",
    "    This allows for named dependencies.\n",
    "    \"\"\"\n",
    "    return type(\n",
    "        f'Dependency({\", \".join(f\"{k}={v.__name__}\" for k, v in functions.items())})',\n",
    "        (Dependency,),\n",
    "        {'depends_on': functions}\n",
    "    )"
   ]
  },
  {
   "cell_type": "code",
   "execution_count": null,
   "id": "a9190d64-073f-4ce7-9ef7-3e23989775e3",
   "metadata": {},
   "outputs": [],
   "source": [
    "import pandas as pd"
   ]
  },
  {
   "cell_type": "code",
   "execution_count": null,
   "id": "ee81435a-022c-457d-ac8d-9a97501bf81f",
   "metadata": {},
   "outputs": [],
   "source": [
    "# Sample function to return a dummy DataFrame\n",
    "def create_dummy_frame(*args):\n",
    "    return pd.DataFrame({'a': [1, 2, 3], 'b': [4, 5, 6]})\n",
    "\n",
    "# Using validate_call for input validation\n",
    "@validate_call\n",
    "def double_dummy(\n",
    "    data: depends_on(dummy_data=create_dummy_frame)\n",
    "):\n",
    "    assert data['dummy_data'].equals(create_dummy_frame())\n",
    "    return data['dummy_data'] * 2"
   ]
  },
  {
   "cell_type": "code",
   "execution_count": null,
   "id": "0fe8c192-6607-40c9-a60e-0a252025a5e5",
   "metadata": {},
   "outputs": [
    {
     "name": "stderr",
     "output_type": "stream",
     "text": [
      "2024-09-19 09:45:48,581 - __main__ - INFO - validating: create_dummy_frame as dummy_data\n"
     ]
    },
    {
     "name": "stdout",
     "output_type": "stream",
     "text": [
      "   a   b\n",
      "0  2   8\n",
      "1  4  10\n",
      "2  6  12\n"
     ]
    }
   ],
   "source": [
    "# Example of calling the function where create_dummy_frame is called by the validator\n",
    "try:\n",
    "    result = double_dummy({})\n",
    "    print(result)\n",
    "except ValidationError as e:\n",
    "    print(e)"
   ]
  },
  {
   "cell_type": "code",
   "execution_count": null,
   "id": "c2ce4a1b-e456-4862-9675-d2cfa6371452",
   "metadata": {},
   "outputs": [
    {
     "name": "stderr",
     "output_type": "stream",
     "text": [
      "2024-09-19 09:45:48,588 - __main__ - INFO - retrieving dummy_data from state.\n"
     ]
    },
    {
     "data": {
      "text/html": [
       "<div>\n",
       "<style scoped>\n",
       "    .dataframe tbody tr th:only-of-type {\n",
       "        vertical-align: middle;\n",
       "    }\n",
       "\n",
       "    .dataframe tbody tr th {\n",
       "        vertical-align: top;\n",
       "    }\n",
       "\n",
       "    .dataframe thead th {\n",
       "        text-align: right;\n",
       "    }\n",
       "</style>\n",
       "<table border=\"1\" class=\"dataframe\">\n",
       "  <thead>\n",
       "    <tr style=\"text-align: right;\">\n",
       "      <th></th>\n",
       "      <th>a</th>\n",
       "      <th>b</th>\n",
       "    </tr>\n",
       "  </thead>\n",
       "  <tbody>\n",
       "    <tr>\n",
       "      <th>0</th>\n",
       "      <td>2</td>\n",
       "      <td>8</td>\n",
       "    </tr>\n",
       "    <tr>\n",
       "      <th>1</th>\n",
       "      <td>4</td>\n",
       "      <td>10</td>\n",
       "    </tr>\n",
       "    <tr>\n",
       "      <th>2</th>\n",
       "      <td>6</td>\n",
       "      <td>12</td>\n",
       "    </tr>\n",
       "  </tbody>\n",
       "</table>\n",
       "</div>"
      ],
      "text/plain": [
       "   a   b\n",
       "0  2   8\n",
       "1  4  10\n",
       "2  6  12"
      ]
     },
     "execution_count": null,
     "metadata": {},
     "output_type": "execute_result"
    }
   ],
   "source": [
    "# or you can pass the data yourself\n",
    "double_dummy(\n",
    "    data={'dummy_data':create_dummy_frame()}\n",
    ")"
   ]
  },
  {
   "cell_type": "code",
   "execution_count": null,
   "id": "0ba5b88b-8b3b-49fa-962a-144795c1664d",
   "metadata": {},
   "outputs": [],
   "source": [
    "\n",
    "@validate_call\n",
    "def call_both(data:depends_on(\n",
    "    dummy_data=create_dummy_frame,\n",
    "    double=double_dummy\n",
    ")):\n",
    "    return data"
   ]
  },
  {
   "cell_type": "code",
   "execution_count": null,
   "id": "157aec52-3c44-47a9-8ace-88c8417d7a49",
   "metadata": {},
   "outputs": [
    {
     "name": "stderr",
     "output_type": "stream",
     "text": [
      "2024-09-19 09:45:48,598 - __main__ - INFO - validating: create_dummy_frame as dummy_data\n",
      "2024-09-19 09:45:48,598 - __main__ - INFO - validating: double_dummy as double\n",
      "2024-09-19 09:45:48,601 - __main__ - INFO - retrieving dummy_data from state.\n"
     ]
    },
    {
     "data": {
      "text/plain": [
       "{'dummy_data':    a  b\n",
       " 0  1  4\n",
       " 1  2  5\n",
       " 2  3  6,\n",
       " 'double':    a   b\n",
       " 0  2   8\n",
       " 1  4  10\n",
       " 2  6  12}"
      ]
     },
     "execution_count": null,
     "metadata": {},
     "output_type": "execute_result"
    }
   ],
   "source": [
    "call_both(data={})"
   ]
  },
  {
   "cell_type": "code",
   "execution_count": null,
   "id": "f365755a-72b9-4c2a-827d-eec81103942c",
   "metadata": {},
   "outputs": [],
   "source": [
    "from pydantic import BaseModel\n",
    "\n",
    "class Model(BaseModel):\n",
    "    data: depends_on(dummy_data=create_dummy_frame,double=double_dummy)"
   ]
  },
  {
   "cell_type": "code",
   "execution_count": null,
   "id": "1393697c-5276-4472-b033-25ee2294454b",
   "metadata": {},
   "outputs": [
    {
     "data": {
      "text/plain": [
       "__main__.Dependency(dummy_data=create_dummy_frame, double=double_dummy)"
      ]
     },
     "execution_count": null,
     "metadata": {},
     "output_type": "execute_result"
    }
   ],
   "source": [
    "dep = depends_on(dummy_data=create_dummy_frame,double=double_dummy)\n",
    "dep"
   ]
  },
  {
   "cell_type": "code",
   "execution_count": null,
   "id": "1576043a-c0d3-463d-9c53-c89769839f94",
   "metadata": {},
   "outputs": [],
   "source": []
  }
 ],
 "metadata": {
  "kernelspec": {
   "display_name": "python3",
   "language": "python",
   "name": "python3"
  }
 },
 "nbformat": 4,
 "nbformat_minor": 5
}
