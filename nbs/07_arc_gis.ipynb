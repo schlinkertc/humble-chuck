{
 "cells": [
  {
   "cell_type": "code",
   "execution_count": null,
   "id": "79cb63fa-9b89-444c-9268-03380f8148ee",
   "metadata": {},
   "outputs": [],
   "source": [
    "#| default_exp arc_gis"
   ]
  },
  {
   "cell_type": "markdown",
   "id": "99641599-8ed8-4bea-b993-a9b1e90eea7c",
   "metadata": {},
   "source": [
    "# arc_gis\n",
    "> Simple python wrapper around the Arc GIS API"
   ]
  },
  {
   "cell_type": "code",
   "execution_count": null,
   "id": "218ad203-3d0e-44c0-bf84-91fb62a9aeec",
   "metadata": {},
   "outputs": [],
   "source": [
    "#| exporti \n",
    "\n",
    "import requests\n",
    "import pandas as pd\n",
    "from humble_chuck.models import BaseModel\n",
    "from typing import *"
   ]
  },
  {
   "cell_type": "code",
   "execution_count": null,
   "id": "70d258e1-c5e1-4550-8747-05ded35c9a35",
   "metadata": {},
   "outputs": [],
   "source": [
    "#| export\n",
    "\n",
    "def get_arcgis_feature_service(\n",
    "    serviceName:str,\n",
    "    webadaptor:str = 'VTyQ9soqVukalItT', #defaults to HUD\n",
    "    **kwargs\n",
    "):\n",
    "    \"\"\"\n",
    "    A feature service can contain datasets (for example, tables and views) with or without a spatial column. \n",
    "    Datasets with a spatial column are considered layers; those without a spatial column are considered tables. \n",
    "    A feature service allows clients to query and edit feature geometry and attributes.\n",
    "\n",
    "    This resource provides basic information about the feature service, including the feature layers and tables that it contains, the service description, and so on.\n",
    "    \"\"\"\n",
    "    url = f\"https://services.arcgis.com/{webadaptor}/arcgis/rest/services/{serviceName}/FeatureServer/\"\n",
    "    r = requests.get(url,params={'f':'json'})\n",
    "    return r.json()"
   ]
  },
  {
   "cell_type": "code",
   "execution_count": null,
   "id": "95fc0123-1cb3-4f6e-bc4d-917c51522ac4",
   "metadata": {},
   "outputs": [],
   "source": [
    "from IPython.display import HTML"
   ]
  },
  {
   "cell_type": "code",
   "execution_count": null,
   "id": "bb2efe76-2218-483d-bc7d-5feddcfbc449",
   "metadata": {},
   "outputs": [
    {
     "data": {
      "text/html": [
       "<p><font size='3'>Fair Market Rents (FMRs) represent the estimated amount (base rent + essential utilities) that a property in a given area typically rents for. The data is primarily used to determine payment standard amounts for the Housing Choice Voucher program; however, FMRs are also used to:</font></p>\n",
       "\n",
       "<p style='margin-left:40px;'><font size='3'>Determine initial renewal rents for expiring project-based Section 8 contracts;</font></p>\n",
       "\n",
       "<p style='margin-left:40px;'><font size='3'>Determine initial rents for housing assistance payment (HAP) contracts in the Moderate Rehabilitation Single Room Occupancy program (Mod Rehab), rent ceilings for rental units in both the HOME Investment Partnerships program and the Emergency Solution Grants (ESG) program;</font></p>\n",
       "\n",
       "\n",
       "<p style='margin-left:40px;'><font size='3'>Calculate of maximum award amounts for Continuum of Care recipients and the maximum amount of rent a recipient may pay for property leased with Continuum of Care funds, and;</font></p>\n",
       "\n",
       "\n",
       "<p style='margin-left:40px;'><font size='3'>Calculate flat rent amounts in Public Housing Units.</font></p>\n",
       "\n",
       "\n",
       "<p><font size='3'>Data is updated annualy in accordance with 42 USC 1437f which requires FMRs be posted at least 30 days before they are effective and that they are effective at the start of the federal fiscal year, October 1st.</font></p><p>In order to calculate rents for units with more than four bedrooms, an extra 15% cost is added to the four bedroom unit value. The formula is to multiply the four bedroom rent by 1.15. For example, in FY21 the rent for a four bedroom unit in the El Centro, California Micropolitan Statistical Area is $1,444. The rent for a five bedroom unit would be $1,444 * 1.15 or $1,661. Each subsequent bedroom is an additional 15%. A six bedroom unit would be $1,444 * 1.3 or $1,877. These values are not included in the feature service.</p>\n",
       "\n",
       "<p><br /><font size='3'>\n",
       "  To learn more about Fair Market Rents visit: <a href='https://www.huduser.gov/portal/datasets/fmr.html/' target='_blank' rel='nofollow ugc noopener noreferrer'><b>https://www.huduser.gov/portal/datasets/fmr.html/</b></a>\n",
       "  \n",
       "  <br />\n",
       "  Data Dictionary: <a href='https://hud.maps.arcgis.com/sharing/rest/content/items/5aae9092456b4e0a83da3a0e71fdb01c/data' target='_blank' rel='nofollow ugc noopener noreferrer'><b>DD_Fair Market Rents</b></a>\n",
       "<br />\n",
       "Date of Coverage: <b>FY2024 : Oct. 1 - Sept. 30</b><br /></font></p>"
      ],
      "text/plain": [
       "<IPython.core.display.HTML object>"
      ]
     },
     "metadata": {},
     "output_type": "display_data"
    }
   ],
   "source": [
    "display(HTML(get_arcgis_feature_service(\"Fair_Market_Rents\")['description']))"
   ]
  },
  {
   "cell_type": "code",
   "execution_count": null,
   "id": "a36c6afb-4207-40ed-8708-e3e3f475a385",
   "metadata": {},
   "outputs": [],
   "source": [
    "#| exporti \n",
    "\n",
    "def format_arcgis_url(\n",
    "    serviceName:str,\n",
    "    layerId:int=0,\n",
    "    webadaptor:str = 'VTyQ9soqVukalItT', #defaults to HUD\n",
    "):\n",
    "    return f\"https://services.arcgis.com/{webadaptor}/arcgis/rest/services/{serviceName}/FeatureServer/{layerId}/\"\n",
    "    "
   ]
  },
  {
   "cell_type": "code",
   "execution_count": null,
   "id": "8151a02d-ec88-40e8-81e4-909c564d4aeb",
   "metadata": {},
   "outputs": [],
   "source": [
    "#| export \n",
    "\n",
    "def get_arcgis_layer(\n",
    "    serviceName, \n",
    "    layerId:int=0,\n",
    "    webadaptor:str = 'VTyQ9soqVukalItT', #defaults to HUD\n",
    "    **kwargs\n",
    "):\n",
    "    \"\"\"\n",
    "    The layer resource represents a single feature layer or a nonspatial table in a feature service. \n",
    "    A feature layer is a table or view with at least one spatial column.\n",
    "\n",
    "    For tables, it provides basic information about the table such as its ID, name, fields, types, and templates. \n",
    "    For feature layers, in addition to the table information, it provides information such as its geometry type, min and max scales, and spatial reference. \n",
    "    Each type includes information about the type, such as the type ID, name, and definition expression. \n",
    "    Types also include a default symbol and a list of feature templates. Each feature template includes a template name, description, and prototypical feature.\n",
    "    \n",
    "    (source)[https://developers.arcgis.com/rest/services-reference/enterprise/layer-feature-service-.htm]\n",
    "    \n",
    "    \n",
    "    \"\"\"\n",
    "    url=format_arcgis_url(serviceName,layerId,webadaptor)\n",
    "    params=dict(\n",
    "        returnUpdates=False,\n",
    "        returnDomainNames=False,\n",
    "        f='json',\n",
    "    )\n",
    "    \n",
    "\n",
    "    r = requests.get(\n",
    "        url, \n",
    "        params\n",
    "    )\n",
    "    return r.json()\n",
    "    \n",
    "    "
   ]
  },
  {
   "cell_type": "code",
   "execution_count": null,
   "id": "ccd3a123-d3ad-4d96-9325-78dcffd8f823",
   "metadata": {},
   "outputs": [],
   "source": [
    "#| export \n",
    "\n",
    "def get_arcgis_layer_last_updated(\n",
    "    serviceName,\n",
    "    layerId=0,\n",
    "    webadaptor:str = 'VTyQ9soqVukalItT', #defaults to HUD\n",
    "    **kwargs\n",
    "):\n",
    "    layer = get_arcgis_layer(serviceName,layerId,webadaptor)\n",
    "    last_edit_date = layer['editingInfo']['lastEditDate']\n",
    "    return pd.Timestamp(last_edit_date,unit='ms')"
   ]
  },
  {
   "cell_type": "code",
   "execution_count": null,
   "id": "9f5a6dce-2435-4089-9c67-34775ebc8038",
   "metadata": {},
   "outputs": [],
   "source": [
    "#| export \n",
    "\n",
    "def get_arcgis_query(\n",
    "    serviceName:str,\n",
    "    layerId:int = 0,\n",
    "    webadaptor:str = 'VTyQ9soqVukalItT', #defaults to HUD\n",
    "    limit:Optional[int]=None,\n",
    "    where:str = '1=1',\n",
    "    f:str = 'geojson',\n",
    "    **kwargs\n",
    ")->dict:\n",
    "    url = format_arcgis_url(serviceName,layerId,webadaptor) + 'query'\n",
    "    batch_size = 1000\n",
    "    if not limit:\n",
    "        count_request = requests.get(\n",
    "            url,\n",
    "            params = {\n",
    "                \"f\":\"json\",\n",
    "                \"where\":where,\n",
    "                \"returnCountOnly\":True\n",
    "            }\n",
    "        )\n",
    "\n",
    "\n",
    "        count = count_request.json()['count']\n",
    "    else:\n",
    "        count = limit\n",
    "    data = {}\n",
    "    i = 0\n",
    "    while i < count:\n",
    "\n",
    "        r = requests.get(\n",
    "            url,\n",
    "            params = {\n",
    "                \"outFields\":'*',\n",
    "                \"outSR\":'4326',\n",
    "                \"f\":f,\n",
    "                \"where\":where,\n",
    "                \"resultRecordCount\": batch_size,\n",
    "                \"resultOffset\":i,\n",
    "                \"geometryType\":'esriGeometryPolygon',\n",
    "            }\n",
    "        )\n",
    "\n",
    "        if i ==0:\n",
    "\n",
    "            data = r.json()\n",
    "\n",
    "        else:\n",
    "            data['features'].extend(r.json()['features'])\n",
    "        i += batch_size\n",
    "\n",
    "    return data "
   ]
  },
  {
   "cell_type": "code",
   "execution_count": null,
   "id": "5337a967-f824-4dfb-b12d-4b1b68284da5",
   "metadata": {},
   "outputs": [],
   "source": []
  }
 ],
 "metadata": {
  "kernelspec": {
   "display_name": "python3",
   "language": "python",
   "name": "python3"
  }
 },
 "nbformat": 4,
 "nbformat_minor": 5
}
