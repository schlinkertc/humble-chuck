{
 "cells": [
  {
   "cell_type": "code",
   "execution_count": null,
   "id": "79cb63fa-9b89-444c-9268-03380f8148ee",
   "metadata": {},
   "outputs": [],
   "source": [
    "#| default_exp arc_gis"
   ]
  },
  {
   "cell_type": "markdown",
   "id": "99641599-8ed8-4bea-b993-a9b1e90eea7c",
   "metadata": {},
   "source": [
    "# arc_gis\n",
    "> Simple python wrapper around the Arc GIS API"
   ]
  },
  {
   "cell_type": "code",
   "execution_count": null,
   "id": "218ad203-3d0e-44c0-bf84-91fb62a9aeec",
   "metadata": {},
   "outputs": [],
   "source": [
    "#| exporti \n",
    "\n",
    "import requests\n",
    "import pandas as pd\n",
    "from humble_chuck.models import BaseModel\n",
    "from typing import *\n",
    "import pandas as pd"
   ]
  },
  {
   "cell_type": "code",
   "execution_count": null,
   "id": "70d258e1-c5e1-4550-8747-05ded35c9a35",
   "metadata": {},
   "outputs": [],
   "source": [
    "#| export\n",
    "\n",
    "def get_arcgis_feature_service(\n",
    "    serviceName:str,\n",
    "    webadaptor:str = 'VTyQ9soqVukalItT', #defaults to HUD\n",
    "    **kwargs\n",
    "):\n",
    "    \"\"\"\n",
    "    A feature service can contain datasets (for example, tables and views) with or without a spatial column. \n",
    "    Datasets with a spatial column are considered layers; those without a spatial column are considered tables. \n",
    "    A feature service allows clients to query and edit feature geometry and attributes.\n",
    "\n",
    "    This resource provides basic information about the feature service, including the feature layers and tables that it contains, the service description, and so on.\n",
    "    \"\"\"\n",
    "    url = f\"https://services.arcgis.com/{webadaptor}/arcgis/rest/services/{serviceName}/FeatureServer/\"\n",
    "    r = requests.get(url,params={'f':'json'})\n",
    "    return r.json()"
   ]
  },
  {
   "cell_type": "code",
   "execution_count": null,
   "id": "95fc0123-1cb3-4f6e-bc4d-917c51522ac4",
   "metadata": {},
   "outputs": [],
   "source": [
    "from IPython.display import HTML"
   ]
  },
  {
   "cell_type": "code",
   "execution_count": null,
   "id": "bb2efe76-2218-483d-bc7d-5feddcfbc449",
   "metadata": {},
   "outputs": [
    {
     "data": {
      "text/html": [
       "<p><font size='3'>Fair Market Rents (FMRs) represent the estimated amount (base rent + essential utilities) that a property in a given area typically rents for. The data is primarily used to determine payment standard amounts for the Housing Choice Voucher program; however, FMRs are also used to:</font></p>\n",
       "\n",
       "<p style='margin-left:40px;'><font size='3'>Determine initial renewal rents for expiring project-based Section 8 contracts;</font></p>\n",
       "\n",
       "<p style='margin-left:40px;'><font size='3'>Determine initial rents for housing assistance payment (HAP) contracts in the Moderate Rehabilitation Single Room Occupancy program (Mod Rehab), rent ceilings for rental units in both the HOME Investment Partnerships program and the Emergency Solution Grants (ESG) program;</font></p>\n",
       "\n",
       "\n",
       "<p style='margin-left:40px;'><font size='3'>Calculate of maximum award amounts for Continuum of Care recipients and the maximum amount of rent a recipient may pay for property leased with Continuum of Care funds, and;</font></p>\n",
       "\n",
       "\n",
       "<p style='margin-left:40px;'><font size='3'>Calculate flat rent amounts in Public Housing Units.</font></p>\n",
       "\n",
       "\n",
       "<p><font size='3'>Data is updated annualy in accordance with 42 USC 1437f which requires FMRs be posted at least 30 days before they are effective and that they are effective at the start of the federal fiscal year, October 1st.</font></p><p>In order to calculate rents for units with more than four bedrooms, an extra 15% cost is added to the four bedroom unit value. The formula is to multiply the four bedroom rent by 1.15. For example, in FY21 the rent for a four bedroom unit in the El Centro, California Micropolitan Statistical Area is $1,444. The rent for a five bedroom unit would be $1,444 * 1.15 or $1,661. Each subsequent bedroom is an additional 15%. A six bedroom unit would be $1,444 * 1.3 or $1,877. These values are not included in the feature service.</p>\n",
       "\n",
       "<p><br /><font size='3'>\n",
       "  To learn more about Fair Market Rents visit: <a href='https://www.huduser.gov/portal/datasets/fmr.html/' target='_blank' rel='nofollow ugc noopener noreferrer'><b>https://www.huduser.gov/portal/datasets/fmr.html/</b></a>\n",
       "  \n",
       "  <br />\n",
       "  Data Dictionary: <a href='https://hud.maps.arcgis.com/sharing/rest/content/items/5aae9092456b4e0a83da3a0e71fdb01c/data' target='_blank' rel='nofollow ugc noopener noreferrer'><b>DD_Fair Market Rents</b></a>\n",
       "<br />\n",
       "Date of Coverage: <b>FY2024 : Oct. 1 - Sept. 30</b><br /></font></p>"
      ],
      "text/plain": [
       "<IPython.core.display.HTML object>"
      ]
     },
     "metadata": {},
     "output_type": "display_data"
    }
   ],
   "source": [
    "display(HTML(get_arcgis_feature_service(\"Fair_Market_Rents\")['description']))"
   ]
  },
  {
   "cell_type": "code",
   "execution_count": null,
   "id": "7d4709c8-9798-401b-a7c8-21542859deb9",
   "metadata": {},
   "outputs": [
    {
     "data": {
      "text/html": [
       "<p><font size=\"3\">\n",
       "Small Area Fair Market Rents (SAFMRs) are FMRs calculated for ZIP Codes within Metropolitan Areas. Small Area FMRs are required to be used to set Section 8 Housing Choice Voucher payment standards in areas designated by HUD (available here). Other Housing Agencies operating in non-designated metropolitan areas may opt-in to the use of Small Area FMRs. Furthermore, Small Area FMRs may be used as the basis for setting Exception Payment Standards – PHAs may set exception payment standards up to 110 percent of the Small Area FMR. PHAs administering Public Housing units may use Small Area FMRs as an alternative to metropolitan area-wide FMRs when calculating Flat Rents. Please See HUD’s Small Area FMR Final Rule for additional information regarding the uses of Small Area FMRs.</font></p><p><font size=\"3\"><br />Note that this service does not denote precise SAFMR geographies. Instead, the service utilizes a relationship class to associate the information for each SAFMR with the FMR areas that its ZCTA overlaps. For example, ZCTA 94558 overlaps the Santa Rosa, Napa, and Vallejo-Fairfield MSAs. Selecting that ZCTA will reveal the SAFMR information associated with each FMR area. </font> </p>\n",
       "\n",
       "<p>\n",
       "\t<font size=\"3\">\n",
       "\t\tTo learn more about the Small Area Fair Market Rents visit:<a href=\"https://www.huduser.gov/portal/datasets/fmr/smallarea/index.html\" target=\"_blank\" rel=\"nofollow ugc noopener noreferrer\"><b> https://www.huduser.gov/portal/datasets/fmr/smallarea/index.html</b></a></font><span style=\"font-family:&quot;Avenir Next W01&quot;, &quot;Avenir Next W00&quot;, &quot;Avenir Next&quot;, Avenir, &quot;Helvetica Neue&quot;, sans-serif; font-size:16px;\">, for questions about the spatial attribution of this dataset, please reach out to us at </span><a href=\"mailto:GISHelpdesk@hud.gov\" style=\"color:rgb(0, 97, 155); text-decoration-line:none; font-family:&quot;Avenir Next W01&quot;, &quot;Avenir Next W00&quot;, &quot;Avenir Next&quot;, Avenir, &quot;Helvetica Neue&quot;, sans-serif; font-size:16px;\" target=\"_blank\" rel=\"nofollow ugc noopener noreferrer\"><b>GISHelpdesk@hud.gov</b></a><span style=\"font-family:&quot;Avenir Next W01&quot;, &quot;Avenir Next W00&quot;, &quot;Avenir Next&quot;, Avenir, &quot;Helvetica Neue&quot;, sans-serif; font-size:16px;\">. </span></p><p><font size=\"3\">Date of Coverage: <b>Fiscal Year 2024</b><br />Date Update: <b>10/2023</b></font></p><p><font size=\"3\"><br /></font></p>"
      ],
      "text/plain": [
       "<IPython.core.display.HTML object>"
      ]
     },
     "metadata": {},
     "output_type": "display_data"
    }
   ],
   "source": [
    "display(HTML(get_arcgis_feature_service(\"HUD_PDR_Small_Area_Fair_Market_Rents\")['description']))"
   ]
  },
  {
   "cell_type": "code",
   "execution_count": null,
   "id": "a36c6afb-4207-40ed-8708-e3e3f475a385",
   "metadata": {},
   "outputs": [],
   "source": [
    "#| exporti \n",
    "\n",
    "def format_arcgis_url(\n",
    "    serviceName:str,\n",
    "    layerId:int=0,\n",
    "    webadaptor:str = 'VTyQ9soqVukalItT', #defaults to HUD\n",
    "):\n",
    "    return f\"https://services.arcgis.com/{webadaptor}/arcgis/rest/services/{serviceName}/FeatureServer/{layerId}/\"\n",
    "    "
   ]
  },
  {
   "cell_type": "code",
   "execution_count": null,
   "id": "8151a02d-ec88-40e8-81e4-909c564d4aeb",
   "metadata": {},
   "outputs": [],
   "source": [
    "#| export \n",
    "\n",
    "def get_arcgis_layer(\n",
    "    serviceName, \n",
    "    layerId:int=0,\n",
    "    webadaptor:str = 'VTyQ9soqVukalItT', #defaults to HUD\n",
    "    **kwargs\n",
    "):\n",
    "    \"\"\"\n",
    "    The layer resource represents a single feature layer or a nonspatial table in a feature service. \n",
    "    A feature layer is a table or view with at least one spatial column.\n",
    "\n",
    "    For tables, it provides basic information about the table such as its ID, name, fields, types, and templates. \n",
    "    For feature layers, in addition to the table information, it provides information such as its geometry type, min and max scales, and spatial reference. \n",
    "    Each type includes information about the type, such as the type ID, name, and definition expression. \n",
    "    Types also include a default symbol and a list of feature templates. Each feature template includes a template name, description, and prototypical feature.\n",
    "    \n",
    "    (source)[https://developers.arcgis.com/rest/services-reference/enterprise/layer-feature-service-.htm]\n",
    "    \n",
    "    \n",
    "    \"\"\"\n",
    "    url=format_arcgis_url(serviceName,layerId,webadaptor)\n",
    "    params=dict(\n",
    "        returnUpdates=False,\n",
    "        returnDomainNames=False,\n",
    "        f='json',\n",
    "    )\n",
    "    \n",
    "\n",
    "    r = requests.get(\n",
    "        url, \n",
    "        params\n",
    "    )\n",
    "    return r.json()\n",
    "    \n",
    "    "
   ]
  },
  {
   "cell_type": "code",
   "execution_count": null,
   "id": "ccd3a123-d3ad-4d96-9325-78dcffd8f823",
   "metadata": {},
   "outputs": [],
   "source": [
    "#| export \n",
    "\n",
    "def get_arcgis_layer_last_updated(\n",
    "    serviceName,\n",
    "    layerId=0,\n",
    "    webadaptor:str = 'VTyQ9soqVukalItT', #defaults to HUD\n",
    "    **kwargs\n",
    "):\n",
    "    layer = get_arcgis_layer(serviceName,layerId,webadaptor)\n",
    "    last_edit_date = layer['editingInfo']['lastEditDate']\n",
    "    return pd.Timestamp(last_edit_date,unit='ms')"
   ]
  },
  {
   "cell_type": "code",
   "execution_count": null,
   "id": "6ce7faee-a648-42f3-b27f-7ccb1c9d297a",
   "metadata": {},
   "outputs": [
    {
     "data": {
      "text/plain": [
       "Timestamp('2024-01-04 16:29:36.912000')"
      ]
     },
     "execution_count": null,
     "metadata": {},
     "output_type": "execute_result"
    }
   ],
   "source": [
    "get_arcgis_layer_last_updated(\"Proposed_Housing_Authority_Service_Areas\",15)"
   ]
  },
  {
   "cell_type": "code",
   "execution_count": null,
   "id": "dca42990-ae44-44e8-857c-e24c36ee6696",
   "metadata": {},
   "outputs": [
    {
     "name": "stdout",
     "output_type": "stream",
     "text": [
      "Estimated_Housing_Authority_Service_Areas: updated 2024-01-04 16:29:36.912000\n",
      "SAFMR_Zip_Code_Tab_Areas: updated 2025-03-03 23:18:01.687000\n"
     ]
    }
   ],
   "source": [
    "for service in (\n",
    "    \"Proposed_Housing_Authority_Service_Areas\",\n",
    "    'HUD_PDR_Small_Area_Fair_Market_Rents',\n",
    "    \n",
    "):\n",
    "    for layer in get_arcgis_feature_service(service)['layers']:\n",
    "        print(f\"{layer['name']}: updated {get_arcgis_layer_last_updated(service,layer['id'])}\")"
   ]
  },
  {
   "cell_type": "code",
   "execution_count": null,
   "id": "8ed063f1-1321-472d-b852-5cd4db56f00b",
   "metadata": {},
   "outputs": [
    {
     "data": {
      "text/plain": [
       "[{'id': 2,\n",
       "  'name': 'SAFMR_Zip_Code_Tab_Areas',\n",
       "  'parentLayerId': -1,\n",
       "  'defaultVisibility': True,\n",
       "  'subLayerIds': None,\n",
       "  'minScale': 0,\n",
       "  'maxScale': 0,\n",
       "  'type': 'Feature Layer',\n",
       "  'geometryType': 'esriGeometryPolygon'}]"
      ]
     },
     "execution_count": null,
     "metadata": {},
     "output_type": "execute_result"
    }
   ],
   "source": [
    "service = get_arcgis_feature_service('HUD_PDR_Small_Area_Fair_Market_Rents')\n",
    "service['layers']"
   ]
  },
  {
   "cell_type": "code",
   "execution_count": null,
   "id": "a9cf169f-41d5-42af-9a37-559ca84f745d",
   "metadata": {},
   "outputs": [],
   "source": [
    "#| export \n",
    "\n",
    "def get_arcgis_query(\n",
    "    serviceName:str,\n",
    "    layerId:int = 0,\n",
    "    webadaptor:str = 'VTyQ9soqVukalItT', #defaults to HUD\n",
    "    limit:Optional[int]=None,\n",
    "    where:str = '1=1',\n",
    "    f:str = 'geojson',\n",
    "    **kwargs\n",
    ")->dict:\n",
    "    url = format_arcgis_url(serviceName,layerId,webadaptor) + 'query'\n",
    "    batch_size = 1000\n",
    "    if not limit:\n",
    "        count_request = requests.get(\n",
    "            url,\n",
    "            params = {\n",
    "                \"f\":\"json\",\n",
    "                \"where\":where,\n",
    "                \"returnCountOnly\":True\n",
    "            }\n",
    "        )\n",
    "\n",
    "\n",
    "        count = count_request.json()['count']\n",
    "    else:\n",
    "        count = limit\n",
    "    data = {}\n",
    "    i = 0\n",
    "    while i < count:\n",
    "\n",
    "        r = requests.get(\n",
    "            url,\n",
    "            params = {\n",
    "                \"outFields\":'*',\n",
    "                \"outSR\":'4326',\n",
    "                \"f\":f,\n",
    "                \"where\":where,\n",
    "                \"resultRecordCount\": batch_size,\n",
    "                \"resultOffset\":i,\n",
    "                \"geometryType\":'esriGeometryPolygon',\n",
    "            }\n",
    "        )\n",
    "\n",
    "        if i ==0:\n",
    "\n",
    "            data = r.json()\n",
    "\n",
    "        else:\n",
    "            data['features'].extend(r.json()['features'])\n",
    "        i += batch_size\n",
    "\n",
    "    return data \n",
    "\n"
   ]
  },
  {
   "cell_type": "code",
   "execution_count": null,
   "id": "9ae51f31-f73d-4e23-af1f-89b64b0daaf9",
   "metadata": {},
   "outputs": [],
   "source": [
    "q = get_arcgis_query(\n",
    "    serviceName='HUD_PDR_Small_Area_Fair_Market_Rents',\n",
    "    layer=2,\n",
    "    limit=5\n",
    ")\n",
    "assert len(q['features'])==5"
   ]
  },
  {
   "cell_type": "code",
   "execution_count": null,
   "id": "274db638-c0a8-45a6-9f06-483b399e5684",
   "metadata": {},
   "outputs": [],
   "source": []
  }
 ],
 "metadata": {
  "kernelspec": {
   "display_name": "python3",
   "language": "python",
   "name": "python3"
  }
 },
 "nbformat": 4,
 "nbformat_minor": 5
}
