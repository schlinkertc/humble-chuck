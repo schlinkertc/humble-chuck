{
 "cells": [
  {
   "cell_type": "code",
   "execution_count": null,
   "id": "800385a4-0b32-4001-a5d4-8135340f10d5",
   "metadata": {},
   "outputs": [],
   "source": [
    "#| default_exp multi_enum"
   ]
  },
  {
   "cell_type": "markdown",
   "id": "eceb4a1a-3ea1-4cd2-8e6f-5fcad45bdc4f",
   "metadata": {},
   "source": [
    "# MultiEnum\n",
    "> A powerful solution for mapping multiple aliases to a single canonical value in Python."
   ]
  },
  {
   "cell_type": "markdown",
   "id": "ca7aab24-b35c-4a70-8a2b-b211ebfa5404",
   "metadata": {},
   "source": [
    "One of the most common, and most frustrating, issues I’ve encountered in real-world data work is the proliferation of different names that refer to the same thing. For example, I was once tasked with aggregating cash balances across different business lines, and various teams would use slightly different names to refer to the same bank (e.g. “JP Morgan Chase” vs “Chase Bank”). This issue kept cropping up in different projects, so I created this custom object as a generic solution to a common problem.\n",
    "\n",
    "The MultiEnum class demonstrated here uses several advanced concepts such as metaclass programming, custom enum schemas, and integration with Pydantic for seamless validation and serialization. It allows multiple values (aliases) to map to a single canonical value, ensuring that data normalization is handled gracefully across diverse datasets. By leveraging Python’s Enum type system, this class ensures that business logic remains clean and efficient, while maintaining flexibility for real-world data complexities."
   ]
  },
  {
   "cell_type": "code",
   "execution_count": null,
   "id": "18184ed9-bc16-495c-827e-71a62d4a7f1c",
   "metadata": {},
   "outputs": [],
   "source": [
    "#| exporti \n",
    "\n",
    "from collections import defaultdict\n",
    "from enum import Enum,EnumMeta\n",
    "from typing import *\n",
    "from pydantic import GetCoreSchemaHandler, GetJsonSchemaHandler\n",
    "from pydantic_core import core_schema\n",
    "from pydantic.json_schema import JsonSchemaValue"
   ]
  },
  {
   "cell_type": "code",
   "execution_count": null,
   "id": "1d4e6a83-94eb-44f2-8a42-31ad596e18ab",
   "metadata": {},
   "outputs": [],
   "source": [
    "#| hide \n",
    "from nbdev.showdoc import show_doc"
   ]
  },
  {
   "cell_type": "markdown",
   "id": "c9102689-af77-45ae-bad0-77d2cff61795",
   "metadata": {},
   "source": [
    "## Definitions"
   ]
  },
  {
   "cell_type": "code",
   "execution_count": null,
   "id": "91399f3c-7f87-48e4-9320-198051f7293f",
   "metadata": {},
   "outputs": [],
   "source": [
    "#| exporti\n",
    "\n",
    "def merge_dicts_of_tuples(*dicts,allow_duplicate_keys=True):\n",
    "    \"\"\"merges an arbitrary number of dictionaries with tuple values by concatenating values with the same keys.\"\"\"\n",
    "    out=defaultdict(tuple)\n",
    "    for d in dicts:\n",
    "        for k,v in d.items():\n",
    "            if not allow_duplicate_keys and out.get(k):\n",
    "                raise ValueError(f\"{k} is duplicated\")\n",
    "            \n",
    "            else: \n",
    "                out[k] += v\n",
    "            \n",
    "    return dict(out)"
   ]
  },
  {
   "cell_type": "code",
   "execution_count": null,
   "id": "8acb227f-fe3a-4967-8daa-3b5ee1d7618e",
   "metadata": {},
   "outputs": [
    {
     "data": {
      "text/markdown": [
       "---\n",
       "\n",
       "### merge_dicts_of_tuples\n",
       "\n",
       ">      merge_dicts_of_tuples (*dicts, allow_duplicate_keys=True)\n",
       "\n",
       "*merges an arbitrary number of dictionaries with tuple values by concatenating values with the same keys.*"
      ],
      "text/plain": [
       "---\n",
       "\n",
       "### merge_dicts_of_tuples\n",
       "\n",
       ">      merge_dicts_of_tuples (*dicts, allow_duplicate_keys=True)\n",
       "\n",
       "*merges an arbitrary number of dictionaries with tuple values by concatenating values with the same keys.*"
      ]
     },
     "execution_count": null,
     "metadata": {},
     "output_type": "execute_result"
    }
   ],
   "source": [
    "show_doc(merge_dicts_of_tuples)"
   ]
  },
  {
   "cell_type": "code",
   "execution_count": null,
   "id": "41c6dbed-4abd-4c84-82f2-fc441d61d532",
   "metadata": {},
   "outputs": [],
   "source": [
    "dict1 = {'color': ('red',)}\n",
    "dict2 = {'color':('blue','yellow'), 'height':(10,) , 'weight':(5,)}\n",
    "dict3 = {'color': ('orange',), 'height':(20,30,40)}\n",
    "\n",
    "merged = merge_dicts_of_tuples(dict1,dict2,dict3)\n",
    "assert merged['color']==('red', 'blue', 'yellow', 'orange')"
   ]
  },
  {
   "cell_type": "code",
   "execution_count": null,
   "id": "60efb034-6bb6-4b2e-83ff-fb8692f5433d",
   "metadata": {},
   "outputs": [],
   "source": [
    "#| exporti \n",
    "\n",
    "class MultiEnumMeta(EnumMeta):\n",
    "    \n",
    "    \"\"\"\n",
    "    Metaclass for MultiEnum, adding support for merging multiple MultiEnum objects and managing multiple aliases \n",
    "    for a single canonical value.\n",
    "\n",
    "    Methods:\n",
    "    - `__add__(cls, other)`: Combine two MultiEnum objects, merging their member mappings.  \n",
    "    - `__iadd__(cls, other)`: In-place addition of MultiEnum objects, ensuring no duplicate aliases while preserving the canonical value.  \n",
    "    - `__radd__(cls, other)`: Right-hand addition for merging multiple MultiEnum objects.  \n",
    "    - `to_dict(cls)`: Convert the MultiEnum members into a dictionary, where each key is mapped to a tuple of canonical value and its aliases.  \n",
    "    \"\"\"\n",
    "    \n",
    "    def __add__(cls, other):\n",
    "        \"\"\"You can add MultiEnum objects together to return their combined `_member_map_`s \"\"\"\n",
    "        return merge_dicts_of_tuples(cls.to_dict(),other.to_dict(),allow_duplicate_keys=False)\n",
    "    \n",
    "    def __iadd__(cls, other):\n",
    "        \"\"\"This allows the += operator to merge two MultiEnums while preserving the order of the canonical value.\"\"\"\n",
    "        combined = merge_dicts_of_tuples(cls.to_dict(), other.to_dict(), allow_duplicate_keys=True)\n",
    "        \n",
    "        for key, values in combined.items():\n",
    "            # Preserve the canonical value (the first value of the original MultiEnum)\n",
    "            original_canonical_value = cls._value2member_map_[key]._value_ if key in cls._value2member_map_ else None\n",
    "            \n",
    "            # Deduplicate while preserving order; keep the canonical value as the first element\n",
    "            seen = set()\n",
    "            deduplicated_values = []\n",
    "            \n",
    "            # Start with the canonical value, ensuring it's the first one in the list\n",
    "            if original_canonical_value:\n",
    "                deduplicated_values.append(original_canonical_value)\n",
    "                seen.add(original_canonical_value)\n",
    "\n",
    "            # Add other values, excluding any duplicates\n",
    "            for value in values:\n",
    "                if value not in seen:\n",
    "                    deduplicated_values.append(value)\n",
    "                    seen.add(value)\n",
    "            \n",
    "            combined[key] = tuple(deduplicated_values)\n",
    "        \n",
    "        return combined\n",
    "    \n",
    "    def __radd__(cls, other):\n",
    "        \"\"\"This allows you to merge mulitple MultiEnums\"\"\"\n",
    "        return merge_dicts_of_tuples(cls.to_dict(),other,allow_duplicate_keys=False)\n",
    "    \n",
    "    def to_dict(cls) -> Dict[str,Tuple]:\n",
    "        return {k:v._all_values for k,v in cls._member_map_.items()}\n",
    "    "
   ]
  },
  {
   "cell_type": "code",
   "execution_count": null,
   "id": "22ef8d56-908b-47f7-a626-fd64e80e1179",
   "metadata": {},
   "outputs": [
    {
     "data": {
      "text/markdown": [
       "---\n",
       "\n",
       "### MultiEnumMeta\n",
       "\n",
       ">      MultiEnumMeta (cls, bases, classdict, boundary=None, _simple=False,\n",
       ">                     **kwds)\n",
       "\n",
       "*Metaclass for MultiEnum, adding support for merging multiple MultiEnum objects and managing multiple aliases \n",
       "for a single canonical value.\n",
       "\n",
       "Methods:\n",
       "- `__add__(cls, other)`: Combine two MultiEnum objects, merging their member mappings.\n",
       "- `__iadd__(cls, other)`: In-place addition of MultiEnum objects, ensuring no duplicate aliases while preserving the canonical value.\n",
       "- `__radd__(cls, other)`: Right-hand addition for merging multiple MultiEnum objects.\n",
       "- `to_dict(cls)`: Convert the MultiEnum members into a dictionary, where each key is mapped to a tuple of canonical value and its aliases.*"
      ],
      "text/plain": [
       "---\n",
       "\n",
       "### MultiEnumMeta\n",
       "\n",
       ">      MultiEnumMeta (cls, bases, classdict, boundary=None, _simple=False,\n",
       ">                     **kwds)\n",
       "\n",
       "*Metaclass for MultiEnum, adding support for merging multiple MultiEnum objects and managing multiple aliases \n",
       "for a single canonical value.\n",
       "\n",
       "Methods:\n",
       "- `__add__(cls, other)`: Combine two MultiEnum objects, merging their member mappings.\n",
       "- `__iadd__(cls, other)`: In-place addition of MultiEnum objects, ensuring no duplicate aliases while preserving the canonical value.\n",
       "- `__radd__(cls, other)`: Right-hand addition for merging multiple MultiEnum objects.\n",
       "- `to_dict(cls)`: Convert the MultiEnum members into a dictionary, where each key is mapped to a tuple of canonical value and its aliases.*"
      ]
     },
     "execution_count": null,
     "metadata": {},
     "output_type": "execute_result"
    }
   ],
   "source": [
    "show_doc(MultiEnumMeta)"
   ]
  },
  {
   "cell_type": "code",
   "execution_count": null,
   "id": "a616db58-e45a-48e0-ade5-f3890ab47aec",
   "metadata": {},
   "outputs": [],
   "source": [
    "#| export \n",
    "\n",
    "class MultiEnum(Enum,metaclass=MultiEnumMeta):\n",
    "    \"\"\"\n",
    "    A Many-to-One mapping in which none of the possible options can be mapped to more than one value. \n",
    "    \n",
    "    \"\"\"\n",
    "\n",
    "    def __new__(cls, *values):\n",
    "        obj = object.__new__(cls)\n",
    "        # first value is canonical value\n",
    "        \n",
    "        obj._value_ = values[0]\n",
    "        \n",
    "        for other_value in set(values[1:]):\n",
    "\n",
    "            existing_map = cls._value2member_map_.get(other_value) # this MUST be none\n",
    "            if existing_map:\n",
    "                # if the any of the acceptable values for the new obj already have a mapped instance,throw an error\n",
    "                raise ValueError(f\"{other_value} is trying to be mapped to {obj._value_}, but it has already been mapped to instance {existing_map}. You can't have the same value point to different objects.\")\n",
    "            cls._value2member_map_[other_value] = obj\n",
    "        obj._all_values = tuple(x for x in values if x != ...)\n",
    "        \n",
    "        return obj\n",
    "    \n",
    "    def __init__(self,*args,**kwargs):\n",
    "        # add the name of the object to the list of acceptable values if not already there\n",
    "        if not self.__class__._value2member_map_.get(self.name):\n",
    "            self.__class__._value2member_map_[self.name] = self\n",
    "            self._all_values = self._all_values + (self.name,)\n",
    "        super().__init__()\n",
    "\n",
    "    def __repr__(self):\n",
    "        return '<%s.%s: %s>' % (\n",
    "                self.__class__.__name__,\n",
    "                self._name_,\n",
    "                ', '.join([repr(v) for v in self._all_values]),\n",
    "        )\n",
    "    @classmethod\n",
    "    def __get_pydantic_core_schema__(\n",
    "        cls, source_type: Any, handler: GetCoreSchemaHandler\n",
    "    ) -> core_schema.CoreSchema:\n",
    "        \"\"\"\n",
    "        Generates the Pydantic core schema for validation.\n",
    "        \"\"\"\n",
    "        def validate(value: Any) -> MultiEnum:\n",
    "            if value not in cls._value2member_map_:\n",
    "                raise ValueError(f\"Invalid value: {value}. Must be one of {list(cls._value2member_map_.keys())}.\")\n",
    "            return cls._value2member_map_[value]\n",
    "\n",
    "        valid_values = list(cls._value2member_map_.keys())\n",
    "        \n",
    "        return core_schema.chain_schema([\n",
    "            core_schema.literal_schema(valid_values),  # Use literal schema instead of enum\n",
    "            core_schema.no_info_plain_validator_function(validate),\n",
    "        ])\n",
    "\n",
    "    @classmethod\n",
    "    def __get_pydantic_json_schema__(\n",
    "        cls, _core_schema: core_schema.CoreSchema, handler: GetJsonSchemaHandler\n",
    "    ) -> JsonSchemaValue:\n",
    "        \"\"\"\n",
    "        Defines the JSON schema for the MultiEnum type, with detailed info about each member.\n",
    "        \"\"\"\n",
    "        valid_values = list(cls._value2member_map_.keys())\n",
    "\n",
    "        # Create a descriptive schema for each enum member\n",
    "        enum_description: List[Dict[str, Any]] = []\n",
    "        for member in cls:\n",
    "            enum_description.append({\n",
    "                'name': member.name,\n",
    "                'canonical_value': member._value_,\n",
    "                'aliases': [alias for alias in member._all_values if alias != member._value_],\n",
    "            })\n",
    "        \n",
    "        # Generate the base JSON schema using a literal schema\n",
    "        json_schema = handler(core_schema.literal_schema(valid_values))\n",
    "\n",
    "        # Add the detailed description and the class docstring\n",
    "        json_schema.update({\n",
    "            'enum': valid_values,  # Ensure enum values include all canonical and alias values\n",
    "            'description': cls.__doc__ or 'A custom MultiEnum type',  # Use the docstring as description\n",
    "            'details': enum_description  # Include a detailed breakdown of each enum value\n",
    "        })\n",
    "        return json_schema"
   ]
  },
  {
   "cell_type": "markdown",
   "id": "045bdf67-1026-4eea-971d-e5b96a7ff2d3",
   "metadata": {},
   "source": [
    "## Examples"
   ]
  },
  {
   "cell_type": "markdown",
   "id": "c7186c22-45b9-453d-8d3e-536dd93aae10",
   "metadata": {},
   "source": [
    "### 'Flavor Profile'\n",
    "\n",
    "The first value of each attribute is its \"canonical value\". In other words, that is what will be displayed if any of the choices are given. "
   ]
  },
  {
   "cell_type": "code",
   "execution_count": null,
   "id": "7611814d-2108-41d3-b516-1f95928d7442",
   "metadata": {},
   "outputs": [],
   "source": [
    "class FlavorProfile(MultiEnum):    \n",
    "    \n",
    "    black_fuit = (\n",
    "        'Black Fruit', # the first value is the 'canonical value'\n",
    "        'plum','jam','black cherry','blackberry','blackcurrant'\n",
    "    )\n",
    "    red_fruit = (\n",
    "        'Red Fruit',\n",
    "        'raspberry','red cherry','strawberries','cranberry'\n",
    "    )\n",
    "\n",
    "assert FlavorProfile('plum').value == 'Black Fruit'\n",
    "assert (\n",
    "    FlavorProfile('black cherry').value \n",
    "    == FlavorProfile('blackberry').value\n",
    ")"
   ]
  },
  {
   "cell_type": "markdown",
   "id": "6559c68f-7c58-4b45-bee0-36807632c37b",
   "metadata": {},
   "source": [
    "If you try to include the same choice for multiple attributes, you'll get a ValueError"
   ]
  },
  {
   "cell_type": "code",
   "execution_count": null,
   "id": "83be618e-44d7-4bdd-bbd2-7da4c836ad28",
   "metadata": {},
   "outputs": [
    {
     "name": "stdout",
     "output_type": "stream",
     "text": [
      "cherry is trying to be mapped to Red Fruit, but it has already been mapped to instance FlavorProfile.black_fruit. You can't have the same value point to different objects.\n"
     ]
    }
   ],
   "source": [
    "try:\n",
    "    class FlavorProfile(MultiEnum):\n",
    "        black_fruit = (\n",
    "            'Black Fruit', # the first value is the 'canonical value'\n",
    "            'plum','jam','cherry','blackberry','blackcurrant'\n",
    "        )\n",
    "        red_fruit = (\n",
    "            'Red Fruit',\n",
    "            'raspberry','cherry','strawberries','cranberry'\n",
    "        )\n",
    "except ValueError as e:\n",
    "    print(e) # you can't include 'cherry' in both choices"
   ]
  },
  {
   "cell_type": "markdown",
   "id": "88dd61d0-5132-4d31-a837-6644cf3a9eb6",
   "metadata": {},
   "source": [
    "#### MultiEnum from Dict"
   ]
  },
  {
   "cell_type": "code",
   "execution_count": null,
   "id": "474e2378-423b-44c8-9dc6-0a2bdc71a07a",
   "metadata": {},
   "outputs": [],
   "source": [
    "D = dict(    \n",
    "    black_fruit = (\n",
    "        'Black Fruit', # the first value is the 'canonical value'\n",
    "        'plum','jam','black cherry','blackberry','blackcurrant'\n",
    "    ),\n",
    "    red_fruit = (\n",
    "        'Red Fruit',\n",
    "        'raspberry','red cherry','strawberries','cranberry'\n",
    "    )\n",
    ")"
   ]
  },
  {
   "cell_type": "code",
   "execution_count": null,
   "id": "81b36157-9065-442e-9bfb-5a992554b29c",
   "metadata": {},
   "outputs": [],
   "source": [
    "FlavorProfile = MultiEnum('FlavorProfile',D)\n",
    "\n",
    "assert FlavorProfile('plum').value == 'Black Fruit'"
   ]
  },
  {
   "cell_type": "markdown",
   "id": "44ada0b1-6c20-4b8f-9176-f20d139f20cf",
   "metadata": {},
   "source": [
    "### Adding and Merging MultEnums"
   ]
  },
  {
   "cell_type": "code",
   "execution_count": null,
   "id": "00a970f1-3dcc-4ecc-ac60-ffb0f2071cc5",
   "metadata": {},
   "outputs": [],
   "source": [
    "class Beatles(MultiEnum):\n",
    "    john = \"John Lennon\"\n",
    "    paul = \"Paul McCartney\"\n",
    "    george = \"George Harrison\"\n",
    "    ringo = \"Ringo Starr\"\n",
    "\n",
    "assert Beatles('john').value == \"John Lennon\"\n",
    "\n",
    "class LedZepplin(MultiEnum):\n",
    "    robert = \"Robert Plant\"\n",
    "    jimmy = \"Jimmy Page\"\n",
    "    john = \"John Bonham\"\n",
    "    john_paul = \"John Paul Jones\"\n",
    "\n",
    "assert LedZepplin(\"john\").value==\"John Bonham\""
   ]
  },
  {
   "cell_type": "markdown",
   "id": "b5f04516-eaf5-49ce-a117-77ce9075450d",
   "metadata": {},
   "source": [
    "This won't work because there are two Johns"
   ]
  },
  {
   "cell_type": "code",
   "execution_count": null,
   "id": "fb292c66-d449-4cee-b82f-21c4979a6daa",
   "metadata": {},
   "outputs": [
    {
     "name": "stdout",
     "output_type": "stream",
     "text": [
      "john is duplicated\n"
     ]
    }
   ],
   "source": [
    "try:\n",
    "    EnglishMusicians = MultiEnum('EnglishMusicians',Beatles + LedZepplin)\n",
    "except Exception as e:\n",
    "    print(e)"
   ]
  },
  {
   "cell_type": "code",
   "execution_count": null,
   "id": "59d997c8-3026-4bcd-af72-2c2af9660777",
   "metadata": {},
   "outputs": [],
   "source": [
    "class Beatles(MultiEnum):\n",
    "    john_lennon = \"John Lennon\",'john'\n",
    "    paul = \"Paul McCartney\"\n",
    "    george = \"George Harrison\"\n",
    "    ringo = \"Ringo Starr\"\n",
    "\n",
    "assert Beatles('john').value == \"John Lennon\"\n",
    "\n",
    "class LedZepplin(MultiEnum):\n",
    "    robert = \"Robert Plant\"\n",
    "    jimmy = \"Jimmy Page\"\n",
    "    john_bonham = \"John Bonham\",'john'\n",
    "    john_paul = \"John Paul Jones\"\n",
    "\n",
    "assert LedZepplin(\"john\").value==\"John Bonham\""
   ]
  },
  {
   "cell_type": "markdown",
   "id": "ab9217a4-dec9-4520-943d-13eadd3b190e",
   "metadata": {},
   "source": [
    "This won't work because 'john' is mapped to two members"
   ]
  },
  {
   "cell_type": "code",
   "execution_count": null,
   "id": "044280e5-61e4-4093-8f95-d55d44e013dd",
   "metadata": {},
   "outputs": [
    {
     "name": "stdout",
     "output_type": "stream",
     "text": [
      "john is trying to be mapped to John Bonham, but it has already been mapped to instance EnglishMusicians.john_lennon. You can't have the same value point to different objects.\n"
     ]
    }
   ],
   "source": [
    "try: \n",
    "    EnglishMusicians = MultiEnum('EnglishMusicians',Beatles + LedZepplin)\n",
    "except Exception as e:\n",
    "    print(e)"
   ]
  },
  {
   "cell_type": "code",
   "execution_count": null,
   "id": "5df543f4-829c-4bec-bdf6-1a50f41754d2",
   "metadata": {},
   "outputs": [],
   "source": [
    "class Beatles(MultiEnum):\n",
    "    john_lennon = \"John Lennon\",'john lennon',\n",
    "    paul_mccartney = \"Paul McCartney\",'Macca'\n",
    "    george_harrison = \"George Harrison\"\n",
    "    ringo_starr = \"Ringo Starr\",\"Richard Starkey\"\n",
    "\n",
    "assert Beatles('john lennon').value == \"John Lennon\"\n",
    "\n",
    "class LedZepplin(MultiEnum):\n",
    "    robert_plant = \"Robert Plant\",\"Percy\"\n",
    "    jimmy_page = \"Jimmy Page\",\"Led Wallet\"\n",
    "    john_bonham = \"John Bonham\",\"Bonzo\"\n",
    "    john_paul_jones = \"John Paul Jones\",\"Jonesy\"\n",
    "\n",
    "assert LedZepplin(\"Bonzo\").value==\"John Bonham\"\n",
    "\n",
    "class BeatlesNickname(MultiEnum):\n",
    "    john_lennon = \"The Clever One\"\n",
    "    paul_mccartney = \"The Cute One\"\n",
    "    george_harrison = \"The Quiet One\"\n",
    "    ringo_starr = \"The Funny One\""
   ]
  },
  {
   "cell_type": "markdown",
   "id": "378e4dec-b1af-477b-95a4-169440d9ee91",
   "metadata": {},
   "source": [
    "This won't work because we're trying to overwrite the Beatles with their nicknames"
   ]
  },
  {
   "cell_type": "code",
   "execution_count": null,
   "id": "b4fc835c-fc9d-4317-9049-b3a47d321111",
   "metadata": {},
   "outputs": [
    {
     "name": "stdout",
     "output_type": "stream",
     "text": [
      "john_lennon is duplicated\n"
     ]
    }
   ],
   "source": [
    "try:\n",
    "    Beatles+BeatlesNickname+LedZepplin\n",
    "except Exception as e:\n",
    "    \n",
    "    print(e)"
   ]
  },
  {
   "cell_type": "markdown",
   "id": "e65d63ae-b09d-4d19-b5fc-f9312c2681b6",
   "metadata": {},
   "source": [
    "But this will because we can merge the beatles with their nicknames thanks to the `__iadd__` method"
   ]
  },
  {
   "cell_type": "code",
   "execution_count": null,
   "id": "a5561a42-183d-4cb7-845d-a9484552826c",
   "metadata": {},
   "outputs": [],
   "source": [
    "Beatles+=BeatlesNickname # <-- merge two multi-enums that share keys\n",
    "EnglishMusicians = MultiEnum(\n",
    "    'EnglishMusicians',Beatles+LedZepplin # <-- Add two multi-enums that have different keys\n",
    ")"
   ]
  },
  {
   "cell_type": "markdown",
   "id": "9601ee6c-61a2-455a-9a27-6babf9f14b43",
   "metadata": {},
   "source": [
    "The result is a combined MultiEnum that retains the original canonical value."
   ]
  },
  {
   "cell_type": "code",
   "execution_count": null,
   "id": "953d8f85-a502-4b17-8be7-d2f327cde1ca",
   "metadata": {},
   "outputs": [],
   "source": [
    "assert EnglishMusicians('The Cute One').value=='Paul McCartney'\n",
    "assert EnglishMusicians('Bonzo').value==\"John Bonham\""
   ]
  },
  {
   "cell_type": "markdown",
   "id": "269b1794-7cb8-4c75-9769-9fc1fcc54eaa",
   "metadata": {},
   "source": [
    "### As part of a Pyantic model"
   ]
  },
  {
   "cell_type": "code",
   "execution_count": null,
   "id": "f4e0a17b-f2fa-450b-a4b9-cbebb1cf8b3a",
   "metadata": {},
   "outputs": [],
   "source": [
    "from pydantic import BaseModel"
   ]
  },
  {
   "cell_type": "code",
   "execution_count": null,
   "id": "79a4c63e-1cdf-4ab7-a95e-facb121f3e85",
   "metadata": {},
   "outputs": [],
   "source": [
    "class EnglishMusicianBio(BaseModel):\n",
    "    name: EnglishMusicians\n",
    "    instrument: str\n",
    "    born: int"
   ]
  },
  {
   "cell_type": "markdown",
   "id": "3c5117ab-a00f-4061-a137-965c1f900b76",
   "metadata": {},
   "source": [
    "If you use `MultiEnum` in a Pydantic model, the schema will reflect the valid choices one can use to populate the model."
   ]
  },
  {
   "cell_type": "code",
   "execution_count": null,
   "id": "d207e3c8-08d2-448d-a0f5-cd69f042666f",
   "metadata": {},
   "outputs": [
    {
     "data": {
      "text/plain": [
       "{'aliases': ['Percy', 'robert_plant'],\n",
       " 'canonical_value': 'Robert Plant',\n",
       " 'name': 'robert_plant'}"
      ]
     },
     "execution_count": null,
     "metadata": {},
     "output_type": "execute_result"
    }
   ],
   "source": [
    "field_shcema = EnglishMusicianBio.schema()['properties']['name']\n",
    "field_shcema['details'][0]"
   ]
  },
  {
   "cell_type": "code",
   "execution_count": null,
   "id": "4ae0ff37-042c-4bf5-89f2-490da1b9b18e",
   "metadata": {},
   "outputs": [
    {
     "data": {
      "text/plain": [
       "'{\"name\":\"Paul McCartney\",\"instrument\":\"bass\",\"born\":1942}'"
      ]
     },
     "execution_count": null,
     "metadata": {},
     "output_type": "execute_result"
    }
   ],
   "source": [
    "paul_bio = EnglishMusicianBio(name='The Cute One',instrument='bass',born=1942)\n",
    "paul_bio.json()"
   ]
  },
  {
   "cell_type": "markdown",
   "id": "de96fffd-4a98-43c9-a007-b06db7ef1623",
   "metadata": {},
   "source": [
    "### A Fun Example\n",
    "> Using `MultiEnum`to solve a classic beginner coding problem."
   ]
  },
  {
   "cell_type": "code",
   "execution_count": null,
   "id": "9eb6628b-42bc-4b1b-9868-1d136f7484d8",
   "metadata": {},
   "outputs": [],
   "source": [
    "fizz = [x for x in range(0,100) if x%3==0]\n",
    "buzz = [x for x in range(0,100) if x%5==0]\n",
    "\n",
    "fizzbuzz = set(fizz).intersection(buzz)\n",
    "fizz = (set(fizz)-set(buzz))-fizzbuzz\n",
    "buzz = (set(buzz)-set(fizz))-fizzbuzz\n",
    "\n",
    "class TestEnum(MultiEnum):\n",
    "    fizz = 'Fizz',*fizz\n",
    "    buzz = 'Buzz',*buzz\n",
    "    fizzbuzz = 'FizzBuzz',*fizzbuzz\n",
    "\n",
    "assert TestEnum(3).value=='Fizz'\n",
    "assert TestEnum(5).value=='Buzz'\n",
    "assert TestEnum(15).value=='FizzBuzz'"
   ]
  },
  {
   "cell_type": "code",
   "execution_count": null,
   "id": "06301a22-4183-427d-8315-8d3c2a96676a",
   "metadata": {},
   "outputs": [],
   "source": []
  }
 ],
 "metadata": {
  "kernelspec": {
   "display_name": "python3",
   "language": "python",
   "name": "python3"
  }
 },
 "nbformat": 4,
 "nbformat_minor": 5
}
