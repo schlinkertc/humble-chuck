{
 "cells": [
  {
   "cell_type": "code",
   "execution_count": 1,
   "id": "5417ae64-7cb7-499a-bbaa-c85e83f98fb2",
   "metadata": {},
   "outputs": [],
   "source": [
    "#| default_exp models"
   ]
  },
  {
   "cell_type": "markdown",
   "id": "94b4ebb8-0573-4553-8da5-f52ad2821cfd",
   "metadata": {},
   "source": [
    "# models"
   ]
  },
  {
   "cell_type": "markdown",
   "id": "d79311cb-cf0a-4249-9444-7667765c821a",
   "metadata": {},
   "source": [
    "**Set up**  \n",
    "I love working with Pydantic models, but I'd like to add a few tweaks to make them even better to work with in Jupyter Notebooks\n",
    "\n",
    "**The Goal**  \n",
    "Update how Pydantic models are displayed in Jupyter Lab and Jupyter Notebook to make them more natural to work with in an IPython environment\n",
    "\n",
    "**The Result**  \n",
    "Subclassed Pydantic's BaseModel and add `_repr_html_` and `_repr_json_` methods\n"
   ]
  },
  {
   "cell_type": "code",
   "execution_count": 48,
   "id": "22c9c998-0984-487b-a0e7-c973dd985af2",
   "metadata": {},
   "outputs": [],
   "source": [
    "#| exporti \n",
    "\n",
    "from pydantic import BaseModel as PydanticBaseModel\n",
    "from pydantic import ConfigDict\n",
    "import logging\n",
    "from json2html import json2html\n",
    "from humble_chuck.delegation import delegates\n",
    "from typing import *"
   ]
  },
  {
   "cell_type": "markdown",
   "id": "08e544d0-d686-4c8c-8196-293543707719",
   "metadata": {},
   "source": [
    "## Displaying Objects in IPython"
   ]
  },
  {
   "cell_type": "markdown",
   "id": "9200c414-b301-450a-96bd-e8a055d5e73a",
   "metadata": {},
   "source": [
    "If Jupyter encounters an error while calling their display methods, it will try the next available option for displaying an object. For example in Jupyter Lab the default representation is JSON, but if there is an error displaying the JSON it will fall back on displaying with HTML. If the error persists, it will fall back on default \\_\\\n",
    "`__repr__` or `__str__` methods. \n",
    "\n",
    "So for this exercise, we'll create a function that tries to dump a pydanitc model, but if anything goes wrong it will just issue a warning and pass. That way if there is an issue with our custom display, we'll just get Pydantics default display mechanism. Note that we're using `delegates` here, so the kwargs you'll see in the docs are not included in the signature. "
   ]
  },
  {
   "cell_type": "code",
   "execution_count": 3,
   "id": "1add7da9-38d5-4157-b9e4-a094f6cc9139",
   "metadata": {},
   "outputs": [],
   "source": [
    "#| exports\n",
    "\n",
    "@delegates(PydanticBaseModel.model_dump) \n",
    "def model_dump_for_display(\n",
    "    model:PydanticBaseModel, #The model to by displayed\n",
    "    **kwargs\n",
    "):\n",
    "    \"\"\"Calls PydanticBaseModel.model_dump(), \n",
    "    but if there is an issue it raises a warning and passes to allow default representation.  \n",
    "\n",
    "    Delegates kwargs to PydanticBaseModel.model_dump\n",
    "    \"\"\"\n",
    "    kwargs['mode']='json'\n",
    "    try:\n",
    "        return model.model_dump(**kwargs)\n",
    "    except Exception as e:\n",
    "        logging.warning(e)\n",
    "        pass"
   ]
  },
  {
   "cell_type": "markdown",
   "id": "ef67dbad-16cc-4142-8f67-8b8f072a5335",
   "metadata": {},
   "source": [
    "::: {.callout-note}\n",
    "Because we are subclassing Pydantic's BaseModel, the docs shown here are taken from the parent class. \n",
    ":::"
   ]
  },
  {
   "cell_type": "code",
   "execution_count": 17,
   "id": "147bc7bd-c89a-4727-a5bf-060a9d1cd0f0",
   "metadata": {},
   "outputs": [],
   "source": [
    "#| exports\n",
    "class BaseModel(PydanticBaseModel):\n",
    "    \n",
    "    def _repr_json_(self):\n",
    "        return model_dump_for_display(\n",
    "            self,\n",
    "            mode='json',\n",
    "            **self.model_config.get('repr_kwargs',{})\n",
    "        )\n",
    "\n",
    "    def _repr_html_(self):\n",
    "        \n",
    "        return json2html.convert(\n",
    "            model_dump_for_display(self,mode='json',**self.model_config.get('repr_kwargs',{}))\n",
    "        )"
   ]
  },
  {
   "cell_type": "code",
   "execution_count": 32,
   "id": "6ed16287-80e8-4bec-890f-e565d1454ba7",
   "metadata": {},
   "outputs": [],
   "source": [
    "from pydantic import Field,AliasGenerator\n",
    "from typing import *\n",
    "from datetime import date"
   ]
  },
  {
   "cell_type": "markdown",
   "id": "74446588-fb38-4f25-abf6-34d5a100bf28",
   "metadata": {},
   "source": [
    "### Example"
   ]
  },
  {
   "cell_type": "markdown",
   "id": "a67415b4-2791-4081-b0d0-ae409ec2c0c0",
   "metadata": {},
   "source": [
    "Note that you can customize how objects get displayed in the model_config. Here we'll choose to display the object with aliases instead of field names."
   ]
  },
  {
   "cell_type": "code",
   "execution_count": 42,
   "id": "a59cadbd-8b1c-4107-bf07-1753be127abb",
   "metadata": {},
   "outputs": [],
   "source": [
    "class Project(BaseModel):\n",
    "    \"\"\"Model for capturing details about a construction project\"\"\"\n",
    "    \n",
    "    model_config = ConfigDict(\n",
    "        alias_generator=AliasGenerator(            \n",
    "            serialization_alias=lambda field_name: field_name.title().replace('_',' '),\n",
    "        ),\n",
    "        repr_kwargs={'by_alias':True} #<-- I can control how the model gets displayed in jupyter by provided kwargs to model_dump \n",
    "    )\n",
    "    \n",
    "    project_name: str = Field(..., description=\"Name of the construction project\")\n",
    "    start_date: date = Field(..., description=\"Date when the project started\")\n",
    "    end_date: Optional[date] = Field(default=None, description=\"Date when the project ended\")\n",
    "    description: Optional[str] = Field(default=None, description=\"Short description of the project\")\n",
    "    is_active: bool = Field(..., description=\"Indicates if the project is currently active\")\n",
    "    budget: Optional[Dict[str, float]] = Field(default=None, description=\"Budget with different risk assessments\")\n",
    "    employees: List[Dict[str, str]] = Field(..., description=\"List of employees working on the project\")\n",
    "    technologies_used: List[str] = Field(..., description=\"List of technologies used in the project\")\n",
    "    \n"
   ]
  },
  {
   "cell_type": "markdown",
   "id": "a1c91b79-e48d-4cad-a00c-cd596563e39e",
   "metadata": {},
   "source": [
    "In the docs, you'll see this example represented as HTML. In Jupyter Lab it get's displayed as interactive, collapsible JSON."
   ]
  },
  {
   "cell_type": "code",
   "execution_count": 46,
   "id": "34078756-908d-47e6-8ac9-8110ddc906eb",
   "metadata": {},
   "outputs": [
    {
     "data": {
      "application/json": {
       "Budget": {
        "base_line": 6500000,
        "conservative": 5000000,
        "worst_case": 8000000
       },
       "Description": "A large-scale project focused on building a new highway bridge.",
       "Employees": [
        {
         "name": "Alice Johnson",
         "roll": "Project Manager"
        },
        {
         "name": "Bob Smith",
         "roll": "Engineer"
        },
        {
         "name": "Clara Davis",
         "roll": "Site Supervisor"
        }
       ],
       "End Date": null,
       "Is Active": true,
       "Project Name": "Highway Bridge Construction",
       "Start Date": "2024-01-15",
       "Technologies Used": [
        "AutoCAD",
        "Revit",
        "MS Project"
       ]
      },
      "text/html": [
       "<table border=\"1\"><tr><th>Project Name</th><td>Highway Bridge Construction</td></tr><tr><th>Start Date</th><td>2024-01-15</td></tr><tr><th>End Date</th><td>None</td></tr><tr><th>Description</th><td>A large-scale project focused on building a new highway bridge.</td></tr><tr><th>Is Active</th><td>True</td></tr><tr><th>Budget</th><td><table border=\"1\"><tr><th>conservative</th><td>5000000.0</td></tr><tr><th>base_line</th><td>6500000.0</td></tr><tr><th>worst_case</th><td>8000000.0</td></tr></table></td></tr><tr><th>Employees</th><td><table border=\"1\"><thead><tr><th>name</th><th>roll</th></tr></thead><tbody><tr><td>Alice Johnson</td><td>Project Manager</td></tr><tr><td>Bob Smith</td><td>Engineer</td></tr><tr><td>Clara Davis</td><td>Site Supervisor</td></tr></tbody></table></td></tr><tr><th>Technologies Used</th><td><ul><li>AutoCAD</li><li>Revit</li><li>MS Project</li></ul></td></tr></table>"
      ],
      "text/plain": [
       "Project(project_name='Highway Bridge Construction', start_date=datetime.date(2024, 1, 15), end_date=None, description='A large-scale project focused on building a new highway bridge.', is_active=True, budget={'conservative': 5000000.0, 'base_line': 6500000.0, 'worst_case': 8000000.0}, employees=[{'name': 'Alice Johnson', 'roll': 'Project Manager'}, {'name': 'Bob Smith', 'roll': 'Engineer'}, {'name': 'Clara Davis', 'roll': 'Site Supervisor'}], technologies_used=['AutoCAD', 'Revit', 'MS Project'])"
      ]
     },
     "execution_count": 46,
     "metadata": {},
     "output_type": "execute_result"
    }
   ],
   "source": [
    "# Creating an instance of the model\n",
    "example_project = Project(\n",
    "    project_name=\"Highway Bridge Construction\",\n",
    "    start_date=date(2024, 1, 15),\n",
    "    end_date=None,\n",
    "    description=\"A large-scale project focused on building a new highway bridge.\",\n",
    "    is_active=True,\n",
    "    budget={\"conservative\": 5_000_000, \"base_line\": 6_500_000, \"worst_case\": 8_000_000},\n",
    "    employees=[\n",
    "        {\"name\": \"Alice Johnson\", \"roll\": \"Project Manager\"},\n",
    "        {\"name\": \"Bob Smith\", \"roll\": \"Engineer\"},\n",
    "        {\"name\": \"Clara Davis\", \"roll\": \"Site Supervisor\"}\n",
    "    ],\n",
    "    technologies_used=[\"AutoCAD\", \"Revit\", \"MS Project\"]\n",
    ")\n",
    "\n",
    "example_project"
   ]
  },
  {
   "cell_type": "code",
   "execution_count": null,
   "id": "561144af-f15d-4f75-b78e-d8206f206537",
   "metadata": {},
   "outputs": [],
   "source": []
  }
 ],
 "metadata": {
  "kernelspec": {
   "display_name": "Python 3 (ipykernel)",
   "language": "python",
   "name": "python3"
  },
  "language_info": {
   "codemirror_mode": {
    "name": "ipython",
    "version": 3
   },
   "file_extension": ".py",
   "mimetype": "text/x-python",
   "name": "python",
   "nbconvert_exporter": "python",
   "pygments_lexer": "ipython3",
   "version": "3.11.9"
  }
 },
 "nbformat": 4,
 "nbformat_minor": 5
}
