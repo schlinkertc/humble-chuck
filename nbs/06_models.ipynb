{
 "cells": [
  {
   "cell_type": "code",
   "execution_count": null,
   "id": "5417ae64-7cb7-499a-bbaa-c85e83f98fb2",
   "metadata": {},
   "outputs": [],
   "source": [
    "#| default_exp models"
   ]
  },
  {
   "cell_type": "markdown",
   "id": "94b4ebb8-0573-4553-8da5-f52ad2821cfd",
   "metadata": {},
   "source": [
    "# models"
   ]
  },
  {
   "cell_type": "markdown",
   "id": "d79311cb-cf0a-4249-9444-7667765c821a",
   "metadata": {},
   "source": [
    "**Set up**  \n",
    "I love working with Pydantic models, but I'd like to add a few tweaks to make them even better to work with in Jupyter Notebooks\n",
    "\n",
    "**The Goal**  \n",
    "Update how Pydantic models are displayed in Jupyter Lab and Jupyter Notebook to make them more natural to work with in an IPython environment\n",
    "\n",
    "**The Result**  \n",
    "Subclassed Pydantic's BaseModel and add `_repr_html_` and `_repr_json_` methods\n"
   ]
  },
  {
   "cell_type": "code",
   "execution_count": null,
   "id": "22c9c998-0984-487b-a0e7-c973dd985af2",
   "metadata": {},
   "outputs": [],
   "source": [
    "#| exporti \n",
    "\n",
    "from pydantic import BaseModel as PydanticBaseModel\n",
    "from pydantic import ConfigDict\n",
    "import logging\n",
    "from json2html import json2html\n",
    "from humble_chuck.delegation import delegates\n",
    "from typing import *\n",
    "from pydantic_settings import BaseSettings as PydanticBaseSettings\n",
    "from pydantic_settings import (\n",
    "    PydanticBaseSettingsSource,\n",
    "    SettingsConfigDict,\n",
    "    YamlConfigSettingsSource\n",
    ")\n",
    "from pydantic import create_model,Field\n",
    "from pydantic.fields import FieldInfo\n",
    "import yaml\n",
    "from pathlib import Path"
   ]
  },
  {
   "cell_type": "markdown",
   "id": "08e544d0-d686-4c8c-8196-293543707719",
   "metadata": {},
   "source": [
    "## Displaying Objects in IPython"
   ]
  },
  {
   "cell_type": "markdown",
   "id": "9200c414-b301-450a-96bd-e8a055d5e73a",
   "metadata": {},
   "source": [
    "If Jupyter encounters an error while calling their display methods, it will try the next available option for displaying an object. For example in Jupyter Lab the default representation is JSON, but if there is an error displaying the JSON it will fall back on displaying with HTML. If the error persists, it will fall back on default \\_\\\n",
    "`__repr__` or `__str__` methods. \n",
    "\n",
    "So for this exercise, we'll create a function that tries to dump a pydanitc model, but if anything goes wrong it will just issue a warning and pass. That way if there is an issue with our custom display, we'll just get Pydantics default display mechanism. Note that we're using `delegates` here, so the kwargs you'll see in the docs are not included in the signature. "
   ]
  },
  {
   "cell_type": "code",
   "execution_count": null,
   "id": "1add7da9-38d5-4157-b9e4-a094f6cc9139",
   "metadata": {},
   "outputs": [],
   "source": [
    "#| exports\n",
    "\n",
    "@delegates(PydanticBaseModel.model_dump) \n",
    "def model_dump_for_display(\n",
    "    model:PydanticBaseModel, #The model to by displayed\n",
    "    **kwargs\n",
    "):\n",
    "    \"\"\"Calls PydanticBaseModel.model_dump(), \n",
    "    but if there is an issue it raises a warning and passes to allow default representation.  \n",
    "\n",
    "    Delegates kwargs to PydanticBaseModel.model_dump\n",
    "    \"\"\"\n",
    "    kwargs['mode']='json'\n",
    "    try:\n",
    "        return model.model_dump(**kwargs)\n",
    "    except Exception as e:\n",
    "        logging.warning(e)\n",
    "        pass"
   ]
  },
  {
   "cell_type": "code",
   "execution_count": null,
   "id": "cfc82397-a586-4ba6-93ca-547e6358c2e0",
   "metadata": {},
   "outputs": [],
   "source": [
    "#| exports \n",
    "\n",
    "class DisplayMixin:\n",
    "    \n",
    "    def _repr_json_(self):\n",
    "        return model_dump_for_display(\n",
    "            self,\n",
    "            mode='json',\n",
    "            **self.model_config.get('repr_kwargs', {})\n",
    "        )\n",
    "\n",
    "    def _repr_html_(self):\n",
    "        return json2html.convert(\n",
    "            model_dump_for_display(self, mode='json', **self.model_config.get('repr_kwargs', {}))\n",
    "        )"
   ]
  },
  {
   "cell_type": "markdown",
   "id": "21c63a49-e38c-450b-8522-61a6b0413bab",
   "metadata": {},
   "source": [
    "::: {.callout-note}\n",
    "Because we are subclassing Pydantic's BaseModel, the docs shown here are taken from the parent class. \n",
    ":::"
   ]
  },
  {
   "cell_type": "code",
   "execution_count": null,
   "id": "147bc7bd-c89a-4727-a5bf-060a9d1cd0f0",
   "metadata": {},
   "outputs": [],
   "source": [
    "#| exports\n",
    "\n",
    "class BaseModel(PydanticBaseModel,DisplayMixin):\n",
    "    pass\n"
   ]
  },
  {
   "cell_type": "code",
   "execution_count": null,
   "id": "6ed16287-80e8-4bec-890f-e565d1454ba7",
   "metadata": {},
   "outputs": [],
   "source": [
    "from pydantic import Field,AliasGenerator\n",
    "from typing import *\n",
    "from datetime import date"
   ]
  },
  {
   "cell_type": "markdown",
   "id": "74446588-fb38-4f25-abf6-34d5a100bf28",
   "metadata": {},
   "source": [
    "### Example"
   ]
  },
  {
   "cell_type": "markdown",
   "id": "a67415b4-2791-4081-b0d0-ae409ec2c0c0",
   "metadata": {},
   "source": [
    "Note that you can customize how objects get displayed in the model_config. Here we'll choose to display the object with aliases instead of field names."
   ]
  },
  {
   "cell_type": "code",
   "execution_count": null,
   "id": "a59cadbd-8b1c-4107-bf07-1753be127abb",
   "metadata": {},
   "outputs": [],
   "source": [
    "class Project(BaseModel):\n",
    "    \"\"\"Model for capturing details about a construction project\"\"\"\n",
    "    \n",
    "    model_config = ConfigDict(\n",
    "        alias_generator=AliasGenerator(            \n",
    "            serialization_alias=lambda field_name: field_name.title().replace('_',' '),\n",
    "        ),\n",
    "        repr_kwargs={'by_alias':True} #<-- I can control how the model gets displayed in jupyter by provided kwargs to model_dump \n",
    "    )\n",
    "    \n",
    "    project_name: str = Field(..., description=\"Name of the construction project\")\n",
    "    start_date: date = Field(..., description=\"Date when the project started\")\n",
    "    end_date: Optional[date] = Field(default=None, description=\"Date when the project ended\")\n",
    "    description: Optional[str] = Field(default=None, description=\"Short description of the project\")\n",
    "    is_active: bool = Field(..., description=\"Indicates if the project is currently active\")\n",
    "    budget: Optional[Dict[str, float]] = Field(default=None, description=\"Budget with different risk assessments\")\n",
    "    employees: List[Dict[str, str]] = Field(..., description=\"List of employees working on the project\")\n",
    "    technologies_used: List[str] = Field(..., description=\"List of technologies used in the project\")\n",
    "    \n"
   ]
  },
  {
   "cell_type": "markdown",
   "id": "a1c91b79-e48d-4cad-a00c-cd596563e39e",
   "metadata": {},
   "source": [
    "In the docs, you'll see this example represented as HTML. In Jupyter Lab it get's displayed as interactive, collapsible JSON."
   ]
  },
  {
   "cell_type": "code",
   "execution_count": null,
   "id": "34078756-908d-47e6-8ac9-8110ddc906eb",
   "metadata": {},
   "outputs": [
    {
     "data": {
      "application/json": {
       "Budget": {
        "base_line": 6500000,
        "conservative": 5000000,
        "worst_case": 8000000
       },
       "Description": "A large-scale project focused on building a new highway bridge.",
       "Employees": [
        {
         "name": "Alice Johnson",
         "roll": "Project Manager"
        },
        {
         "name": "Bob Smith",
         "roll": "Engineer"
        },
        {
         "name": "Clara Davis",
         "roll": "Site Supervisor"
        }
       ],
       "End Date": null,
       "Is Active": true,
       "Project Name": "Highway Bridge Construction",
       "Start Date": "2024-01-15",
       "Technologies Used": [
        "AutoCAD",
        "Revit",
        "MS Project"
       ]
      },
      "text/html": [
       "<table border=\"1\"><tr><th>Project Name</th><td>Highway Bridge Construction</td></tr><tr><th>Start Date</th><td>2024-01-15</td></tr><tr><th>End Date</th><td>None</td></tr><tr><th>Description</th><td>A large-scale project focused on building a new highway bridge.</td></tr><tr><th>Is Active</th><td>True</td></tr><tr><th>Budget</th><td><table border=\"1\"><tr><th>conservative</th><td>5000000.0</td></tr><tr><th>base_line</th><td>6500000.0</td></tr><tr><th>worst_case</th><td>8000000.0</td></tr></table></td></tr><tr><th>Employees</th><td><table border=\"1\"><thead><tr><th>name</th><th>roll</th></tr></thead><tbody><tr><td>Alice Johnson</td><td>Project Manager</td></tr><tr><td>Bob Smith</td><td>Engineer</td></tr><tr><td>Clara Davis</td><td>Site Supervisor</td></tr></tbody></table></td></tr><tr><th>Technologies Used</th><td><ul><li>AutoCAD</li><li>Revit</li><li>MS Project</li></ul></td></tr></table>"
      ],
      "text/plain": [
       "Project(project_name='Highway Bridge Construction', start_date=datetime.date(2024, 1, 15), end_date=None, description='A large-scale project focused on building a new highway bridge.', is_active=True, budget={'conservative': 5000000.0, 'base_line': 6500000.0, 'worst_case': 8000000.0}, employees=[{'name': 'Alice Johnson', 'roll': 'Project Manager'}, {'name': 'Bob Smith', 'roll': 'Engineer'}, {'name': 'Clara Davis', 'roll': 'Site Supervisor'}], technologies_used=['AutoCAD', 'Revit', 'MS Project'])"
      ]
     },
     "execution_count": null,
     "metadata": {},
     "output_type": "execute_result"
    }
   ],
   "source": [
    "# Creating an instance of the model\n",
    "example_project = Project(\n",
    "    project_name=\"Highway Bridge Construction\",\n",
    "    start_date=date(2024, 1, 15),\n",
    "    end_date=None,\n",
    "    description=\"A large-scale project focused on building a new highway bridge.\",\n",
    "    is_active=True,\n",
    "    budget={\"conservative\": 5_000_000, \"base_line\": 6_500_000, \"worst_case\": 8_000_000},\n",
    "    employees=[\n",
    "        {\"name\": \"Alice Johnson\", \"roll\": \"Project Manager\"},\n",
    "        {\"name\": \"Bob Smith\", \"roll\": \"Engineer\"},\n",
    "        {\"name\": \"Clara Davis\", \"roll\": \"Site Supervisor\"}\n",
    "    ],\n",
    "    technologies_used=[\"AutoCAD\", \"Revit\", \"MS Project\"]\n",
    ")\n",
    "\n",
    "example_project"
   ]
  },
  {
   "cell_type": "markdown",
   "id": "88e89613-23a1-43ae-aa5e-ccb4ec5e4dff",
   "metadata": {},
   "source": [
    "## Settings"
   ]
  },
  {
   "cell_type": "markdown",
   "id": "2bebeeec-22b5-4262-9257-713ef7cb709b",
   "metadata": {},
   "source": [
    "I like to have all my settings in the same place instead of maintaining various .env files all over the place. So I've customized Pydantic's BaseSettings to read values from a central yaml file."
   ]
  },
  {
   "cell_type": "code",
   "execution_count": null,
   "id": "18f9ca49-5d59-4614-8fad-417852bab0b8",
   "metadata": {},
   "outputs": [],
   "source": [
    "#|export\n",
    "\n",
    "def read_yaml_key(file_path: str, target_key: str) -> dict:\n",
    "    \"\"\"\n",
    "    Reads values from a specific key in a YAML file and returns them as a dictionary.\n",
    "\n",
    "    :param file_path: Path to the YAML file.\n",
    "    :param target_key: The key whose values need to be extracted.\n",
    "    :return: A dictionary containing the values for the specified key.\n",
    "    \"\"\"\n",
    "    import yaml  # Ensure PyYAML is installed and imported\n",
    "\n",
    "    if not file_path:\n",
    "        return {}\n",
    "        \n",
    "    try:\n",
    "        with open(file_path, 'r') as yaml_file:\n",
    "            yaml_content = yaml.safe_load(yaml_file) or {}\n",
    "    except FileNotFoundError:\n",
    "        return {}\n",
    "    \n",
    "    return yaml_content.get(target_key, {})"
   ]
  },
  {
   "cell_type": "code",
   "execution_count": null,
   "id": "787dd392-47bf-4a56-815b-1ff4090dd1fa",
   "metadata": {},
   "outputs": [],
   "source": [
    "\n",
    "file_path = \"example_data/example_config.yaml\"\n",
    "target_key = \"eg_db_\"\n",
    "result = read_yaml_key(file_path, target_key)\n",
    "print(result)"
   ]
  },
  {
   "cell_type": "code",
   "execution_count": null,
   "id": "7fbb7d26-d02e-4711-a59d-a9bb71f3b869",
   "metadata": {},
   "outputs": [],
   "source": [
    "#|exporti \n",
    "\n",
    "class YMLSettingsSource(PydanticBaseSettingsSource):\n",
    "    \"\"\"\n",
    "    A simple settings source class that loads variables from a JSON file\n",
    "    at the project's root.\n",
    "\n",
    "    Here we happen to choose to use the `env_file_encoding` from Config\n",
    "    when reading `config.json`\n",
    "    \"\"\"\n",
    "\n",
    "    def get_field_value(\n",
    "        self, field: FieldInfo, field_name: str\n",
    "    ) -> Tuple[Any, str, bool]:\n",
    "        env_prefix = self.config.get('env_prefix')\n",
    "        file_content = read_yaml_key(\n",
    "            self.config.get('yml_settings_path'),\n",
    "            env_prefix\n",
    "        )\n",
    "\n",
    "        field_value = file_content.get(field_name)\n",
    "        return field_value, field_name, False\n",
    "\n",
    "    def prepare_field_value(\n",
    "        self, field_name: str, field: FieldInfo, value: Any, value_is_complex: bool\n",
    "    ) -> Any:\n",
    "        return value\n",
    "\n",
    "    def __call__(self) -> Dict[str, Any]:\n",
    "        d: Dict[str, Any] = {}\n",
    "\n",
    "        for field_name, field in self.settings_cls.model_fields.items():\n",
    "            field_value, field_key, value_is_complex = self.get_field_value(\n",
    "                field, field_name\n",
    "            )\n",
    "            field_value = self.prepare_field_value(\n",
    "                field_name, field, field_value, value_is_complex\n",
    "            )\n",
    "            if field_value is not None:\n",
    "                d[field_key] = field_value\n",
    "\n",
    "        return d"
   ]
  },
  {
   "cell_type": "code",
   "execution_count": null,
   "id": "32a9ad27-43e5-491e-bbb3-7c8c7a7b57f3",
   "metadata": {},
   "outputs": [],
   "source": [
    "#| export \n",
    "\n",
    "class BaseSettings(PydanticBaseSettings,DisplayMixin):\n",
    "    model_config = SettingsConfigDict(\n",
    "        yml_settings_path = Path.home() / \".humble-chuck-settings.yml\"\n",
    "    )\n",
    "\n",
    "    \n",
    "    @classmethod\n",
    "    def settings_customise_sources(\n",
    "        cls,\n",
    "        settings_cls: Type[PydanticBaseSettings],\n",
    "        init_settings: PydanticBaseSettingsSource,\n",
    "        env_settings: PydanticBaseSettingsSource,\n",
    "        dotenv_settings: PydanticBaseSettingsSource,\n",
    "        file_secret_settings: PydanticBaseSettingsSource,\n",
    "    ) -> Tuple[PydanticBaseSettingsSource, ...]:\n",
    "        return (\n",
    "            init_settings,\n",
    "            env_settings,\n",
    "            dotenv_settings,\n",
    "            YMLSettingsSource(settings_cls),\n",
    "            file_secret_settings,\n",
    "        )"
   ]
  },
  {
   "cell_type": "code",
   "execution_count": null,
   "id": "bade086e-2b76-473e-9899-f1e8b85f1b13",
   "metadata": {},
   "outputs": [],
   "source": [
    "class ExampleSettings(BaseSettings):\n",
    "    model_config = dict(\n",
    "        yml_settings_path='example_data/example_config.yaml',\n",
    "        env_prefix='eg_db_'\n",
    "    )\n",
    "    user:str\n",
    "    password: str"
   ]
  },
  {
   "cell_type": "code",
   "execution_count": null,
   "id": "2e4f640e-2c02-4496-822d-75aa4e16d4fe",
   "metadata": {},
   "outputs": [],
   "source": [
    "ExampleSettings()"
   ]
  },
  {
   "cell_type": "code",
   "execution_count": null,
   "id": "069b4e03-f63e-4107-b1f0-6a9b7d1a2392",
   "metadata": {},
   "outputs": [],
   "source": [
    "import os"
   ]
  },
  {
   "cell_type": "code",
   "execution_count": null,
   "id": "507382fe-390c-420d-a417-2f7bfac3bed8",
   "metadata": {},
   "outputs": [],
   "source": [
    "os.environ['eg_db_user'] = 'arnold'\n",
    "assert ExampleSettings().user == 'arnold'\n",
    "os.environ.pop('eg_db_user')\n",
    "assert ExampleSettings().user == 'harold'"
   ]
  },
  {
   "cell_type": "markdown",
   "id": "2419fcdf-46ff-4b22-a5a7-6961d5a166bd",
   "metadata": {},
   "source": [
    "## Generic Data Model"
   ]
  },
  {
   "cell_type": "code",
   "execution_count": null,
   "id": "722fe9e3-0484-4e89-bac0-20a596874d3d",
   "metadata": {},
   "outputs": [],
   "source": [
    "#|export\n",
    "\n",
    "DataModelT = TypeVar('DataModelT')"
   ]
  },
  {
   "cell_type": "code",
   "execution_count": null,
   "id": "1a8f8582-2212-4cef-b3c1-8a148f19fc34",
   "metadata": {},
   "outputs": [],
   "source": [
    "\n",
    "class DataModel(BaseModel,Generic[DataModelT],DisplayMixin):\n",
    "    \"\"\"\n",
    "    A Generic Data Model. The data attribute contains a list of objects of an arbitrary type. It is intended for use with a Pydantic model. \n",
    "    \n",
    "    Supports rich __repr__ displays in HTML and Javascript for use in Jupyter Notebook and Lab, respectively. \n",
    "    \"\"\"\n",
    "    data: List[DataModelT] = []\n",
    "\n",
    "    @delegates(BaseModel.model_dump)\n",
    "    def to_dataframe(self,**kwargs):\n",
    "        \"\"\"turns `data` into a DataFrame. Delegates to `pydantic.BaseModel.model_dump` to control model serialization\"\"\"\n",
    "        data = [x.model_dump(**kwargs) for x in self.data]\n",
    "        return pd.DataFrame(data)\n",
    "\n",
    "    @classmethod\n",
    "    def display_html_schema(cls):\n",
    "        return HTML(\n",
    "            json2html.convert(\n",
    "                cls.model_json_schema(\n",
    "                    mode='serialization'\n",
    "                )\n",
    "            )\n",
    "        )\n",
    "    \n",
    "    def _repr_html_(self):\n",
    "        try:\n",
    "            df_html = self.to_dataframe().head()._repr_html_()\n",
    "            schema = self.model_json_schema()\n",
    "            html_fields = [\n",
    "                f\"<header><b>{schema_field}</b>: {schema.get(schema_field)}\\n</header>\"\n",
    "                for schema_field in ['title','description']\n",
    "            ]\n",
    "            for field in self.model_fields.keys():\n",
    "                if field!='data':\n",
    "                    html_fields.append(\n",
    "                        f'<header><b>{field}</b>: {getattr(self,field)}</header>'\n",
    "                    )\n",
    "            return ''.join(\n",
    "                x for x in html_fields + ['<header><b>DataFrame</b>: </header>',df_html]\n",
    "            )\n",
    "        except Exception as e:\n",
    "            logging.warning(e)\n",
    "            pass"
   ]
  },
  {
   "cell_type": "markdown",
   "id": "3e0d84a2-cd79-4979-81b5-dd806a353504",
   "metadata": {},
   "source": [
    "### Example DataModel"
   ]
  },
  {
   "cell_type": "code",
   "execution_count": null,
   "id": "47ab460e-5ffc-4544-b4d2-08c392d60aee",
   "metadata": {},
   "outputs": [],
   "source": [
    "import datetime as dt\n",
    "import pandas as pd\n",
    "from pydantic import Field,ConfigDict,BeforeValidator\n",
    "from typing import Annotated,Optional"
   ]
  },
  {
   "cell_type": "code",
   "execution_count": null,
   "id": "29e9cb16-1a1a-430a-84eb-b2cbb41a014d",
   "metadata": {},
   "outputs": [],
   "source": [
    "\n",
    "url = \"https://data.cityofnewyork.us/api/views/c3uy-2p5r/rows.csv?accessType=DOWNLOAD\"\n",
    "air_quality_df = pd.read_csv(url)\n",
    "air_quality_df.head()\n"
   ]
  },
  {
   "cell_type": "markdown",
   "id": "4483cf3f-8e3f-4b7e-83b5-08e564256e82",
   "metadata": {},
   "source": [
    "Create a model to represent a row of data:"
   ]
  },
  {
   "cell_type": "code",
   "execution_count": null,
   "id": "5ffe89ba-a85e-4af3-8dbd-06f2538ca15e",
   "metadata": {},
   "outputs": [],
   "source": [
    "class AirQuality(BaseModel):\n",
    "    \"\"\"An air quality measurement from the City of New York\"\"\"\n",
    "    model_config = ConfigDict(\n",
    "        coerce_numbers_to_str=True,\n",
    "        alias_generator = lambda x: x.replace('_',' ').title(),\n",
    "        \n",
    "    )\n",
    "    \n",
    "    unique_id: str = Field(alias='Unique ID')\n",
    "    indicator_id: str = Field(alias='Indicator ID')\n",
    "    name: str\n",
    "    measure: str\n",
    "    measure_info: str\n",
    "    geo_type_name: str\n",
    "    geo_join_id: str = Field(alias='Geo Join ID')\n",
    "    geo_place_name: str    \n",
    "    time_period: str\n",
    "    start_date: Annotated[\n",
    "        dt.date,\n",
    "        BeforeValidator(lambda x: dt.datetime.strptime(x,\"%m/%d/%Y\"))\n",
    "    ] = Field(alias='Start_Date')\n",
    "    data_value: float\n",
    "    "
   ]
  },
  {
   "cell_type": "code",
   "execution_count": null,
   "id": "e97effc5-8028-4a62-bf7c-f78e2328878f",
   "metadata": {},
   "outputs": [],
   "source": [
    "AirQuality.model_validate(\n",
    "    air_quality_df.to_dict('records')[0]\n",
    ")"
   ]
  },
  {
   "cell_type": "code",
   "execution_count": null,
   "id": "5c955cd4-0024-483e-af9b-8fa8b4a6ed05",
   "metadata": {},
   "outputs": [],
   "source": [
    "class AirQualityData(DataModel[AirQuality]):\n",
    "    \"\"\"Air quality measurements from the City of New York.\"\"\"\n",
    "    source: str = \"https://data.cityofnewyork.us/api/views/c3uy-2p5r/rows.csv?accessType=DOWNLOAD\"\n",
    "    accessed_at: dt.datetime = Field(default_factory=dt.datetime.now)\n",
    "\n",
    "    def __init__(\n",
    "        self,\n",
    "        source:str = \"https://data.cityofnewyork.us/api/views/c3uy-2p5r/rows.csv?accessType=DOWNLOAD\",\n",
    "    ):\n",
    "        \n",
    "        data = pd.read_csv(source)\n",
    "        super().__init__(source=source,data = data.to_dict('records'))"
   ]
  },
  {
   "cell_type": "code",
   "execution_count": null,
   "id": "d632a491-7e5d-4907-b420-54008c36056e",
   "metadata": {},
   "outputs": [],
   "source": [
    "AirQualityData()"
   ]
  },
  {
   "cell_type": "code",
   "execution_count": null,
   "id": "8a122c20-0a80-489f-b970-f4e5fad2e2df",
   "metadata": {},
   "outputs": [],
   "source": []
  }
 ],
 "metadata": {
  "kernelspec": {
   "display_name": "python3",
   "language": "python",
   "name": "python3"
  }
 },
 "nbformat": 4,
 "nbformat_minor": 5
}
