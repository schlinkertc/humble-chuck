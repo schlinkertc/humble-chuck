{
 "cells": [
  {
   "cell_type": "code",
   "execution_count": null,
   "metadata": {},
   "outputs": [],
   "source": [
    "#| hide\n",
    "from humble_chuck.core import *"
   ]
  },
  {
   "cell_type": "markdown",
   "metadata": {},
   "source": [
    "# I'm Charlie\n",
    "\n",
    "> And welcome to my personal site."
   ]
  },
  {
   "cell_type": "markdown",
   "metadata": {},
   "source": [
    "## About Me"
   ]
  },
  {
   "cell_type": "markdown",
   "metadata": {},
   "source": [
    "**I’m a software developer and problem solver with a strong focus on Python and data-driven solutions.** From building custom tools for data visualization to optimizing real estate investment strategies with complex calculations like levered IRR, I love finding creative, efficient ways to tackle challenges. I have a deep interest in coding, cloud technology, and real estate analytics, and I’m constantly learning new ways to improve workflows and outcomes.\n",
    "\n",
    "Outside of my work in tech, I’m a lifelong musician. I studied jazz performance at NYU, and co-founded the band Del Water Gap. I’ve performed with Maggie Rogers and have been gigging in NYC since I was 16, balancing my passion for music with my love for coding and problem-solving."
   ]
  },
  {
   "cell_type": "markdown",
   "metadata": {},
   "source": [
    "**I made this site using NBDev**"
   ]
  },
  {
   "cell_type": "code",
   "execution_count": null,
   "metadata": {},
   "outputs": [],
   "source": []
  }
 ],
 "metadata": {
  "kernelspec": {
   "display_name": "python3",
   "language": "python",
   "name": "python3"
  }
 },
 "nbformat": 4,
 "nbformat_minor": 4
}
