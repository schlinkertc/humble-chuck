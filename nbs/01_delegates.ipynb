{
 "cells": [
  {
   "cell_type": "code",
   "execution_count": null,
   "id": "33129694-4832-4b34-8759-008245f0998e",
   "metadata": {},
   "outputs": [],
   "source": [
    "#| default_exp delegation"
   ]
  },
  {
   "cell_type": "markdown",
   "id": "82b85935-bcba-435b-8881-46a697698cab",
   "metadata": {},
   "source": [
    "# Delegation\n",
    "> A decorator that allows us to share parameters from one function to another"
   ]
  },
  {
   "cell_type": "markdown",
   "id": "8eb4f09a-a674-44aa-992e-e1c0c03b49ab",
   "metadata": {},
   "source": [
    "This function is adapted from [this brilliant blog post](https://www.fast.ai/posts/2019-08-06-delegation.html#solving-the-problem-with-delegated-composition) by **Jeremy Howard** that outlines the advantages of delegation in Python. Jeremy Howard is a Python idol of mine for his work on such libraries as nbdev, fastai, and more recently, FastHTML. "
   ]
  },
  {
   "cell_type": "code",
   "execution_count": null,
   "id": "596bd774-dcf0-498e-8c2c-6b8d200b0cb9",
   "metadata": {},
   "outputs": [],
   "source": [
    "#| exporti \n",
    "\n",
    "import inspect"
   ]
  },
  {
   "cell_type": "code",
   "execution_count": null,
   "id": "928d41b0-c0d9-48d2-a565-dd0bd185023d",
   "metadata": {},
   "outputs": [],
   "source": [
    "\n",
    "#|exports\n",
    "\n",
    "def delegates(to=None, keep=False):\n",
    "    \"Decorator: replace `**kwargs` in signature with params from `to`\"\n",
    "    def _f(f):\n",
    "        if to is None: to_f,from_f = f.__base__.__init__,f.__init__\n",
    "        else:          to_f,from_f = to,f\n",
    "        sig = inspect.signature(from_f)\n",
    "        sigd = dict(sig.parameters)\n",
    "        k = sigd.pop('kwargs')\n",
    "        s2 = {k:v for k,v in inspect.signature(to_f).parameters.items()\n",
    "              if \n",
    "                  # v.default != inspect.Parameter.empty and\n",
    "                  k not in sigd}\n",
    "        sigd.update(s2)\n",
    "        if keep: sigd['kwargs'] = k\n",
    "        from_f.__signature__ = sig.replace(parameters=sigd.values())\n",
    "        return f\n",
    "    return _f"
   ]
  },
  {
   "cell_type": "markdown",
   "id": "6968a3f8-2877-4a6d-b67b-85d434a01c26",
   "metadata": {},
   "source": [
    "## Example\n"
   ]
  },
  {
   "cell_type": "code",
   "execution_count": null,
   "id": "90f22e0e-8ba2-4c68-84f3-30c7fdc89d56",
   "metadata": {},
   "outputs": [],
   "source": [
    "from nbdev.showdoc import show_doc\n"
   ]
  },
  {
   "cell_type": "code",
   "execution_count": null,
   "id": "dec15685-815e-43eb-86ac-cd1e70a6ae58",
   "metadata": {},
   "outputs": [
    {
     "data": {
      "text/markdown": [
       "---\n",
       "\n",
       "### say_hi\n",
       "\n",
       ">      say_hi (name:str)"
      ],
      "text/plain": [
       "---\n",
       "\n",
       "### say_hi\n",
       "\n",
       ">      say_hi (name:str)"
      ]
     },
     "execution_count": null,
     "metadata": {},
     "output_type": "execute_result"
    }
   ],
   "source": [
    "#| echo: True\n",
    "\n",
    "def say_hi(\n",
    "    name:str \n",
    "):\n",
    "    return f\"Hi! my name is {name}.\"\n",
    "\n",
    "show_doc(say_hi)"
   ]
  },
  {
   "cell_type": "code",
   "execution_count": null,
   "id": "93d674e4-55b2-49a9-ba46-e66b4e693e09",
   "metadata": {},
   "outputs": [
    {
     "data": {
      "text/markdown": [
       "---\n",
       "\n",
       "### break_the_ice\n",
       "\n",
       ">      break_the_ice (fun_fact:str, name:str)"
      ],
      "text/plain": [
       "---\n",
       "\n",
       "### break_the_ice\n",
       "\n",
       ">      break_the_ice (fun_fact:str, name:str)"
      ]
     },
     "execution_count": null,
     "metadata": {},
     "output_type": "execute_result"
    }
   ],
   "source": [
    "@delegates(say_hi)\n",
    "def break_the_ice(\n",
    "    fun_fact:str,\n",
    "    **kwargs\n",
    "):\n",
    "    \n",
    "    hi = say_hi(name=kwargs['name'])\n",
    "    intro = hi + ' ' + fun_fact\n",
    "    return intro\n",
    "    \n",
    "\n",
    "show_doc(break_the_ice)"
   ]
  },
  {
   "cell_type": "markdown",
   "id": "6393bcff-8cc7-4407-aff5-b45c36ec25a8",
   "metadata": {},
   "source": [
    "### Common Parameters\n",
    "> Use a pydnatic model to establish common parameters accross multiple funcs. "
   ]
  },
  {
   "cell_type": "code",
   "execution_count": null,
   "id": "621a06af-cd82-4e85-8210-9a4320a0b258",
   "metadata": {},
   "outputs": [],
   "source": [
    "from humble_chuck.models import BaseModel\n",
    "import requests"
   ]
  },
  {
   "cell_type": "code",
   "execution_count": null,
   "id": "44c86cae-5757-4040-85de-b419b85749f8",
   "metadata": {},
   "outputs": [],
   "source": [
    "class CommonParams(BaseModel):\n",
    "    limit: int\n",
    "    offset: int\n",
    "    body: dict"
   ]
  },
  {
   "cell_type": "code",
   "execution_count": null,
   "id": "d317d530-baf9-4bb0-ab77-e1f11b928740",
   "metadata": {},
   "outputs": [],
   "source": [
    "@delegates(CommonParams)\n",
    "def hit_api(url,**kwargs):\n",
    "    return url"
   ]
  },
  {
   "cell_type": "code",
   "execution_count": null,
   "id": "4dcf5f2c-e509-4932-8dba-1e096249b84e",
   "metadata": {},
   "outputs": [
    {
     "data": {
      "text/markdown": [
       "---\n",
       "\n",
       "### hit_api\n",
       "\n",
       ">      hit_api (url, limit:int, offset:int, body:dict)"
      ],
      "text/plain": [
       "---\n",
       "\n",
       "### hit_api\n",
       "\n",
       ">      hit_api (url, limit:int, offset:int, body:dict)"
      ]
     },
     "execution_count": null,
     "metadata": {},
     "output_type": "execute_result"
    }
   ],
   "source": [
    "show_doc(hit_api)"
   ]
  },
  {
   "cell_type": "code",
   "execution_count": null,
   "id": "79b9b1db-cf3f-46cd-9ab5-18b466eabdf9",
   "metadata": {},
   "outputs": [],
   "source": []
  }
 ],
 "metadata": {
  "kernelspec": {
   "display_name": "python3",
   "language": "python",
   "name": "python3"
  }
 },
 "nbformat": 4,
 "nbformat_minor": 5
}
